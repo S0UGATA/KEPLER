{
 "cells": [
  {
   "cell_type": "code",
   "execution_count": 2,
   "id": "initial_id",
   "metadata": {
    "ExecuteTime": {
     "end_time": "2024-05-04T23:31:10.719720Z",
     "start_time": "2024-05-04T23:31:07.099648Z"
    }
   },
   "outputs": [],
   "source": [
    "import numpy as np\n",
    "import pandas as pd\n",
    "\n",
    "from sklearn.model_selection import train_test_split"
   ]
  },
  {
   "cell_type": "code",
   "execution_count": 3,
   "id": "24f5f35e-7c8a-4406-bddd-3a205cc1503d",
   "metadata": {
    "ExecuteTime": {
     "end_time": "2024-05-04T23:31:13.513280Z",
     "start_time": "2024-05-04T23:31:13.511267Z"
    }
   },
   "outputs": [
    {
     "name": "stdout",
     "output_type": "stream",
     "text": [
      "transformer\n"
     ]
    }
   ],
   "source": [
    "import os\n",
    "\n",
    "print(os.environ['CONDA_DEFAULT_ENV'])"
   ]
  },
  {
   "cell_type": "markdown",
   "id": "cb1bf61ccb51e514",
   "metadata": {
    "collapsed": false,
    "jupyter": {
     "outputs_hidden": false
    }
   },
   "source": [
    "Get tram single label data:"
   ]
  },
  {
   "cell_type": "code",
   "execution_count": 13,
   "id": "9fafa36e6fc8fdee",
   "metadata": {
    "ExecuteTime": {
     "end_time": "2024-05-04T23:31:22.202995Z",
     "start_time": "2024-05-04T23:31:21.713687Z"
    },
    "collapsed": false,
    "jupyter": {
     "outputs_hidden": false
    }
   },
   "outputs": [
    {
     "name": "stderr",
     "output_type": "stream",
     "text": [
      "--2024-05-05 01:43:20--  https://raw.githubusercontent.com/center-for-threat-informed-defense/tram/main/data/tram2-data/single_label.json\n",
      "Resolving raw.githubusercontent.com (raw.githubusercontent.com)... 185.199.109.133, 185.199.108.133, 185.199.111.133, ...\n",
      "Connecting to raw.githubusercontent.com (raw.githubusercontent.com)|185.199.109.133|:443... connected.\n",
      "HTTP request sent, awaiting response... 200 OK\n",
      "Length: 1024483 (1000K) [text/plain]\n",
      "Saving to: ‘../data/input/single_label.json’\n",
      "\n",
      "     0K .......... .......... .......... .......... ..........  4% 55.8M 0s\n",
      "    50K .......... .......... .......... .......... ..........  9% 69.1M 0s\n",
      "   100K .......... .......... .......... .......... .......... 14%  207M 0s\n",
      "   150K .......... .......... .......... .......... .......... 19%  114M 0s\n",
      "   200K .......... .......... .......... .......... .......... 24%  231M 0s\n",
      "   250K .......... .......... .......... .......... .......... 29%  308M 0s\n",
      "   300K .......... .......... .......... .......... .......... 34%  311M 0s\n",
      "   350K .......... .......... .......... .......... .......... 39%  351M 0s\n",
      "   400K .......... .......... .......... .......... .......... 44%  256M 0s\n",
      "   450K .......... .......... .......... .......... .......... 49%  290M 0s\n",
      "   500K .......... .......... .......... .......... .......... 54%  291M 0s\n",
      "   550K .......... .......... .......... .......... .......... 59%  261M 0s\n",
      "   600K .......... .......... .......... .......... .......... 64%  241M 0s\n",
      "   650K .......... .......... .......... .......... .......... 69%  362M 0s\n",
      "   700K .......... .......... .......... .......... .......... 74%  357M 0s\n",
      "   750K .......... .......... .......... .......... .......... 79%  357M 0s\n",
      "   800K .......... .......... .......... .......... .......... 84%  322M 0s\n",
      "   850K .......... .......... .......... .......... .......... 89%  350M 0s\n",
      "   900K .......... .......... .......... .......... .......... 94%  357M 0s\n",
      "   950K .......... .......... .......... .......... .......... 99%  355M 0s\n",
      "  1000K                                                       100%  900G=0.005s\n",
      "\n",
      "2024-05-05 01:43:20 (203 MB/s) - ‘../data/input/single_label.json’ saved [1024483/1024483]\n",
      "\n"
     ]
    }
   ],
   "source": [
    "%%bash\n",
    "\n",
    "mkdir -p ../data/input\n",
    "wget -O ../data/input/single_label.json https://raw.githubusercontent.com/center-for-threat-informed-defense/tram/main/data/tram2-data/single_label.json"
   ]
  },
  {
   "cell_type": "markdown",
   "id": "599d97678482b091",
   "metadata": {
    "collapsed": false,
    "jupyter": {
     "outputs_hidden": false
    }
   },
   "source": [
    "In this version, we will consider the text, tactic and document title, all 3 of them as nodes.\n",
    "The ontology then will be:\n",
    "\n",
    "Nodes: \n",
    "    text, technique, doc_title\n",
    "    \n",
    "Relationships: \n",
    "    uses, found-in\n",
    "\n",
    "Graph triple types will be:\n",
    "    text uses technique\n",
    "    text found-in doc_title\n",
    "    technique found-in doc_title"
   ]
  },
  {
   "cell_type": "code",
   "execution_count": 14,
   "id": "7f78d849a99e5804",
   "metadata": {
    "ExecuteTime": {
     "end_time": "2024-05-04T23:31:24.253187Z",
     "start_time": "2024-05-04T23:31:24.239770Z"
    },
    "collapsed": false,
    "jupyter": {
     "outputs_hidden": false
    }
   },
   "outputs": [],
   "source": [
    "data = pd.read_json('../data/input/single_label.json')"
   ]
  },
  {
   "cell_type": "code",
   "execution_count": 15,
   "id": "f9065632917dda87",
   "metadata": {
    "ExecuteTime": {
     "end_time": "2024-05-04T23:31:25.646370Z",
     "start_time": "2024-05-04T23:31:25.633281Z"
    },
    "collapsed": false,
    "jupyter": {
     "outputs_hidden": false
    }
   },
   "outputs": [
    {
     "data": {
      "text/html": [
       "<div>\n",
       "<style scoped>\n",
       "    .dataframe tbody tr th:only-of-type {\n",
       "        vertical-align: middle;\n",
       "    }\n",
       "\n",
       "    .dataframe tbody tr th {\n",
       "        vertical-align: top;\n",
       "    }\n",
       "\n",
       "    .dataframe thead th {\n",
       "        text-align: right;\n",
       "    }\n",
       "</style>\n",
       "<table border=\"1\" class=\"dataframe\">\n",
       "  <thead>\n",
       "    <tr style=\"text-align: right;\">\n",
       "      <th></th>\n",
       "      <th>text</th>\n",
       "      <th>label</th>\n",
       "      <th>doc_title</th>\n",
       "    </tr>\n",
       "  </thead>\n",
       "  <tbody>\n",
       "    <tr>\n",
       "      <th>0</th>\n",
       "      <td>This file extracts credentials from LSASS simi...</td>\n",
       "      <td>T1003.001</td>\n",
       "      <td>NotPetya Technical Analysis  A Triple Threat F...</td>\n",
       "    </tr>\n",
       "    <tr>\n",
       "      <th>1</th>\n",
       "      <td>It calls OpenProcess on lsass.exe with access ...</td>\n",
       "      <td>T1003.001</td>\n",
       "      <td>NotPetya Technical Analysis  A Triple Threat F...</td>\n",
       "    </tr>\n",
       "    <tr>\n",
       "      <th>2</th>\n",
       "      <td>It spreads to Microsoft Windows machines using...</td>\n",
       "      <td>T1210</td>\n",
       "      <td>NotPetya Technical Analysis  A Triple Threat F...</td>\n",
       "    </tr>\n",
       "    <tr>\n",
       "      <th>3</th>\n",
       "      <td>SMB exploitation via EternalBlue</td>\n",
       "      <td>T1210</td>\n",
       "      <td>NotPetya Technical Analysis  A Triple Threat F...</td>\n",
       "    </tr>\n",
       "    <tr>\n",
       "      <th>4</th>\n",
       "      <td>SMBv1 Exploitation via EternalBlue</td>\n",
       "      <td>T1210</td>\n",
       "      <td>NotPetya Technical Analysis  A Triple Threat F...</td>\n",
       "    </tr>\n",
       "    <tr>\n",
       "      <th>...</th>\n",
       "      <td>...</td>\n",
       "      <td>...</td>\n",
       "      <td>...</td>\n",
       "    </tr>\n",
       "    <tr>\n",
       "      <th>5084</th>\n",
       "      <td>collects local files and information from the ...</td>\n",
       "      <td>T1005</td>\n",
       "      <td>AA21076A TrickBot Malware</td>\n",
       "    </tr>\n",
       "    <tr>\n",
       "      <th>5085</th>\n",
       "      <td>uses HTTPS to communicate with its C2 servers</td>\n",
       "      <td>T1071.001</td>\n",
       "      <td>AA21076A TrickBot Malware</td>\n",
       "    </tr>\n",
       "    <tr>\n",
       "      <th>5086</th>\n",
       "      <td>samples have used HTTP over ports 447 and 8082...</td>\n",
       "      <td>T1071.001</td>\n",
       "      <td>AA21076A TrickBot Malware</td>\n",
       "    </tr>\n",
       "    <tr>\n",
       "      <th>5087</th>\n",
       "      <td>downloads several additional files and saves t...</td>\n",
       "      <td>T1105</td>\n",
       "      <td>AA21076A TrickBot Malware</td>\n",
       "    </tr>\n",
       "    <tr>\n",
       "      <th>5088</th>\n",
       "      <td>uses a custom crypter leveraging Microsoft’s C...</td>\n",
       "      <td>T1573.001</td>\n",
       "      <td>AA21076A TrickBot Malware</td>\n",
       "    </tr>\n",
       "  </tbody>\n",
       "</table>\n",
       "<p>5089 rows × 3 columns</p>\n",
       "</div>"
      ],
      "text/plain": [
       "                                                   text      label  \\\n",
       "0     This file extracts credentials from LSASS simi...  T1003.001   \n",
       "1     It calls OpenProcess on lsass.exe with access ...  T1003.001   \n",
       "2     It spreads to Microsoft Windows machines using...      T1210   \n",
       "3                      SMB exploitation via EternalBlue      T1210   \n",
       "4                    SMBv1 Exploitation via EternalBlue      T1210   \n",
       "...                                                 ...        ...   \n",
       "5084  collects local files and information from the ...      T1005   \n",
       "5085      uses HTTPS to communicate with its C2 servers  T1071.001   \n",
       "5086  samples have used HTTP over ports 447 and 8082...  T1071.001   \n",
       "5087  downloads several additional files and saves t...      T1105   \n",
       "5088  uses a custom crypter leveraging Microsoft’s C...  T1573.001   \n",
       "\n",
       "                                              doc_title  \n",
       "0     NotPetya Technical Analysis  A Triple Threat F...  \n",
       "1     NotPetya Technical Analysis  A Triple Threat F...  \n",
       "2     NotPetya Technical Analysis  A Triple Threat F...  \n",
       "3     NotPetya Technical Analysis  A Triple Threat F...  \n",
       "4     NotPetya Technical Analysis  A Triple Threat F...  \n",
       "...                                                 ...  \n",
       "5084                          AA21076A TrickBot Malware  \n",
       "5085                          AA21076A TrickBot Malware  \n",
       "5086                          AA21076A TrickBot Malware  \n",
       "5087                          AA21076A TrickBot Malware  \n",
       "5088                          AA21076A TrickBot Malware  \n",
       "\n",
       "[5089 rows x 3 columns]"
      ]
     },
     "execution_count": 15,
     "metadata": {},
     "output_type": "execute_result"
    }
   ],
   "source": [
    "data"
   ]
  },
  {
   "cell_type": "markdown",
   "id": "c5a11df2ebf91f89",
   "metadata": {
    "collapsed": false,
    "jupyter": {
     "outputs_hidden": false
    }
   },
   "source": [
    "Getting all unique labels, doc_titles and text:"
   ]
  },
  {
   "cell_type": "code",
   "execution_count": 16,
   "id": "30af359f89d46de8",
   "metadata": {
    "ExecuteTime": {
     "end_time": "2024-05-04T23:31:38.682092Z",
     "start_time": "2024-05-04T23:31:38.676182Z"
    },
    "collapsed": false,
    "jupyter": {
     "outputs_hidden": false
    }
   },
   "outputs": [
    {
     "data": {
      "text/plain": [
       "array(['T1003.001', 'T1210', 'T1570', 'T1140', 'T1218.011', 'T1059.003',\n",
       "       'T1057', 'T1518.001', 'T1106', 'T1082', 'T1016', 'T1078', 'T1047',\n",
       "       'T1027', 'T1056.001', 'T1083', 'T1053.005', 'T1070.004', 'T1105',\n",
       "       'T1090', 'T1005', 'T1574.002', 'T1071.001', 'T1484.001',\n",
       "       'T1204.002', 'T1055', 'T1562.001', 'T1033', 'T1566.001', 'T1219',\n",
       "       'T1547.001', 'T1021.001', 'T1543.003', 'T1569.002', 'T1036.005',\n",
       "       'T1112', 'T1041', 'T1110', 'T1190', 'T1564.001', 'T1113',\n",
       "       'T1573.001', 'T1095', 'T1552.001', 'T1012', 'T1074.001',\n",
       "       'T1548.002', 'T1068', 'T1072', 'T1557.001'], dtype=object)"
      ]
     },
     "execution_count": 16,
     "metadata": {},
     "output_type": "execute_result"
    }
   ],
   "source": [
    "all_techniques = data['label'].explode().dropna().unique()\n",
    "all_techniques"
   ]
  },
  {
   "cell_type": "code",
   "execution_count": 17,
   "id": "5939cf32370a6f08",
   "metadata": {
    "ExecuteTime": {
     "end_time": "2024-05-04T23:31:39.702660Z",
     "start_time": "2024-05-04T23:31:39.698261Z"
    }
   },
   "outputs": [
    {
     "data": {
      "text/plain": [
       "label\n",
       "T1003.001    108\n",
       "T1005         64\n",
       "T1012         26\n",
       "T1016         55\n",
       "T1021.001     94\n",
       "T1027        685\n",
       "T1033         49\n",
       "T1036.005     68\n",
       "T1041         82\n",
       "T1047         75\n",
       "T1053.005    106\n",
       "T1055        283\n",
       "T1056.001     65\n",
       "T1057         82\n",
       "T1059.003    345\n",
       "T1068         10\n",
       "T1070.004     86\n",
       "T1071.001    146\n",
       "T1072         10\n",
       "T1074.001     25\n",
       "T1078        170\n",
       "T1082        137\n",
       "T1083         98\n",
       "T1090        139\n",
       "T1095         50\n",
       "T1105        262\n",
       "T1106        202\n",
       "T1110         64\n",
       "T1112        104\n",
       "T1113         49\n",
       "T1140        455\n",
       "T1190         51\n",
       "T1204.002     87\n",
       "T1210         16\n",
       "T1218.011     53\n",
       "T1219         52\n",
       "T1484.001     23\n",
       "T1518.001     36\n",
       "T1543.003     50\n",
       "T1547.001     63\n",
       "T1548.002     27\n",
       "T1552.001     20\n",
       "T1557.001      4\n",
       "T1562.001     95\n",
       "T1564.001     17\n",
       "T1566.001     86\n",
       "T1569.002     23\n",
       "T1570         58\n",
       "T1573.001     53\n",
       "T1574.002     81\n",
       "dtype: int64"
      ]
     },
     "execution_count": 17,
     "metadata": {},
     "output_type": "execute_result"
    }
   ],
   "source": [
    "freq = data.groupby(\"label\").size()\n",
    "freq"
   ]
  },
  {
   "cell_type": "code",
   "execution_count": 18,
   "id": "37005b13e7409616",
   "metadata": {
    "ExecuteTime": {
     "end_time": "2024-05-04T23:31:40.996442Z",
     "start_time": "2024-05-04T23:31:40.992269Z"
    },
    "collapsed": false,
    "jupyter": {
     "outputs_hidden": false
    }
   },
   "outputs": [
    {
     "data": {
      "text/plain": [
       "array(['NotPetya Technical Analysis  A Triple Threat File Encryption MFT Encryption Credential Theft',\n",
       "       'Earth Zhulong Familiar Patterns Target Southeast Asian Firms',\n",
       "       'Malware Spotlight Camaro Dragons TinyNote Backdoor',\n",
       "       'Rorschach  A New Sophisticated and Fast Ransomware  Check Point Research',\n",
       "       'Bypassing Intel CET with Counterfeit Objects  OffSec',\n",
       "       'Emotet Strikes Again  LNK File Leads to Domain Wide Ransomware  The DFIR Report',\n",
       "       'Malware Analysis LummaC2 Stealer',\n",
       "       'FedEx Phishing Campaign Abusing TrustedForm and PAAY',\n",
       "       'Take a NetWalk on the Wild Side',\n",
       "       'Malicious OAuth applications used to compromise email servers and spread spam  Microsoft Security Blog',\n",
       "       'Nefilim Ransomware',\n",
       "       'Deja Vu All Over Again Tax Scammers at Large',\n",
       "       'Threat Assessment Black Basta Ransomware',\n",
       "       'Hafniuminspired cyberattacks neutralized by AI',\n",
       "       'eSentire Threat Intelligence Malware Analysis BatLoader',\n",
       "       'Early Bird Catches the Wormhole Observations from the StellarParticle Campaign',\n",
       "       '3CXDesktopApp Backdoored in a Suspected Lazarus Campaign\\xa0\\xa0',\n",
       "       'Not just an infostealer Gopuram backdoor deployed through 3CX supply chain attack',\n",
       "       'AA21200A Tactics Techniques and Procedures of Indicted APT40 Actors Associated with Chinas MSS Hainan State Security Department',\n",
       "       'Operation Spalax Targeted malware attacks in Colombia',\n",
       "       'LAPSUS Recent techniques tactics and procedures',\n",
       "       'Detecting Credential Stealing Attacks Through Active InNetwork Defense',\n",
       "       'Understanding DNS attacks Identifying and patching vulnerabilities  Snyk',\n",
       "       'EvilExtractor  AllinOne Stealer',\n",
       "       'LockBit 20 How This RaaS Operates and How to Protect Against It',\n",
       "       'SOC Team Essentials  How to Investigate and Track the 8220 Gang Cloud Threat',\n",
       "       'Fantasy  a new Agrius wiper deployed through a supplychain attack',\n",
       "       'AA22320A Iranian GovernmentSponsored APT Actors Compromise Federal Network Deploy Crypto Miner Credential Harvester',\n",
       "       'New Horabot campaign targets the Americas',\n",
       "       'Vice Society leverages PrintNightmare in ransomware attacks',\n",
       "       'UNC215 Spotlight on a Chinese Espionage Campaign in Israel',\n",
       "       'Dark Web Profile MuddyWater APT Group',\n",
       "       'Cobalt Strike a Defenders Guide  Part 2',\n",
       "       'Tailoring Sandbox Techniques to Hidden Threats',\n",
       "       'Babadeda Crypter targeting crypto NFT and DeFi communities',\n",
       "       'Threat Assessment BlackCat Ransomware',\n",
       "       'AA21200B Chinese StateSponsored Cyber Operations Observed TTPs',\n",
       "       'Vulnerability in Essential Addons for Elementor Leads to Mass Infection',\n",
       "       'StopRansomware Royal Ransomware',\n",
       "       'GuLoader VBScript Variant Returns with PowerShell Updates',\n",
       "       'Xollam the Latest Face of TargetCompany',\n",
       "       'Operation Tainted Love  Chinese APTs Target Telcos in New Attacks',\n",
       "       'Defending Users NAS Devices From Evolving Threats',\n",
       "       'Enigma Stealer Targets Cryptocurrency Industry with Fake Jobs',\n",
       "       'ExConti and FIN7 Actors Collaborate with New Domino Backdoor',\n",
       "       'Fat Cats',\n",
       "       'Analysis on recent wiper attacks examples and how wiper malware works',\n",
       "       'Higaisa or Winnti APT41 backdoors old and new',\n",
       "       'Operation Harvest A Deep Dive into a Longterm Campaign',\n",
       "       'Prilex Brazilian PoS malware evolution',\n",
       "       'The Rising Trend of OneNote Documents for Malware delivery',\n",
       "       'ZeroDay Vulnerability in MOVEit Transfer Exploited for Data Theft',\n",
       "       'Iranian GovernmentSponsored APT Actors Compromise Federal Network Deploy Crypto Miner Credential Harvester',\n",
       "       'FinSpy unseen findings',\n",
       "       'Vice Society Profiling a Persistent Threat to the Education Sector',\n",
       "       'Spike in LokiBot Activity During Final Week of 2022',\n",
       "       'Nationstate threat actor Mint Sandstorm refines tradecraft to attack highvalue targets',\n",
       "       'GuLoader Demystified Unraveling its Vectored Exception Handler Approach',\n",
       "       'Pack it Secretly Earth Pretas Updated Stealthy Strategies',\n",
       "       'Malware Reverse Engineering for Beginners  Part 2',\n",
       "       'Supply Chain Risk from Gigabyte App Center Backdoor  Eclypsium  Supply Chain Security for the Modern Enterprise',\n",
       "       'Gotta Catch Em All  Understanding the NetSupport RAT Campaigns Hiding Behind Pokemon Lures',\n",
       "       'Uncommon infection methodspart 2',\n",
       "       'German users targeted with Gootkit banker or REvil ransomware',\n",
       "       'New IcedID variants shift from bank fraud to malware delivery',\n",
       "       'BumbleBee Roasts Its Way to Domain Admin',\n",
       "       'Operation CMDStealer Financially Motivated Campaign Leverages CMDBased Scripts and LOLBaS for Online Banking Theft in Portugal Peru and Mexico',\n",
       "       'AA20336A Advanced Persistent Threat Actors Targeting US Think Tanks',\n",
       "       'Do Not Cross The RedLine Stealer Detections and Analysis',\n",
       "       'Conti Team One Splinter Group Resurfaces as Royal Ransomware with Callback Phishing Attacks',\n",
       "       'Threat Advisory 3CX Softphone Supply Chain Compromise',\n",
       "       'Malware Disguised as Document from Ukraines Energoatom Delivers Havoc Demon Backdoor',\n",
       "       'In the footsteps of the Fancy Bear PowerPoint\\xa0mouseover event abused to deliver Graphite implants',\n",
       "       'Can You See It Now An Emerging LockBit Campaign',\n",
       "       'WTB Remote Mac Exploitation Via Custom URL Schemes',\n",
       "       'Dead or Alive An Emotet Story', 'Conti Ransomware',\n",
       "       'Microsoft research uncovers new Zerobot capabilities  Microsoft Security Blog',\n",
       "       'Just Because Its Old Doesnt Mean You Throw It Away Including Malware',\n",
       "       'Carbon Blacks TrueBot Detection',\n",
       "       'ITG10 Likely Targeting South Korean Entities of Interest to the Democratic Peoples Republic of Korea DPRK',\n",
       "       'Abusing cloud services to fly under the radar',\n",
       "       'Transparent Tribe APT36  PakistanAligned Threat Actor Expands Interest in Indian Education Sector',\n",
       "       'SYS01 Stealer Will Steal Your Facebook Info',\n",
       "       'Banking Trojan Techniques How Financially Motivated Malware Became Infrastructure',\n",
       "       'Tracking Traces of Malware Disguised as Hancom Office Document File and Being Distributed RedEyes',\n",
       "       'Attackers use domain fronting technique to target Myanmar with Cobalt Strike',\n",
       "       'Akira Ransomware is bringin 1988 back',\n",
       "       'WTB Adwind Trojan Circumvents Antivirus Software To Infect Your PC',\n",
       "       'Hungry for data ModPipe backdoor hits POS software used in hospitality sector',\n",
       "       'Update 2 3CX users under DLLsideloading attack What you need to know',\n",
       "       'GoBruteforcer GolangBased Botnet Actively Harvests Web Servers',\n",
       "       'The LockBit ransomware kinda comes for macOS',\n",
       "       'IronNetInjector Turlas New Malware Loading Tool',\n",
       "       'Dissecting One of APT29s Fileless WMI and PowerShell Backdoors POSHSPY',\n",
       "       'Hancitor Infection Chain Analysis An Examination of its Unpacking Routine and Execution Techniques',\n",
       "       'Smoking Out a DARKSIDE Affiliates Supply Chain Software Compromise',\n",
       "       'AA20258A Chinese Ministry of State SecurityAffiliated Cyber Threat Actor Activity',\n",
       "       'Phishing Campaign Targets Chinese Nuclear Energy Industry',\n",
       "       'Latin American Governments Targeted By Ransomware',\n",
       "       'Chinese Threat Actor Used Modified Cobalt Strike Variant to Attack Taiwanese Critical Infrastructure',\n",
       "       'OpenSource Gh0st RAT Still Haunting Inboxes 15 Years After Release',\n",
       "       'CrowdStrike Uncovers I2Pminer MacOS Mineware Variant',\n",
       "       'Evasive NoEscape Ransomware Uses Reflective DLL Injection',\n",
       "       'Stolen certificates in two waves of ransomware and wiper attacks',\n",
       "       'BlueNoroff introduces new methods bypassing MoTW',\n",
       "       'Fork in the Ice The New Era of IcedID',\n",
       "       'Kimsuky Strikes Again  New Social Engineering Campaign Aims to Steal Credentials and Gather Strategic Intelligence',\n",
       "       'Warning New attack campaign utilized a new 0day RCE vulnerability on Microsoft Exchange Server',\n",
       "       'Recent TZW Campaigns Revealed As Part of GlobeImposter Malware Family',\n",
       "       'MERCURY and DEV1084 Destructive attack on hybrid environment',\n",
       "       'ZipJar a little bit unexpected attack chain',\n",
       "       'Whos swimming in South Korean waters Meet ScarCrufts Dolphin',\n",
       "       'Iron Tigers SysUpdate Reappears Adds Linux Targeting',\n",
       "       'Unwrapping Ursnifs Gifts  The DFIR Report',\n",
       "       'Qakbot Returns to ISO Delivery For Now',\n",
       "       'BeeWare of Trigona An Emerging Ransomware Strain',\n",
       "       'SharpPanda APT Campaign Expands its Arsenal Targeting G20 Nations',\n",
       "       'Increasing The Sting of HIVE Ransomware',\n",
       "       'ViperSoftX Updates Encryption Steals Data',\n",
       "       'CISA Red Team Shares Key Findings to Improve Monitoring and Hardening of Networks',\n",
       "       'McAfee Defenders Blog NetWalker',\n",
       "       'Technical Analysis Black Basta Malware Overview',\n",
       "       'Earth Pretas Cyberespionage Campaign Hits Over 200',\n",
       "       'Updated New Evidence Emerges to Suggest WatchDog Was Behind Crypto Campaign',\n",
       "       'These arent the apps youre looking for fake installers targeting Southeast and East Asia',\n",
       "       'Tax firms targeted by precision malware attacks',\n",
       "       'BazarLoader Mocks Researchers in December 2020 Malspam Campaign',\n",
       "       'Investigation with a twist an accidental APT attack and averted data destruction',\n",
       "       'Threat actors strive to cause Tax Day headaches',\n",
       "       'Revisiting the NSISbased crypter',\n",
       "       '\\xa0LockBit Ransomware 20 Resurfaces',\n",
       "       'Too Log Didnt Read  Unknown Actor Using CLFS Log Files for Stealth',\n",
       "       'Ransom Cartel Ransomware A Possible Connection With REvil',\n",
       "       'Malicious ISO File Leads to Domain Wide Ransomware  The DFIR Report',\n",
       "       'SeroXen RAT for sale',\n",
       "       'A lookback under the TA410 umbrella Its cyberespionage TTPs and activity',\n",
       "       'When byte code bites Who checks the contents of compiled Python files',\n",
       "       'MoonBounce the dark side of UEFI firmware',\n",
       "       'Threat Actors Use MSBuild to Deliver RATs Filelessly',\n",
       "       'How to Detect Cobalt Strike',\n",
       "       'New RapperBot Campaign  We Know What You Bruting for this Time',\n",
       "       'Inside the Mind of a Cyber Attacker from Malware creation to Data Exfiltration Part 1',\n",
       "       'CatB Ransomware  File Locker Sharpens Its Claws to Steal Data with MSDTC Service DLL Hijacking',\n",
       "       'Analyzing Solorigate the compromised DLL file that started a sophisticated cyberattack and how Microsoft Defender helps protect customers',\n",
       "       'Horabot campaign targeted businesses for more than two years before finally being discovered',\n",
       "       'StopRansomware Hive Ransomware',\n",
       "       'Linux malware strengthens links between Lazarus and the 3CX supplychain attack',\n",
       "       'AA21076A TrickBot Malware'], dtype=object)"
      ]
     },
     "execution_count": 18,
     "metadata": {},
     "output_type": "execute_result"
    }
   ],
   "source": [
    "doc_titles = data['doc_title'].explode().dropna().unique()\n",
    "doc_titles"
   ]
  },
  {
   "cell_type": "code",
   "execution_count": 19,
   "id": "7afaf4f6e9d6f3cd",
   "metadata": {
    "ExecuteTime": {
     "end_time": "2024-05-04T23:31:41.942460Z",
     "start_time": "2024-05-04T23:31:41.939075Z"
    },
    "collapsed": false,
    "jupyter": {
     "outputs_hidden": false
    }
   },
   "outputs": [
    {
     "data": {
      "text/plain": [
       "array(['This file extracts credentials from LSASS similar to Mimikatz.',\n",
       "       'It calls OpenProcess on lsass.exe with access flag set to VM_READ, and looks for the modules wdigest.dll and lsasrv.dll loaded in the lsass.exe process.',\n",
       "       'It spreads to Microsoft Windows machines using several propagation methods, including the EternalBlue exploit for the CVE-2017-0144 vulnerability in the SMB service.',\n",
       "       ..., 'samples have used HTTP over ports 447 and 8082 for C2.',\n",
       "       \"downloads several additional files and saves them to the victim's machine.\",\n",
       "       'uses a custom crypter leveraging Microsoft’s CryptoAPI to encrypt C2 traffic.'],\n",
       "      dtype=object)"
      ]
     },
     "execution_count": 19,
     "metadata": {},
     "output_type": "execute_result"
    }
   ],
   "source": [
    "text = data['text'].to_numpy()\n",
    "text"
   ]
  },
  {
   "cell_type": "markdown",
   "id": "ae7539994504a132",
   "metadata": {
    "collapsed": false,
    "jupyter": {
     "outputs_hidden": false
    }
   },
   "source": [
    "Adding them all in one place labels, text, doc_titles:\n",
    "there are 50 labels, 149 doc_titles and 5089 text"
   ]
  },
  {
   "cell_type": "markdown",
   "id": "58ba20bae21e3841",
   "metadata": {},
   "source": [
    "Download the enterprise attack json file from the mitre attack github repo:\n",
    "we will then use this data to map tactics and procedures to the techniques."
   ]
  },
  {
   "cell_type": "code",
   "execution_count": 21,
   "id": "c2e9c726fa329298",
   "metadata": {},
   "outputs": [
    {
     "name": "stderr",
     "output_type": "stream",
     "text": [
      "--2024-05-05 01:43:44--  https://raw.githubusercontent.com/mitre-attack/attack-stix-data/master/enterprise-attack/enterprise-attack.json\n",
      "Resolving raw.githubusercontent.com (raw.githubusercontent.com)... 185.199.109.133, 185.199.108.133, 185.199.111.133, ...\n",
      "Connecting to raw.githubusercontent.com (raw.githubusercontent.com)|185.199.109.133|:443... connected.\n",
      "HTTP request sent, awaiting response... 200 OK\n",
      "Length: 43474692 (41M) [text/plain]\n",
      "Saving to: ‘../data/input/enterprise-attack.json’\n",
      "\n",
      "     0K .......... .......... .......... .......... ..........  0% 81.3M 1s\n",
      "    50K .......... .......... .......... .......... ..........  0% 94.3M 0s\n",
      "   100K .......... .......... .......... .......... ..........  0%  303M 0s\n",
      "   150K .......... .......... .......... .......... ..........  0%  120M 0s\n",
      "   200K .......... .......... .......... .......... ..........  0%  211M 0s\n",
      "   250K .......... .......... .......... .......... ..........  0%  361M 0s\n",
      "   300K .......... .......... .......... .......... ..........  0%  362M 0s\n",
      "   350K .......... .......... .......... .......... ..........  0%  236M 0s\n",
      "   400K .......... .......... .......... .......... ..........  1%  153M 0s\n",
      "   450K .......... .......... .......... .......... ..........  1%  358M 0s\n",
      "   500K .......... .......... .......... .......... ..........  1%  333M 0s\n",
      "   550K .......... .......... .......... .......... ..........  1%  166M 0s\n",
      "   600K .......... .......... .......... .......... ..........  1% 78.2M 0s\n",
      "   650K .......... .......... .......... .......... ..........  1%  142M 0s\n",
      "   700K .......... .......... .......... .......... ..........  1%  199M 0s\n",
      "   750K .......... .......... .......... .......... ..........  1%  286M 0s\n",
      "   800K .......... .......... .......... .......... ..........  2%  237M 0s\n",
      "   850K .......... .......... .......... .......... ..........  2%  338M 0s\n",
      "   900K .......... .......... .......... .......... ..........  2%  153M 0s\n",
      "   950K .......... .......... .......... .......... ..........  2%  246M 0s\n",
      "  1000K .......... .......... .......... .......... ..........  2%  276M 0s\n",
      "  1050K .......... .......... .......... .......... ..........  2%  357M 0s\n",
      "  1100K .......... .......... .......... .......... ..........  2%  243M 0s\n",
      "  1150K .......... .......... .......... .......... ..........  2%  330M 0s\n",
      "  1200K .......... .......... .......... .......... ..........  2%  161M 0s\n",
      "  1250K .......... .......... .......... .......... ..........  3%  206M 0s\n",
      "  1300K .......... .......... .......... .......... ..........  3%  340M 0s\n",
      "  1350K .......... .......... .......... .......... ..........  3%  274M 0s\n",
      "  1400K .......... .......... .......... .......... ..........  3%  346M 0s\n",
      "  1450K .......... .......... .......... .......... ..........  3%  301M 0s\n",
      "  1500K .......... .......... .......... .......... ..........  3%  146M 0s\n",
      "  1550K .......... .......... .......... .......... ..........  3%  284M 0s\n",
      "  1600K .......... .......... .......... .......... ..........  3%  347M 0s\n",
      "  1650K .......... .......... .......... .......... ..........  4%  206M 0s\n",
      "  1700K .......... .......... .......... .......... ..........  4%  344M 0s\n",
      "  1750K .......... .......... .......... .......... ..........  4%  346M 0s\n",
      "  1800K .......... .......... .......... .......... ..........  4%  343M 0s\n",
      "  1850K .......... .......... .......... .......... ..........  4%  299M 0s\n",
      "  1900K .......... .......... .......... .......... ..........  4%  138M 0s\n",
      "  1950K .......... .......... .......... .......... ..........  4%  280M 0s\n",
      "  2000K .......... .......... .......... .......... ..........  4%  347M 0s\n",
      "  2050K .......... .......... .......... .......... ..........  4%  214M 0s\n",
      "  2100K .......... .......... .......... .......... ..........  5%  343M 0s\n",
      "  2150K .......... .......... .......... .......... ..........  5%  345M 0s\n",
      "  2200K .......... .......... .......... .......... ..........  5%  349M 0s\n",
      "  2250K .......... .......... .......... .......... ..........  5%  300M 0s\n",
      "  2300K .......... .......... .......... .......... ..........  5%  138M 0s\n",
      "  2350K .......... .......... .......... .......... ..........  5%  278M 0s\n",
      "  2400K .......... .......... .......... .......... ..........  5%  292M 0s\n",
      "  2450K .......... .......... .......... .......... ..........  5%  290M 0s\n",
      "  2500K .......... .......... .......... .......... ..........  6%  250M 0s\n",
      "  2550K .......... .......... .......... .......... ..........  6%  163M 0s\n",
      "  2600K .......... .......... .......... .......... ..........  6%  354M 0s\n",
      "  2650K .......... .......... .......... .......... ..........  6%  315M 0s\n",
      "  2700K .......... .......... .......... .......... ..........  6%  241M 0s\n",
      "  2750K .......... .......... .......... .......... ..........  6%  342M 0s\n",
      "  2800K .......... .......... .......... .......... ..........  6%  331M 0s\n",
      "  2850K .......... .......... .......... .......... ..........  6%  206M 0s\n",
      "  2900K .......... .......... .......... .......... ..........  6%  346M 0s\n",
      "  2950K .......... .......... .......... .......... ..........  7%  334M 0s\n",
      "  3000K .......... .......... .......... .......... ..........  7%  153M 0s\n",
      "  3050K .......... .......... .......... .......... ..........  7%  269M 0s\n",
      "  3100K .......... .......... .......... .......... ..........  7%  349M 0s\n",
      "  3150K .......... .......... .......... .......... ..........  7%  233M 0s\n",
      "  3200K .......... .......... .......... .......... ..........  7%  312M 0s\n",
      "  3250K .......... .......... .......... .......... ..........  7%  279M 0s\n",
      "  3300K .......... .......... .......... .......... ..........  7%  144M 0s\n",
      "  3350K .......... .......... .......... .......... ..........  8%  342M 0s\n",
      "  3400K .......... .......... .......... .......... ..........  8%  287M 0s\n",
      "  3450K .......... .......... .......... .......... ..........  8%  254M 0s\n",
      "  3500K .......... .......... .......... .......... ..........  8%  345M 0s\n",
      "  3550K .......... .......... .......... .......... ..........  8%  267M 0s\n",
      "  3600K .......... .......... .......... .......... ..........  8%  343M 0s\n",
      "  3650K .......... .......... .......... .......... ..........  8%  289M 0s\n",
      "  3700K .......... .......... .......... .......... ..........  8%  346M 0s\n",
      "  3750K .......... .......... .......... .......... ..........  8%  328M 0s\n",
      "  3800K .......... .......... .......... .......... ..........  9%  138M 0s\n",
      "  3850K .......... .......... .......... .......... ..........  9%  232M 0s\n",
      "  3900K .......... .......... .......... .......... ..........  9%  318M 0s\n",
      "  3950K .......... .......... .......... .......... ..........  9%  346M 0s\n",
      "  4000K .......... .......... .......... .......... ..........  9%  344M 0s\n",
      "  4050K .......... .......... .......... .......... ..........  9%  132M 0s\n",
      "  4100K .......... .......... .......... .......... ..........  9%  342M 0s\n",
      "  4150K .......... .......... .......... .......... ..........  9%  330M 0s\n",
      "  4200K .......... .......... .......... .......... .......... 10%  237M 0s\n",
      "  4250K .......... .......... .......... .......... .......... 10%  307M 0s\n",
      "  4300K .......... .......... .......... .......... .......... 10%  329M 0s\n",
      "  4350K .......... .......... .......... .......... .......... 10%  263M 0s\n",
      "  4400K .......... .......... .......... .......... .......... 10%  343M 0s\n",
      "  4450K .......... .......... .......... .......... .......... 10%  131M 0s\n",
      "  4500K .......... .......... .......... .......... .......... 10%  344M 0s\n",
      "  4550K .......... .......... .......... .......... .......... 10%  332M 0s\n",
      "  4600K .......... .......... .......... .......... .......... 10%  274M 0s\n",
      "  4650K .......... .......... .......... .......... .......... 11%  312M 0s\n",
      "  4700K .......... .......... .......... .......... .......... 11%  276M 0s\n",
      "  4750K .......... .......... .......... .......... .......... 11%  152M 0s\n",
      "  4800K .......... .......... .......... .......... .......... 11%  316M 0s\n",
      "  4850K .......... .......... .......... .......... .......... 11%  224M 0s\n",
      "  4900K .......... .......... .......... .......... .......... 11%  387M 0s\n",
      "  4950K .......... .......... .......... .......... .......... 11%  366M 0s\n",
      "  5000K .......... .......... .......... .......... .......... 11%  328M 0s\n",
      "  5050K .......... .......... .......... .......... .......... 12%  351M 0s\n",
      "  5100K .......... .......... .......... .......... .......... 12%  291M 0s\n",
      "  5150K .......... .......... .......... .......... .......... 12%  385M 0s\n",
      "  5200K .......... .......... .......... .......... .......... 12%  389M 0s\n",
      "  5250K .......... .......... .......... .......... .......... 12%  133M 0s\n",
      "  5300K .......... .......... .......... .......... .......... 12%  385M 0s\n",
      "  5350K .......... .......... .......... .......... .......... 12%  368M 0s\n",
      "  5400K .......... .......... .......... .......... .......... 12%  319M 0s\n",
      "  5450K .......... .......... .......... .......... .......... 12%  345M 0s\n",
      "  5500K .......... .......... .......... .......... .......... 13%  390M 0s\n",
      "  5550K .......... .......... .......... .......... .......... 13%  148M 0s\n",
      "  5600K .......... .......... .......... .......... .......... 13%  372M 0s\n",
      "  5650K .......... .......... .......... .......... .......... 13%  247M 0s\n",
      "  5700K .......... .......... .......... .......... .......... 13%  384M 0s\n",
      "  5750K .......... .......... .......... .......... .......... 13%  379M 0s\n",
      "  5800K .......... .......... .......... .......... .......... 13%  154M 0s\n",
      "  5850K .......... .......... .......... .......... .......... 13%  343M 0s\n",
      "  5900K .......... .......... .......... .......... .......... 14%  370M 0s\n",
      "  5950K .......... .......... .......... .......... .......... 14%  311M 0s\n",
      "  6000K .......... .......... .......... .......... .......... 14%  386M 0s\n",
      "  6050K .......... .......... .......... .......... .......... 14%  247M 0s\n",
      "  6100K .......... .......... .......... .......... .......... 14%  387M 0s\n",
      "  6150K .......... .......... .......... .......... .......... 14%  371M 0s\n",
      "  6200K .......... .......... .......... .......... .......... 14%  292M 0s\n",
      "  6250K .......... .......... .......... .......... .......... 14%  346M 0s\n",
      "  6300K .......... .......... .......... .......... .......... 14%  368M 0s\n",
      "  6350K .......... .......... .......... .......... .......... 15%  150M 0s\n",
      "  6400K .......... .......... .......... .......... .......... 15%  386M 0s\n",
      "  6450K .......... .......... .......... .......... .......... 15%  248M 0s\n",
      "  6500K .......... .......... .......... .......... .......... 15%  319M 0s\n",
      "  6550K .......... .......... .......... .......... .......... 15%  388M 0s\n",
      "  6600K .......... .......... .......... .......... .......... 15%  158M 0s\n",
      "  6650K .......... .......... .......... .......... .......... 15%  348M 0s\n",
      "  6700K .......... .......... .......... .......... .......... 15%  310M 0s\n",
      "  6750K .......... .......... .......... .......... .......... 16%  294M 0s\n",
      "  6800K .......... .......... .......... .......... .......... 16%  387M 0s\n",
      "  6850K .......... .......... .......... .......... .......... 16%  307M 0s\n",
      "  6900K .......... .......... .......... .......... .......... 16%  157M 0s\n",
      "  6950K .......... .......... .......... .......... .......... 16%  391M 0s\n",
      "  7000K .......... .......... .......... .......... .......... 16%  330M 0s\n",
      "  7050K .......... .......... .......... .......... .......... 16%  345M 0s\n",
      "  7100K .......... .......... .......... .......... .......... 16%  393M 0s\n",
      "  7150K .......... .......... .......... .......... .......... 16%  367M 0s\n",
      "  7200K .......... .......... .......... .......... .......... 17%  251M 0s\n",
      "  7250K .......... .......... .......... .......... .......... 17%  319M 0s\n",
      "  7300K .......... .......... .......... .......... .......... 17%  155M 0s\n",
      "  7350K .......... .......... .......... .......... .......... 17%  338M 0s\n",
      "  7400K .......... .......... .......... .......... .......... 17%  387M 0s\n",
      "  7450K .......... .......... .......... .......... .......... 17%  336M 0s\n",
      "  7500K .......... .......... .......... .......... .......... 17%  318M 0s\n",
      "  7550K .......... .......... .......... .......... .......... 17%  324M 0s\n",
      "  7600K .......... .......... .......... .......... .......... 18%  386M 0s\n",
      "  7650K .......... .......... .......... .......... .......... 18%  309M 0s\n",
      "  7700K .......... .......... .......... .......... .......... 18%  155M 0s\n",
      "  7750K .......... .......... .......... .......... .......... 18%  390M 0s\n",
      "  7800K .......... .......... .......... .......... .......... 18%  374M 0s\n",
      "  7850K .......... .......... .......... .......... .......... 18%  309M 0s\n",
      "  7900K .......... .......... .......... .......... .......... 18%  392M 0s\n",
      "  7950K .......... .......... .......... .......... .......... 18%  313M 0s\n",
      "  8000K .......... .......... .......... .......... .......... 18%  158M 0s\n",
      "  8050K .......... .......... .......... .......... .......... 19%  321M 0s\n",
      "  8100K .......... .......... .......... .......... .......... 19%  375M 0s\n",
      "  8150K .......... .......... .......... .......... .......... 19%  303M 0s\n",
      "  8200K .......... .......... .......... .......... .......... 19%  314M 0s\n",
      "  8250K .......... .......... .......... .......... .......... 19%  358M 0s\n",
      "  8300K .......... .......... .......... .......... .......... 19%  375M 0s\n",
      "  8350K .......... .......... .......... .......... .......... 19%  150M 0s\n",
      "  8400K .......... .......... .......... .......... .......... 19%  357M 0s\n",
      "  8450K .......... .......... .......... .......... .......... 20%  254M 0s\n",
      "  8500K .......... .......... .......... .......... .......... 20%  389M 0s\n",
      "  8550K .......... .......... .......... .......... .......... 20%  374M 0s\n",
      "  8600K .......... .......... .......... .......... .......... 20%  324M 0s\n",
      "  8650K .......... .......... .......... .......... .......... 20%  291M 0s\n",
      "  8700K .......... .......... .......... .......... .......... 20%  385M 0s\n",
      "  8750K .......... .......... .......... .......... .......... 20%  379M 0s\n",
      "  8800K .......... .......... .......... .......... .......... 20%  154M 0s\n",
      "  8850K .......... .......... .......... .......... .......... 20%  322M 0s\n",
      "  8900K .......... .......... .......... .......... .......... 21%  368M 0s\n",
      "  8950K .......... .......... .......... .......... .......... 21%  258M 0s\n",
      "  9000K .......... .......... .......... .......... .......... 21%  391M 0s\n",
      "  9050K .......... .......... .......... .......... .......... 21%  349M 0s\n",
      "  9100K .......... .......... .......... .......... .......... 21%  369M 0s\n",
      "  9150K .......... .......... .......... .......... .......... 21%  156M 0s\n",
      "  9200K .......... .......... .......... .......... .......... 21%  386M 0s\n",
      "  9250K .......... .......... .......... .......... .......... 21%  255M 0s\n",
      "  9300K .......... .......... .......... .......... .......... 22%  322M 0s\n",
      "  9350K .......... .......... .......... .......... .......... 22%  391M 0s\n",
      "  9400K .......... .......... .......... .......... .......... 22%  388M 0s\n",
      "  9450K .......... .......... .......... .......... .......... 22%  146M 0s\n",
      "  9500K .......... .......... .......... .......... .......... 22%  390M 0s\n",
      "  9550K .......... .......... .......... .......... .......... 22%  391M 0s\n",
      "  9600K .......... .......... .......... .......... .......... 22%  287M 0s\n",
      "  9650K .......... .......... .......... .......... .......... 22%  273M 0s\n",
      "  9700K .......... .......... .......... .......... .......... 22%  393M 0s\n",
      "  9750K .......... .......... .......... .......... .......... 23%  374M 0s\n",
      "  9800K .......... .......... .......... .......... .......... 23%  300M 0s\n",
      "  9850K .......... .......... .......... .......... .......... 23%  163M 0s\n",
      "  9900K .......... .......... .......... .......... .......... 23%  232M 0s\n",
      "  9950K .......... .......... .......... .......... .......... 23%  278M 0s\n",
      " 10000K .......... .......... .......... .......... .......... 23%  317M 0s\n",
      " 10050K .......... .......... .......... .......... .......... 23%  127M 0s\n",
      " 10100K .......... .......... .......... .......... .......... 23%  376M 0s\n",
      " 10150K .......... .......... .......... .......... .......... 24%  315M 0s\n",
      " 10200K .......... .......... .......... .......... .......... 24%  385M 0s\n",
      " 10250K .......... .......... .......... .......... .......... 24%  356M 0s\n",
      " 10300K .......... .......... .......... .......... .......... 24%  320M 0s\n",
      " 10350K .......... .......... .......... .......... .......... 24%  301M 0s\n",
      " 10400K .......... .......... .......... .......... .......... 24%  386M 0s\n",
      " 10450K .......... .......... .......... .......... .......... 24%  320M 0s\n",
      " 10500K .......... .......... .......... .......... .......... 24%  283M 0s\n",
      " 10550K .......... .......... .......... .......... .......... 24%  171M 0s\n",
      " 10600K .......... .......... .......... .......... .......... 25%  371M 0s\n",
      " 10650K .......... .......... .......... .......... .......... 25%  273M 0s\n",
      " 10700K .......... .......... .......... .......... .......... 25%  352M 0s\n",
      " 10750K .......... .......... .......... .......... .......... 25%  358M 0s\n",
      " 10800K .......... .......... .......... .......... .......... 25%  288M 0s\n",
      " 10850K .......... .......... .......... .......... .......... 25%  281M 0s\n",
      " 10900K .......... .......... .......... .......... .......... 25%  391M 0s\n",
      " 10950K .......... .......... .......... .......... .......... 25%  357M 0s\n",
      " 11000K .......... .......... .......... .......... .......... 26%  144M 0s\n",
      " 11050K .......... .......... .......... .......... .......... 26%  341M 0s\n",
      " 11100K .......... .......... .......... .......... .......... 26%  316M 0s\n",
      " 11150K .......... .......... .......... .......... .......... 26%  390M 0s\n",
      " 11200K .......... .......... .......... .......... .......... 26%  386M 0s\n",
      " 11250K .......... .......... .......... .......... .......... 26%  273M 0s\n",
      " 11300K .......... .......... .......... .......... .......... 26%  157M 0s\n",
      " 11350K .......... .......... .......... .......... .......... 26%  384M 0s\n",
      " 11400K .......... .......... .......... .......... .......... 26%  285M 0s\n",
      " 11450K .......... .......... .......... .......... .......... 27%  349M 0s\n",
      " 11500K .......... .......... .......... .......... .......... 27%  388M 0s\n",
      " 11550K .......... .......... .......... .......... .......... 27%  310M 0s\n",
      " 11600K .......... .......... .......... .......... .......... 27%  160M 0s\n",
      " 11650K .......... .......... .......... .......... .......... 27%  323M 0s\n",
      " 11700K .......... .......... .......... .......... .......... 27%  304M 0s\n",
      " 11750K .......... .......... .......... .......... .......... 27%  279M 0s\n",
      " 11800K .......... .......... .......... .......... .......... 27%  382M 0s\n",
      " 11850K .......... .......... .......... .......... .......... 28%  353M 0s\n",
      " 11900K .......... .......... .......... .......... .......... 28%  266M 0s\n",
      " 11950K .......... .......... .......... .......... .......... 28%  162M 0s\n",
      " 12000K .......... .......... .......... .......... .......... 28%  367M 0s\n",
      " 12050K .......... .......... .......... .......... .......... 28%  253M 0s\n",
      " 12100K .......... .......... .......... .......... .......... 28%  375M 0s\n",
      " 12150K .......... .......... .......... .......... .......... 28%  375M 0s\n",
      " 12200K .......... .......... .......... .......... .......... 28%  300M 0s\n",
      " 12250K .......... .......... .......... .......... .......... 28%  289M 0s\n",
      " 12300K .......... .......... .......... .......... .......... 29%  393M 0s\n",
      " 12350K .......... .......... .......... .......... .......... 29%  379M 0s\n",
      " 12400K .......... .......... .......... .......... .......... 29%  154M 0s\n",
      " 12450K .......... .......... .......... .......... .......... 29%  299M 0s\n",
      " 12500K .......... .......... .......... .......... .......... 29%  321M 0s\n",
      " 12550K .......... .......... .......... .......... .......... 29%  387M 0s\n",
      " 12600K .......... .......... .......... .......... .......... 29%  388M 0s\n",
      " 12650K .......... .......... .......... .......... .......... 29%  338M 0s\n",
      " 12700K .......... .......... .......... .......... .......... 30%  147M 0s\n",
      " 12750K .......... .......... .......... .......... .......... 30%  384M 0s\n",
      " 12800K .......... .......... .......... .......... .......... 30%  287M 0s\n",
      " 12850K .......... .......... .......... .......... .......... 30%  255M 0s\n",
      " 12900K .......... .......... .......... .......... .......... 30%  387M 0s\n",
      " 12950K .......... .......... .......... .......... .......... 30%  331M 0s\n",
      " 13000K .......... .......... .......... .......... .......... 30%  154M 0s\n",
      " 13050K .......... .......... .......... .......... .......... 30%  338M 0s\n",
      " 13100K .......... .......... .......... .......... .......... 30%  387M 0s\n",
      " 13150K .......... .......... .......... .......... .......... 31%  320M 0s\n",
      " 13200K .......... .......... .......... .......... .......... 31%  314M 0s\n",
      " 13250K .......... .......... .......... .......... .......... 31%  308M 0s\n",
      " 13300K .......... .......... .......... .......... .......... 31%  375M 0s\n",
      " 13350K .......... .......... .......... .......... .......... 31%  301M 0s\n",
      " 13400K .......... .......... .......... .......... .......... 31%  169M 0s\n",
      " 13450K .......... .......... .......... .......... .......... 31%  324M 0s\n",
      " 13500K .......... .......... .......... .......... .......... 31%  303M 0s\n",
      " 13550K .......... .......... .......... .......... .......... 32%  392M 0s\n",
      " 13600K .......... .......... .......... .......... .......... 32%  368M 0s\n",
      " 13650K .......... .......... .......... .......... .......... 32%  229M 0s\n",
      " 13700K .......... .......... .......... .......... .......... 32%  391M 0s\n",
      " 13750K .......... .......... .......... .......... .......... 32%  363M 0s\n",
      " 13800K .......... .......... .......... .......... .......... 32%  151M 0s\n",
      " 13850K .......... .......... .......... .......... .......... 32%  343M 0s\n",
      " 13900K .......... .......... .......... .......... .......... 32%  391M 0s\n",
      " 13950K .......... .......... .......... .......... .......... 32%  396M 0s\n",
      " 14000K .......... .......... .......... .......... .......... 33%  368M 0s\n",
      " 14050K .......... .......... .......... .......... .......... 33%  317M 0s\n",
      " 14100K .......... .......... .......... .......... .......... 33%  268M 0s\n",
      " 14150K .......... .......... .......... .......... .......... 33%  385M 0s\n",
      " 14200K .......... .......... .......... .......... .......... 33%  393M 0s\n",
      " 14250K .......... .......... .......... .......... .......... 33%  331M 0s\n",
      " 14300K .......... .......... .......... .......... .......... 33%  356M 0s\n",
      " 14350K .......... .......... .......... .......... .......... 33%  140M 0s\n",
      " 14400K .......... .......... .......... .......... .......... 34%  385M 0s\n",
      " 14450K .......... .......... .......... .......... .......... 34%  256M 0s\n",
      " 14500K .......... .......... .......... .......... .......... 34%  339M 0s\n",
      " 14550K .......... .......... .......... .......... .......... 34%  364M 0s\n",
      " 14600K .......... .......... .......... .......... .......... 34%  142M 0s\n",
      " 14650K .......... .......... .......... .......... .......... 34%  312M 0s\n",
      " 14700K .......... .......... .......... .......... .......... 34%  265M 0s\n",
      " 14750K .......... .......... .......... .......... .......... 34%  323M 0s\n",
      " 14800K .......... .......... .......... .......... .......... 34%  318M 0s\n",
      " 14850K .......... .......... .......... .......... .......... 35%  133M 0s\n",
      " 14900K .......... .......... .......... .......... .......... 35%  363M 0s\n",
      " 14950K .......... .......... .......... .......... .......... 35%  330M 0s\n",
      " 15000K .......... .......... .......... .......... .......... 35%  366M 0s\n",
      " 15050K .......... .......... .......... .......... .......... 35%  261M 0s\n",
      " 15100K .......... .......... .......... .......... .......... 35%  164M 0s\n",
      " 15150K .......... .......... .......... .......... .......... 35%  325M 0s\n",
      " 15200K .......... .......... .......... .......... .......... 35%  331M 0s\n",
      " 15250K .......... .......... .......... .......... .......... 36%  206M 0s\n",
      " 15300K .......... .......... .......... .......... .......... 36%  333M 0s\n",
      " 15350K .......... .......... .......... .......... .......... 36%  289M 0s\n",
      " 15400K .......... .......... .......... .......... .......... 36%  248M 0s\n",
      " 15450K .......... .......... .......... .......... .......... 36%  290M 0s\n",
      " 15500K .......... .......... .......... .......... .......... 36%  144M 0s\n",
      " 15550K .......... .......... .......... .......... .......... 36%  275M 0s\n",
      " 15600K .......... .......... .......... .......... .......... 36%  374M 0s\n",
      " 15650K .......... .......... .......... .......... .......... 36%  309M 0s\n",
      " 15700K .......... .......... .......... .......... .......... 37%  298M 0s\n",
      " 15750K .......... .......... .......... .......... .......... 37%  363M 0s\n",
      " 15800K .......... .......... .......... .......... .......... 37%  370M 0s\n",
      " 15850K .......... .......... .......... .......... .......... 37%  291M 0s\n",
      " 15900K .......... .......... .......... .......... .......... 37%  160M 0s\n",
      " 15950K .......... .......... .......... .......... .......... 37%  336M 0s\n",
      " 16000K .......... .......... .......... .......... .......... 37%  366M 0s\n",
      " 16050K .......... .......... .......... .......... .......... 37%  245M 0s\n",
      " 16100K .......... .......... .......... .......... .......... 38%  358M 0s\n",
      " 16150K .......... .......... .......... .......... .......... 38%  384M 0s\n",
      " 16200K .......... .......... .......... .......... .......... 38%  375M 0s\n",
      " 16250K .......... .......... .......... .......... .......... 38%  142M 0s\n",
      " 16300K .......... .......... .......... .......... .......... 38%  374M 0s\n",
      " 16350K .......... .......... .......... .......... .......... 38%  331M 0s\n",
      " 16400K .......... .......... .......... .......... .......... 38%  386M 0s\n",
      " 16450K .......... .......... .......... .......... .......... 38%  309M 0s\n",
      " 16500K .......... .......... .......... .......... .......... 38%  246M 0s\n",
      " 16550K .......... .......... .......... .......... .......... 39%  391M 0s\n",
      " 16600K .......... .......... .......... .......... .......... 39%  372M 0s\n",
      " 16650K .......... .......... .......... .......... .......... 39%  147M 0s\n",
      " 16700K .......... .......... .......... .......... .......... 39%  386M 0s\n",
      " 16750K .......... .......... .......... .......... .......... 39%  370M 0s\n",
      " 16800K .......... .......... .......... .......... .......... 39%  376M 0s\n",
      " 16850K .......... .......... .......... .......... .......... 39%  242M 0s\n",
      " 16900K .......... .......... .......... .......... .......... 39%  397M 0s\n",
      " 16950K .......... .......... .......... .......... .......... 40%  385M 0s\n",
      " 17000K .......... .......... .......... .......... .......... 40%  149M 0s\n",
      " 17050K .......... .......... .......... .......... .......... 40%  351M 0s\n",
      " 17100K .......... .......... .......... .......... .......... 40%  371M 0s\n",
      " 17150K .......... .......... .......... .......... .......... 40%  335M 0s\n",
      " 17200K .......... .......... .......... .......... .......... 40%  310M 0s\n",
      " 17250K .......... .......... .......... .......... .......... 40%  309M 0s\n",
      " 17300K .......... .......... .......... .......... .......... 40%  382M 0s\n",
      " 17350K .......... .......... .......... .......... .......... 40%  154M 0s\n",
      " 17400K .......... .......... .......... .......... .......... 41%  387M 0s\n",
      " 17450K .......... .......... .......... .......... .......... 41%  299M 0s\n",
      " 17500K .......... .......... .......... .......... .......... 41%  371M 0s\n",
      " 17550K .......... .......... .......... .......... .......... 41%  374M 0s\n",
      " 17600K .......... .......... .......... .......... .......... 41%  282M 0s\n",
      " 17650K .......... .......... .......... .......... .......... 41%  323M 0s\n",
      " 17700K .......... .......... .......... .......... .......... 41%  159M 0s\n",
      " 17750K .......... .......... .......... .......... .......... 41%  367M 0s\n",
      " 17800K .......... .......... .......... .......... .......... 42%  316M 0s\n",
      " 17850K .......... .......... .......... .......... .......... 42%  304M 0s\n",
      " 17900K .......... .......... .......... .......... .......... 42%  328M 0s\n",
      " 17950K .......... .......... .......... .......... .......... 42%  391M 0s\n",
      " 18000K .......... .......... .......... .......... .......... 42%  351M 0s\n",
      " 18050K .......... .......... .......... .......... .......... 42%  260M 0s\n",
      " 18100K .......... .......... .......... .......... .......... 42%  170M 0s\n",
      " 18150K .......... .......... .......... .......... .......... 42%  372M 0s\n",
      " 18200K .......... .......... .......... .......... .......... 42%  300M 0s\n",
      " 18250K .......... .......... .......... .......... .......... 43%  331M 0s\n",
      " 18300K .......... .......... .......... .......... .......... 43%  373M 0s\n",
      " 18350K .......... .......... .......... .......... .......... 43%  149M 0s\n",
      " 18400K .......... .......... .......... .......... .......... 43%  378M 0s\n",
      " 18450K .......... .......... .......... .......... .......... 43%  233M 0s\n",
      " 18500K .......... .......... .......... .......... .......... 43%  268M 0s\n",
      " 18550K .......... .......... .......... .......... .......... 43%  310M 0s\n",
      " 18600K .......... .......... .......... .......... .......... 43%  352M 0s\n",
      " 18650K .......... .......... .......... .......... .......... 44%  229M 0s\n",
      " 18700K .......... .......... .......... .......... .......... 44%  313M 0s\n",
      " 18750K .......... .......... .......... .......... .......... 44%  321M 0s\n",
      " 18800K .......... .......... .......... .......... .......... 44%  153M 0s\n",
      " 18850K .......... .......... .......... .......... .......... 44%  255M 0s\n",
      " 18900K .......... .......... .......... .......... .......... 44%  348M 0s\n",
      " 18950K .......... .......... .......... .......... .......... 44%  246M 0s\n",
      " 19000K .......... .......... .......... .......... .......... 44%  283M 0s\n",
      " 19050K .......... .......... .......... .......... .......... 44%  308M 0s\n",
      " 19100K .......... .......... .......... .......... .......... 45%  147M 0s\n",
      " 19150K .......... .......... .......... .......... .......... 45%  351M 0s\n",
      " 19200K .......... .......... .......... .......... .......... 45%  335M 0s\n",
      " 19250K .......... .......... .......... .......... .......... 45%  191M 0s\n",
      " 19300K .......... .......... .......... .......... .......... 45%  346M 0s\n",
      " 19350K .......... .......... .......... .......... .......... 45%  347M 0s\n",
      " 19400K .......... .......... .......... .......... .......... 45%  139M 0s\n",
      " 19450K .......... .......... .......... .......... .......... 45%  300M 0s\n",
      " 19500K .......... .......... .......... .......... .......... 46%  283M 0s\n",
      " 19550K .......... .......... .......... .......... .......... 46%  342M 0s\n",
      " 19600K .......... .......... .......... .......... .......... 46%  299M 0s\n",
      " 19650K .......... .......... .......... .......... .......... 46%  285M 0s\n",
      " 19700K .......... .......... .......... .......... .......... 46%  288M 0s\n",
      " 19750K .......... .......... .......... .......... .......... 46%  350M 0s\n",
      " 19800K .......... .......... .......... .......... .......... 46%  242M 0s\n",
      " 19850K .......... .......... .......... .......... .......... 46%  299M 0s\n",
      " 19900K .......... .......... .......... .......... .......... 46%  329M 0s\n",
      " 19950K .......... .......... .......... .......... .......... 47%  145M 0s\n",
      " 20000K .......... .......... .......... .......... .......... 47%  234M 0s\n",
      " 20050K .......... .......... .......... .......... .......... 47%  274M 0s\n",
      " 20100K .......... .......... .......... .......... .......... 47%  286M 0s\n",
      " 20150K .......... .......... .......... .......... .......... 47%  350M 0s\n",
      " 20200K .......... .......... .......... .......... .......... 47%  329M 0s\n",
      " 20250K .......... .......... .......... .......... .......... 47%  128M 0s\n",
      " 20300K .......... .......... .......... .......... .......... 47%  251M 0s\n",
      " 20350K .......... .......... .......... .......... .......... 48%  347M 0s\n",
      " 20400K .......... .......... .......... .......... .......... 48%  279M 0s\n",
      " 20450K .......... .......... .......... .......... .......... 48%  284M 0s\n",
      " 20500K .......... .......... .......... .......... .......... 48%  333M 0s\n",
      " 20550K .......... .......... .......... .......... .......... 48%  139M 0s\n",
      " 20600K .......... .......... .......... .......... .......... 48%  290M 0s\n",
      " 20650K .......... .......... .......... .......... .......... 48%  308M 0s\n",
      " 20700K .......... .......... .......... .......... .......... 48%  250M 0s\n",
      " 20750K .......... .......... .......... .......... .......... 48%  348M 0s\n",
      " 20800K .......... .......... .......... .......... .......... 49%  274M 0s\n",
      " 20850K .......... .......... .......... .......... .......... 49%  283M 0s\n",
      " 20900K .......... .......... .......... .......... .......... 49%  305M 0s\n",
      " 20950K .......... .......... .......... .......... .......... 49%  146M 0s\n",
      " 21000K .......... .......... .......... .......... .......... 49%  251M 0s\n",
      " 21050K .......... .......... .......... .......... .......... 49%  306M 0s\n",
      " 21100K .......... .......... .......... .......... .......... 49%  285M 0s\n",
      " 21150K .......... .......... .......... .......... .......... 49%  333M 0s\n",
      " 21200K .......... .......... .......... .......... .......... 50%  268M 0s\n",
      " 21250K .......... .......... .......... .......... .......... 50%  138M 0s\n",
      " 21300K .......... .......... .......... .......... .......... 50%  276M 0s\n",
      " 21350K .......... .......... .......... .......... .......... 50%  287M 0s\n",
      " 21400K .......... .......... .......... .......... .......... 50%  346M 0s\n",
      " 21450K .......... .......... .......... .......... .......... 50%  297M 0s\n",
      " 21500K .......... .......... .......... .......... .......... 50%  257M 0s\n",
      " 21550K .......... .......... .......... .......... .......... 50%  330M 0s\n",
      " 21600K .......... .......... .......... .......... .......... 50%  149M 0s\n",
      " 21650K .......... .......... .......... .......... .......... 51%  231M 0s\n",
      " 21700K .......... .......... .......... .......... .......... 51%  338M 0s\n",
      " 21750K .......... .......... .......... .......... .......... 51%  302M 0s\n",
      " 21800K .......... .......... .......... .......... .......... 51%  267M 0s\n",
      " 21850K .......... .......... .......... .......... .......... 51%  299M 0s\n",
      " 21900K .......... .......... .......... .......... .......... 51%  256M 0s\n",
      " 21950K .......... .......... .......... .......... .......... 51%  143M 0s\n",
      " 22000K .......... .......... .......... .......... .......... 51%  350M 0s\n",
      " 22050K .......... .......... .......... .......... .......... 52%  265M 0s\n",
      " 22100K .......... .......... .......... .......... .......... 52%  260M 0s\n",
      " 22150K .......... .......... .......... .......... .......... 52%  346M 0s\n",
      " 22200K .......... .......... .......... .......... .......... 52%  276M 0s\n",
      " 22250K .......... .......... .......... .......... .......... 52%  314M 0s\n",
      " 22300K .......... .......... .......... .......... .......... 52%  319M 0s\n",
      " 22350K .......... .......... .......... .......... .......... 52%  143M 0s\n",
      " 22400K .......... .......... .......... .......... .......... 52%  338M 0s\n",
      " 22450K .......... .......... .......... .......... .......... 52%  275M 0s\n",
      " 22500K .......... .......... .......... .......... .......... 53%  227M 0s\n",
      " 22550K .......... .......... .......... .......... .......... 53%  325M 0s\n",
      " 22600K .......... .......... .......... .......... .......... 53%  332M 0s\n",
      " 22650K .......... .......... .......... .......... .......... 53%  139M 0s\n",
      " 22700K .......... .......... .......... .......... .......... 53%  351M 0s\n",
      " 22750K .......... .......... .......... .......... .......... 53%  326M 0s\n",
      " 22800K .......... .......... .......... .......... .......... 53%  282M 0s\n",
      " 22850K .......... .......... .......... .......... .......... 53%  241M 0s\n",
      " 22900K .......... .......... .......... .......... .......... 54%  349M 0s\n",
      " 22950K .......... .......... .......... .......... .......... 54%  332M 0s\n",
      " 23000K .......... .......... .......... .......... .......... 54%  221M 0s\n",
      " 23050K .......... .......... .......... .......... .......... 54%  282M 0s\n",
      " 23100K .......... .......... .......... .......... .......... 54%  261M 0s\n",
      " 23150K .......... .......... .......... .......... .......... 54%  338M 0s\n",
      " 23200K .......... .......... .......... .......... .......... 54%  260M 0s\n",
      " 23250K .......... .......... .......... .......... .......... 54%  236M 0s\n",
      " 23300K .......... .......... .......... .......... .......... 54%  322M 0s\n",
      " 23350K .......... .......... .......... .......... .......... 55%  256M 0s\n",
      " 23400K .......... .......... .......... .......... .......... 55%  337M 0s\n",
      " 23450K .......... .......... .......... .......... .......... 55%  301M 0s\n",
      " 23500K .......... .......... .......... .......... .......... 55%  257M 0s\n",
      " 23550K .......... .......... .......... .......... .......... 55%  241M 0s\n",
      " 23600K .......... .......... .......... .......... .......... 55%  338M 0s\n",
      " 23650K .......... .......... .......... .......... .......... 55%  270M 0s\n",
      " 23700K .......... .......... .......... .......... .......... 55%  258M 0s\n",
      " 23750K .......... .......... .......... .......... .......... 56%  353M 0s\n",
      " 23800K .......... .......... .......... .......... .......... 56%  239M 0s\n",
      " 23850K .......... .......... .......... .......... .......... 56%  307M 0s\n",
      " 23900K .......... .......... .......... .......... .......... 56%  342M 0s\n",
      " 23950K .......... .......... .......... .......... .......... 56%  205M 0s\n",
      " 24000K .......... .......... .......... .......... .......... 56%  345M 0s\n",
      " 24050K .......... .......... .......... .......... .......... 56%  268M 0s\n",
      " 24100K .......... .......... .......... .......... .......... 56%  204M 0s\n",
      " 24150K .......... .......... .......... .......... .......... 57%  336M 0s\n",
      " 24200K .......... .......... .......... .......... .......... 57%  335M 0s\n",
      " 24250K .......... .......... .......... .......... .......... 57%  313M 0s\n",
      " 24300K .......... .......... .......... .......... .......... 57%  217M 0s\n",
      " 24350K .......... .......... .......... .......... .......... 57%  321M 0s\n",
      " 24400K .......... .......... .......... .......... .......... 57%  319M 0s\n",
      " 24450K .......... .......... .......... .......... .......... 57%  219M 0s\n",
      " 24500K .......... .......... .......... .......... .......... 57%  371M 0s\n",
      " 24550K .......... .......... .......... .......... .......... 57%  245M 0s\n",
      " 24600K .......... .......... .......... .......... .......... 58%  363M 0s\n",
      " 24650K .......... .......... .......... .......... .......... 58%  294M 0s\n",
      " 24700K .......... .......... .......... .......... .......... 58%  376M 0s\n",
      " 24750K .......... .......... .......... .......... .......... 58%  285M 0s\n",
      " 24800K .......... .......... .......... .......... .......... 58%  353M 0s\n",
      " 24850K .......... .......... .......... .......... .......... 58%  262M 0s\n",
      " 24900K .......... .......... .......... .......... .......... 58%  387M 0s\n",
      " 24950K .......... .......... .......... .......... .......... 58%  376M 0s\n",
      " 25000K .......... .......... .......... .......... .......... 59%  241M 0s\n",
      " 25050K .......... .......... .......... .......... .......... 59%  329M 0s\n",
      " 25100K .......... .......... .......... .......... .......... 59%  392M 0s\n",
      " 25150K .......... .......... .......... .......... .......... 59%  388M 0s\n",
      " 25200K .......... .......... .......... .......... .......... 59%  263M 0s\n",
      " 25250K .......... .......... .......... .......... .......... 59%  265M 0s\n",
      " 25300K .......... .......... .......... .......... .......... 59%  364M 0s\n",
      " 25350K .......... .......... .......... .......... .......... 59%  368M 0s\n",
      " 25400K .......... .......... .......... .......... .......... 59%  274M 0s\n",
      " 25450K .......... .......... .......... .......... .......... 60%  294M 0s\n",
      " 25500K .......... .......... .......... .......... .......... 60%  379M 0s\n",
      " 25550K .......... .......... .......... .......... .......... 60%  321M 0s\n",
      " 25600K .......... .......... .......... .......... .......... 60%  384M 0s\n",
      " 25650K .......... .......... .......... .......... .......... 60%  219M 0s\n",
      " 25700K .......... .......... .......... .......... .......... 60%  322M 0s\n",
      " 25750K .......... .......... .......... .......... .......... 60%  386M 0s\n",
      " 25800K .......... .......... .......... .......... .......... 60%  301M 0s\n",
      " 25850K .......... .......... .......... .......... .......... 61%  325M 0s\n",
      " 25900K .......... .......... .......... .......... .......... 61%  387M 0s\n",
      " 25950K .......... .......... .......... .......... .......... 61%  258M 0s\n",
      " 26000K .......... .......... .......... .......... .......... 61%  386M 0s\n",
      " 26050K .......... .......... .......... .......... .......... 61%  298M 0s\n",
      " 26100K .......... .......... .......... .......... .......... 61%  286M 0s\n",
      " 26150K .......... .......... .......... .......... .......... 61%  377M 0s\n",
      " 26200K .......... .......... .......... .......... .......... 61%  282M 0s\n",
      " 26250K .......... .......... .......... .......... .......... 61%  333M 0s\n",
      " 26300K .......... .......... .......... .......... .......... 62%  280M 0s\n",
      " 26350K .......... .......... .......... .......... .......... 62%  357M 0s\n",
      " 26400K .......... .......... .......... .......... .......... 62%  300M 0s\n",
      " 26450K .......... .......... .......... .......... .......... 62%  248M 0s\n",
      " 26500K .......... .......... .......... .......... .......... 62%  390M 0s\n",
      " 26550K .......... .......... .......... .......... .......... 62%  392M 0s\n",
      " 26600K .......... .......... .......... .......... .......... 62%  231M 0s\n",
      " 26650K .......... .......... .......... .......... .......... 62%  327M 0s\n",
      " 26700K .......... .......... .......... .......... .......... 63%  387M 0s\n",
      " 26750K .......... .......... .......... .......... .......... 63%  395M 0s\n",
      " 26800K .......... .......... .......... .......... .......... 63%  243M 0s\n",
      " 26850K .......... .......... .......... .......... .......... 63%  298M 0s\n",
      " 26900K .......... .......... .......... .......... .......... 63%  390M 0s\n",
      " 26950K .......... .......... .......... .......... .......... 63%  281M 0s\n",
      " 27000K .......... .......... .......... .......... .......... 63%  387M 0s\n",
      " 27050K .......... .......... .......... .......... .......... 63%  269M 0s\n",
      " 27100K .......... .......... .......... .......... .......... 63%  361M 0s\n",
      " 27150K .......... .......... .......... .......... .......... 64%  377M 0s\n",
      " 27200K .......... .......... .......... .......... .......... 64%  235M 0s\n",
      " 27250K .......... .......... .......... .......... .......... 64%  315M 0s\n",
      " 27300K .......... .......... .......... .......... .......... 64%  357M 0s\n",
      " 27350K .......... .......... .......... .......... .......... 64%  362M 0s\n",
      " 27400K .......... .......... .......... .......... .......... 64%  377M 0s\n",
      " 27450K .......... .......... .......... .......... .......... 64%  206M 0s\n",
      " 27500K .......... .......... .......... .......... .......... 64%  376M 0s\n",
      " 27550K .......... .......... .......... .......... .......... 65%  387M 0s\n",
      " 27600K .......... .......... .......... .......... .......... 65%  370M 0s\n",
      " 27650K .......... .......... .......... .......... .......... 65%  311M 0s\n",
      " 27700K .......... .......... .......... .......... .......... 65%  243M 0s\n",
      " 27750K .......... .......... .......... .......... .......... 65%  362M 0s\n",
      " 27800K .......... .......... .......... .......... .......... 65%  393M 0s\n",
      " 27850K .......... .......... .......... .......... .......... 65%  330M 0s\n",
      " 27900K .......... .......... .......... .......... .......... 65%  363M 0s\n",
      " 27950K .......... .......... .......... .......... .......... 65%  204M 0s\n",
      " 28000K .......... .......... .......... .......... .......... 66%  381M 0s\n",
      " 28050K .......... .......... .......... .......... .......... 66%  309M 0s\n",
      " 28100K .......... .......... .......... .......... .......... 66%  259M 0s\n",
      " 28150K .......... .......... .......... .......... .......... 66%  284M 0s\n",
      " 28200K .......... .......... .......... .......... .......... 66%  367M 0s\n",
      " 28250K .......... .......... .......... .......... .......... 66%  285M 0s\n",
      " 28300K .......... .......... .......... .......... .......... 66%  382M 0s\n",
      " 28350K .......... .......... .......... .......... .......... 66%  347M 0s\n",
      " 28400K .......... .......... .......... .......... .......... 67%  283M 0s\n",
      " 28450K .......... .......... .......... .......... .......... 67%  252M 0s\n",
      " 28500K .......... .......... .......... .......... .......... 67%  304M 0s\n",
      " 28550K .......... .......... .......... .......... .......... 67%  389M 0s\n",
      " 28600K .......... .......... .......... .......... .......... 67%  353M 0s\n",
      " 28650K .......... .......... .......... .......... .......... 67%  220M 0s\n",
      " 28700K .......... .......... .......... .......... .......... 67%  382M 0s\n",
      " 28750K .......... .......... .......... .......... .......... 67%  385M 0s\n",
      " 28800K .......... .......... .......... .......... .......... 67%  282M 0s\n",
      " 28850K .......... .......... .......... .......... .......... 68%  235M 0s\n",
      " 28900K .......... .......... .......... .......... .......... 68%  393M 0s\n",
      " 28950K .......... .......... .......... .......... .......... 68%  242M 0s\n",
      " 29000K .......... .......... .......... .......... .......... 68%  382M 0s\n",
      " 29050K .......... .......... .......... .......... .......... 68%  328M 0s\n",
      " 29100K .......... .......... .......... .......... .......... 68%  359M 0s\n",
      " 29150K .......... .......... .......... .......... .......... 68%  238M 0s\n",
      " 29200K .......... .......... .......... .......... .......... 68%  336M 0s\n",
      " 29250K .......... .......... .......... .......... .......... 69%  263M 0s\n",
      " 29300K .......... .......... .......... .......... .......... 69%  384M 0s\n",
      " 29350K .......... .......... .......... .......... .......... 69%  294M 0s\n",
      " 29400K .......... .......... .......... .......... .......... 69%  380M 0s\n",
      " 29450K .......... .......... .......... .......... .......... 69%  334M 0s\n",
      " 29500K .......... .......... .......... .......... .......... 69%  286M 0s\n",
      " 29550K .......... .......... .......... .......... .......... 69%  371M 0s\n",
      " 29600K .......... .......... .......... .......... .......... 69%  227M 0s\n",
      " 29650K .......... .......... .......... .......... .......... 69%  306M 0s\n",
      " 29700K .......... .......... .......... .......... .......... 70%  350M 0s\n",
      " 29750K .......... .......... .......... .......... .......... 70%  256M 0s\n",
      " 29800K .......... .......... .......... .......... .......... 70%  383M 0s\n",
      " 29850K .......... .......... .......... .......... .......... 70%  336M 0s\n",
      " 29900K .......... .......... .......... .......... .......... 70%  372M 0s\n",
      " 29950K .......... .......... .......... .......... .......... 70%  371M 0s\n",
      " 30000K .......... .......... .......... .......... .......... 70%  253M 0s\n",
      " 30050K .......... .......... .......... .......... .......... 70%  322M 0s\n",
      " 30100K .......... .......... .......... .......... .......... 71%  364M 0s\n",
      " 30150K .......... .......... .......... .......... .......... 71%  366M 0s\n",
      " 30200K .......... .......... .......... .......... .......... 71%  349M 0s\n",
      " 30250K .......... .......... .......... .......... .......... 71%  219M 0s\n",
      " 30300K .......... .......... .......... .......... .......... 71%  375M 0s\n",
      " 30350K .......... .......... .......... .......... .......... 71%  253M 0s\n",
      " 30400K .......... .......... .......... .......... .......... 71%  386M 0s\n",
      " 30450K .......... .......... .......... .......... .......... 71%  313M 0s\n",
      " 30500K .......... .......... .......... .......... .......... 71%  223M 0s\n",
      " 30550K .......... .......... .......... .......... .......... 72%  384M 0s\n",
      " 30600K .......... .......... .......... .......... .......... 72%  362M 0s\n",
      " 30650K .......... .......... .......... .......... .......... 72%  356M 0s\n",
      " 30700K .......... .......... .......... .......... .......... 72%  365M 0s\n",
      " 30750K .......... .......... .......... .......... .......... 72%  384M 0s\n",
      " 30800K .......... .......... .......... .......... .......... 72%  238M 0s\n",
      " 30850K .......... .......... .......... .......... .......... 72%  289M 0s\n",
      " 30900K .......... .......... .......... .......... .......... 72%  320M 0s\n",
      " 30950K .......... .......... .......... .......... .......... 73%  367M 0s\n",
      " 31000K .......... .......... .......... .......... .......... 73%  306M 0s\n",
      " 31050K .......... .......... .......... .......... .......... 73%  232M 0s\n",
      " 31100K .......... .......... .......... .......... .......... 73%  356M 0s\n",
      " 31150K .......... .......... .......... .......... .......... 73%  302M 0s\n",
      " 31200K .......... .......... .......... .......... .......... 73%  361M 0s\n",
      " 31250K .......... .......... .......... .......... .......... 73%  247M 0s\n",
      " 31300K .......... .......... .......... .......... .......... 73%  398M 0s\n",
      " 31350K .......... .......... .......... .......... .......... 73%  257M 0s\n",
      " 31400K .......... .......... .......... .......... .......... 74%  284M 0s\n",
      " 31450K .......... .......... .......... .......... .......... 74%  347M 0s\n",
      " 31500K .......... .......... .......... .......... .......... 74%  368M 0s\n",
      " 31550K .......... .......... .......... .......... .......... 74%  308M 0s\n",
      " 31600K .......... .......... .......... .......... .......... 74%  273M 0s\n",
      " 31650K .......... .......... .......... .......... .......... 74%  301M 0s\n",
      " 31700K .......... .......... .......... .......... .......... 74%  284M 0s\n",
      " 31750K .......... .......... .......... .......... .......... 74%  310M 0s\n",
      " 31800K .......... .......... .......... .......... .......... 75%  381M 0s\n",
      " 31850K .......... .......... .......... .......... .......... 75%  332M 0s\n",
      " 31900K .......... .......... .......... .......... .......... 75%  247M 0s\n",
      " 31950K .......... .......... .......... .......... .......... 75%  382M 0s\n",
      " 32000K .......... .......... .......... .......... .......... 75%  387M 0s\n",
      " 32050K .......... .......... .......... .......... .......... 75%  320M 0s\n",
      " 32100K .......... .......... .......... .......... .......... 75%  357M 0s\n",
      " 32150K .......... .......... .......... .......... .......... 75%  391M 0s\n",
      " 32200K .......... .......... .......... .......... .......... 75%  238M 0s\n",
      " 32250K .......... .......... .......... .......... .......... 76%  344M 0s\n",
      " 32300K .......... .......... .......... .......... .......... 76%  381M 0s\n",
      " 32350K .......... .......... .......... .......... .......... 76%  371M 0s\n",
      " 32400K .......... .......... .......... .......... .......... 76%  211M 0s\n",
      " 32450K .......... .......... .......... .......... .......... 76%  316M 0s\n",
      " 32500K .......... .......... .......... .......... .......... 76%  384M 0s\n",
      " 32550K .......... .......... .......... .......... .......... 76%  370M 0s\n",
      " 32600K .......... .......... .......... .......... .......... 76%  381M 0s\n",
      " 32650K .......... .......... .......... .......... .......... 77%  218M 0s\n",
      " 32700K .......... .......... .......... .......... .......... 77%  318M 0s\n",
      " 32750K .......... .......... .......... .......... .......... 77%  374M 0s\n",
      " 32800K .......... .......... .......... .......... .......... 77%  382M 0s\n",
      " 32850K .......... .......... .......... .......... .......... 77%  299M 0s\n",
      " 32900K .......... .......... .......... .......... .......... 77%  250M 0s\n",
      " 32950K .......... .......... .......... .......... .......... 77%  386M 0s\n",
      " 33000K .......... .......... .......... .......... .......... 77%  242M 0s\n",
      " 33050K .......... .......... .......... .......... .......... 77%  309M 0s\n",
      " 33100K .......... .......... .......... .......... .......... 78%  262M 0s\n",
      " 33150K .......... .......... .......... .......... .......... 78%  354M 0s\n",
      " 33200K .......... .......... .......... .......... .......... 78%  288M 0s\n",
      " 33250K .......... .......... .......... .......... .......... 78%  304M 0s\n",
      " 33300K .......... .......... .......... .......... .......... 78%  279M 0s\n",
      " 33350K .......... .......... .......... .......... .......... 78%  311M 0s\n",
      " 33400K .......... .......... .......... .......... .......... 78%  356M 0s\n",
      " 33450K .......... .......... .......... .......... .......... 78%  349M 0s\n",
      " 33500K .......... .......... .......... .......... .......... 79%  363M 0s\n",
      " 33550K .......... .......... .......... .......... .......... 79%  230M 0s\n",
      " 33600K .......... .......... .......... .......... .......... 79%  380M 0s\n",
      " 33650K .......... .......... .......... .......... .......... 79%  301M 0s\n",
      " 33700K .......... .......... .......... .......... .......... 79%  262M 0s\n",
      " 33750K .......... .......... .......... .......... .......... 79%  308M 0s\n",
      " 33800K .......... .......... .......... .......... .......... 79%  380M 0s\n",
      " 33850K .......... .......... .......... .......... .......... 79%  257M 0s\n",
      " 33900K .......... .......... .......... .......... .......... 79%  359M 0s\n",
      " 33950K .......... .......... .......... .......... .......... 80%  314M 0s\n",
      " 34000K .......... .......... .......... .......... .......... 80%  310M 0s\n",
      " 34050K .......... .......... .......... .......... .......... 80%  298M 0s\n",
      " 34100K .......... .......... .......... .......... .......... 80%  382M 0s\n",
      " 34150K .......... .......... .......... .......... .......... 80%  342M 0s\n",
      " 34200K .......... .......... .......... .......... .......... 80%  379M 0s\n",
      " 34250K .......... .......... .......... .......... .......... 80%  221M 0s\n",
      " 34300K .......... .......... .......... .......... .......... 80%  262M 0s\n",
      " 34350K .......... .......... .......... .......... .......... 81%  373M 0s\n",
      " 34400K .......... .......... .......... .......... .......... 81%  360M 0s\n",
      " 34450K .......... .......... .......... .......... .......... 81%  307M 0s\n",
      " 34500K .......... .......... .......... .......... .......... 81%  223M 0s\n",
      " 34550K .......... .......... .......... .......... .......... 81%  383M 0s\n",
      " 34600K .......... .......... .......... .......... .......... 81%  371M 0s\n",
      " 34650K .......... .......... .......... .......... .......... 81%  285M 0s\n",
      " 34700K .......... .......... .......... .......... .......... 81%  258M 0s\n",
      " 34750K .......... .......... .......... .......... .......... 81%  337M 0s\n",
      " 34800K .......... .......... .......... .......... .......... 82%  319M 0s\n",
      " 34850K .......... .......... .......... .......... .......... 82%  316M 0s\n",
      " 34900K .......... .......... .......... .......... .......... 82%  346M 0s\n",
      " 34950K .......... .......... .......... .......... .......... 82%  236M 0s\n",
      " 35000K .......... .......... .......... .......... .......... 82%  382M 0s\n",
      " 35050K .......... .......... .......... .......... .......... 82%  345M 0s\n",
      " 35100K .......... .......... .......... .......... .......... 82%  366M 0s\n",
      " 35150K .......... .......... .......... .......... .......... 82%  257M 0s\n",
      " 35200K .......... .......... .......... .......... .......... 83%  384M 0s\n",
      " 35250K .......... .......... .......... .......... .......... 83%  320M 0s\n",
      " 35300K .......... .......... .......... .......... .......... 83%  365M 0s\n",
      " 35350K .......... .......... .......... .......... .......... 83%  375M 0s\n",
      " 35400K .......... .......... .......... .......... .......... 83%  219M 0s\n",
      " 35450K .......... .......... .......... .......... .......... 83%  349M 0s\n",
      " 35500K .......... .......... .......... .......... .......... 83%  385M 0s\n",
      " 35550K .......... .......... .......... .......... .......... 83%  337M 0s\n",
      " 35600K .......... .......... .......... .......... .......... 83%  238M 0s\n",
      " 35650K .......... .......... .......... .......... .......... 84%  286M 0s\n",
      " 35700K .......... .......... .......... .......... .......... 84%  290M 0s\n",
      " 35750K .......... .......... .......... .......... .......... 84%  392M 0s\n",
      " 35800K .......... .......... .......... .......... .......... 84%  369M 0s\n",
      " 35850K .......... .......... .......... .......... .......... 84%  351M 0s\n",
      " 35900K .......... .......... .......... .......... .......... 84%  226M 0s\n",
      " 35950K .......... .......... .......... .......... .......... 84%  385M 0s\n",
      " 36000K .......... .......... .......... .......... .......... 84%  367M 0s\n",
      " 36050K .......... .......... .......... .......... .......... 85%  246M 0s\n",
      " 36100K .......... .......... .......... .......... .......... 85%  392M 0s\n",
      " 36150K .......... .......... .......... .......... .......... 85%  339M 0s\n",
      " 36200K .......... .......... .......... .......... .......... 85%  378M 0s\n",
      " 36250K .......... .......... .......... .......... .......... 85%  182M 0s\n",
      " 36300K .......... .......... .......... .......... .......... 85%  375M 0s\n",
      " 36350K .......... .......... .......... .......... .......... 85%  375M 0s\n",
      " 36400K .......... .......... .......... .......... .......... 85%  246M 0s\n",
      " 36450K .......... .......... .......... .......... .......... 85%  315M 0s\n",
      " 36500K .......... .......... .......... .......... .......... 86%  385M 0s\n",
      " 36550K .......... .......... .......... .......... .......... 86%  369M 0s\n",
      " 36600K .......... .......... .......... .......... .......... 86%  379M 0s\n",
      " 36650K .......... .......... .......... .......... .......... 86%  227M 0s\n",
      " 36700K .......... .......... .......... .......... .......... 86%  367M 0s\n",
      " 36750K .......... .......... .......... .......... .......... 86%  260M 0s\n",
      " 36800K .......... .......... .......... .......... .......... 86%  371M 0s\n",
      " 36850K .......... .......... .......... .......... .......... 86%  263M 0s\n",
      " 36900K .......... .......... .......... .......... .......... 87%  318M 0s\n",
      " 36950K .......... .......... .......... .......... .......... 87%  260M 0s\n",
      " 37000K .......... .......... .......... .......... .......... 87%  295M 0s\n",
      " 37050K .......... .......... .......... .......... .......... 87%  334M 0s\n",
      " 37100K .......... .......... .......... .......... .......... 87%  277M 0s\n",
      " 37150K .......... .......... .......... .......... .......... 87%  342M 0s\n",
      " 37200K .......... .......... .......... .......... .......... 87%  245M 0s\n",
      " 37250K .......... .......... .......... .......... .......... 87%  313M 0s\n",
      " 37300K .......... .......... .......... .......... .......... 87%  395M 0s\n",
      " 37350K .......... .......... .......... .......... .......... 88%  383M 0s\n",
      " 37400K .......... .......... .......... .......... .......... 88%  317M 0s\n",
      " 37450K .......... .......... .......... .......... .......... 88%  215M 0s\n",
      " 37500K .......... .......... .......... .......... .......... 88%  359M 0s\n",
      " 37550K .......... .......... .......... .......... .......... 88%  287M 0s\n",
      " 37600K .......... .......... .......... .......... .......... 88%  363M 0s\n",
      " 37650K .......... .......... .......... .......... .......... 88%  231M 0s\n",
      " 37700K .......... .......... .......... .......... .......... 88%  383M 0s\n",
      " 37750K .......... .......... .......... .......... .......... 89%  366M 0s\n",
      " 37800K .......... .......... .......... .......... .......... 89%  256M 0s\n",
      " 37850K .......... .......... .......... .......... .......... 89%  299M 0s\n",
      " 37900K .......... .......... .......... .......... .......... 89%  357M 0s\n",
      " 37950K .......... .......... .......... .......... .......... 89%  284M 0s\n",
      " 38000K .......... .......... .......... .......... .......... 89%  378M 0s\n",
      " 38050K .......... .......... .......... .......... .......... 89%  299M 0s\n",
      " 38100K .......... .......... .......... .......... .......... 89%  313M 0s\n",
      " 38150K .......... .......... .......... .......... .......... 89%  358M 0s\n",
      " 38200K .......... .......... .......... .......... .......... 90%  366M 0s\n",
      " 38250K .......... .......... .......... .......... .......... 90%  209M 0s\n",
      " 38300K .......... .......... .......... .......... .......... 90%  378M 0s\n",
      " 38350K .......... .......... .......... .......... .......... 90%  381M 0s\n",
      " 38400K .......... .......... .......... .......... .......... 90%  338M 0s\n",
      " 38450K .......... .......... .......... .......... .......... 90%  221M 0s\n",
      " 38500K .......... .......... .......... .......... .......... 90%  362M 0s\n",
      " 38550K .......... .......... .......... .......... .......... 90%  258M 0s\n",
      " 38600K .......... .......... .......... .......... .......... 91%  381M 0s\n",
      " 38650K .......... .......... .......... .......... .......... 91%  318M 0s\n",
      " 38700K .......... .......... .......... .......... .......... 91%  275M 0s\n",
      " 38750K .......... .......... .......... .......... .......... 91%  312M 0s\n",
      " 38800K .......... .......... .......... .......... .......... 91%  376M 0s\n",
      " 38850K .......... .......... .......... .......... .......... 91%  304M 0s\n",
      " 38900K .......... .......... .......... .......... .......... 91%  217M 0s\n",
      " 38950K .......... .......... .......... .......... .......... 91%  360M 0s\n",
      " 39000K .......... .......... .......... .......... .......... 91%  381M 0s\n",
      " 39050K .......... .......... .......... .......... .......... 92%  249M 0s\n",
      " 39100K .......... .......... .......... .......... .......... 92%  334M 0s\n",
      " 39150K .......... .......... .......... .......... .......... 92%  376M 0s\n",
      " 39200K .......... .......... .......... .......... .......... 92%  294M 0s\n",
      " 39250K .......... .......... .......... .......... .......... 92%  218M 0s\n",
      " 39300K .......... .......... .......... .......... .......... 92%  374M 0s\n",
      " 39350K .......... .......... .......... .......... .......... 92%  335M 0s\n",
      " 39400K .......... .......... .......... .......... .......... 92%  257M 0s\n",
      " 39450K .......... .......... .......... .......... .......... 93%  329M 0s\n",
      " 39500K .......... .......... .......... .......... .......... 93%  360M 0s\n",
      " 39550K .......... .......... .......... .......... .......... 93%  339M 0s\n",
      " 39600K .......... .......... .......... .......... .......... 93%  375M 0s\n",
      " 39650K .......... .......... .......... .......... .......... 93%  297M 0s\n",
      " 39700K .......... .......... .......... .......... .......... 93%  208M 0s\n",
      " 39750K .......... .......... .......... .......... .......... 93%  379M 0s\n",
      " 39800K .......... .......... .......... .......... .......... 93%  324M 0s\n",
      " 39850K .......... .......... .......... .......... .......... 93%  238M 0s\n",
      " 39900K .......... .......... .......... .......... .......... 94%  378M 0s\n",
      " 39950K .......... .......... .......... .......... .......... 94%  350M 0s\n",
      " 40000K .......... .......... .......... .......... .......... 94%  224M 0s\n",
      " 40050K .......... .......... .......... .......... .......... 94%  308M 0s\n",
      " 40100K .......... .......... .......... .......... .......... 94%  375M 0s\n",
      " 40150K .......... .......... .......... .......... .......... 94%  374M 0s\n",
      " 40200K .......... .......... .......... .......... .......... 94%  333M 0s\n",
      " 40250K .......... .......... .......... .......... .......... 94%  243M 0s\n",
      " 40300K .......... .......... .......... .......... .......... 95%  379M 0s\n",
      " 40350K .......... .......... .......... .......... .......... 95%  271M 0s\n",
      " 40400K .......... .......... .......... .......... .......... 95%  376M 0s\n",
      " 40450K .......... .......... .......... .......... .......... 95%  292M 0s\n",
      " 40500K .......... .......... .......... .......... .......... 95%  223M 0s\n",
      " 40550K .......... .......... .......... .......... .......... 95%  361M 0s\n",
      " 40600K .......... .......... .......... .......... .......... 95%  363M 0s\n",
      " 40650K .......... .......... .......... .......... .......... 95%  318M 0s\n",
      " 40700K .......... .......... .......... .......... .......... 95%  223M 0s\n",
      " 40750K .......... .......... .......... .......... .......... 96%  382M 0s\n",
      " 40800K .......... .......... .......... .......... .......... 96%  312M 0s\n",
      " 40850K .......... .......... .......... .......... .......... 96%  252M 0s\n",
      " 40900K .......... .......... .......... .......... .......... 96%  384M 0s\n",
      " 40950K .......... .......... .......... .......... .......... 96%  288M 0s\n",
      " 41000K .......... .......... .......... .......... .......... 96%  380M 0s\n",
      " 41050K .......... .......... .......... .......... .......... 96%  345M 0s\n",
      " 41100K .......... .......... .......... .......... .......... 96%  384M 0s\n",
      " 41150K .......... .......... .......... .......... .......... 97%  382M 0s\n",
      " 41200K .......... .......... .......... .......... .......... 97%  357M 0s\n",
      " 41250K .......... .......... .......... .......... .......... 97%  317M 0s\n",
      " 41300K .......... .......... .......... .......... .......... 97%  382M 0s\n",
      " 41350K .......... .......... .......... .......... .......... 97%  376M 0s\n",
      " 41400K .......... .......... .......... .......... .......... 97%  373M 0s\n",
      " 41450K .......... .......... .......... .......... .......... 97%  326M 0s\n",
      " 41500K .......... .......... .......... .......... .......... 97%  382M 0s\n",
      " 41550K .......... .......... .......... .......... .......... 97%  381M 0s\n",
      " 41600K .......... .......... .......... .......... .......... 98%  376M 0s\n",
      " 41650K .......... .......... .......... .......... .......... 98%  322M 0s\n",
      " 41700K .......... .......... .......... .......... .......... 98%  352M 0s\n",
      " 41750K .......... .......... .......... .......... .......... 98%  389M 0s\n",
      " 41800K .......... .......... .......... .......... .......... 98%  382M 0s\n",
      " 41850K .......... .......... .......... .......... .......... 98%  347M 0s\n",
      " 41900K .......... .......... .......... .......... .......... 98%  359M 0s\n",
      " 41950K .......... .......... .......... .......... .......... 98%  331M 0s\n",
      " 42000K .......... .......... .......... .......... .......... 99%  380M 0s\n",
      " 42050K .......... .......... .......... .......... .......... 99%  305M 0s\n",
      " 42100K .......... .......... .......... .......... .......... 99%  383M 0s\n",
      " 42150K .......... .......... .......... .......... .......... 99%  388M 0s\n",
      " 42200K .......... .......... .......... .......... .......... 99%  336M 0s\n",
      " 42250K .......... .......... .......... .......... .......... 99%  345M 0s\n",
      " 42300K .......... .......... .......... .......... .......... 99%  379M 0s\n",
      " 42350K .......... .......... .......... .......... .......... 99%  383M 0s\n",
      " 42400K .......... .......... .......... .......... .......... 99%  384M 0s\n",
      " 42450K .....                                                 100%  227M=0.1s\n",
      "\n",
      "2024-05-05 01:43:44 (285 MB/s) - ‘../data/input/enterprise-attack.json’ saved [43474692/43474692]\n",
      "\n"
     ]
    }
   ],
   "source": [
    "%%bash\n",
    "wget -O ../data/input/enterprise-attack.json https://raw.githubusercontent.com/mitre-attack/attack-stix-data/master/enterprise-attack/enterprise-attack.json"
   ]
  },
  {
   "cell_type": "markdown",
   "id": "1e1d0c94369c488d",
   "metadata": {},
   "source": []
  },
  {
   "cell_type": "code",
   "execution_count": 22,
   "id": "ba8c7cae58c7c14c",
   "metadata": {
    "ExecuteTime": {
     "end_time": "2024-05-04T21:31:30.658356Z",
     "start_time": "2024-05-04T21:31:30.520523Z"
    }
   },
   "outputs": [],
   "source": [
    "import json\n",
    "\n",
    "with open('../data/input/enterprise-attack.json', 'r') as file:\n",
    "    mitre = json.load(file)"
   ]
  },
  {
   "cell_type": "markdown",
   "id": "f5f14412a9aa02f5",
   "metadata": {},
   "source": [
    "Get technique names"
   ]
  },
  {
   "cell_type": "code",
   "execution_count": 23,
   "id": "2ccb18274f8ebb21",
   "metadata": {
    "ExecuteTime": {
     "end_time": "2024-05-04T22:40:43.425704Z",
     "start_time": "2024-05-04T22:40:43.416712Z"
    }
   },
   "outputs": [
    {
     "data": {
      "text/html": [
       "<div>\n",
       "<style scoped>\n",
       "    .dataframe tbody tr th:only-of-type {\n",
       "        vertical-align: middle;\n",
       "    }\n",
       "\n",
       "    .dataframe tbody tr th {\n",
       "        vertical-align: top;\n",
       "    }\n",
       "\n",
       "    .dataframe thead th {\n",
       "        text-align: right;\n",
       "    }\n",
       "</style>\n",
       "<table border=\"1\" class=\"dataframe\">\n",
       "  <thead>\n",
       "    <tr style=\"text-align: right;\">\n",
       "      <th></th>\n",
       "      <th>technique_id</th>\n",
       "      <th>technique_name</th>\n",
       "    </tr>\n",
       "  </thead>\n",
       "  <tbody>\n",
       "    <tr>\n",
       "      <th>0</th>\n",
       "      <td>T1003.001</td>\n",
       "      <td>LSASS Memory</td>\n",
       "    </tr>\n",
       "    <tr>\n",
       "      <th>1</th>\n",
       "      <td>T1210</td>\n",
       "      <td>Exploitation of Remote Services</td>\n",
       "    </tr>\n",
       "    <tr>\n",
       "      <th>2</th>\n",
       "      <td>T1570</td>\n",
       "      <td>Lateral Tool Transfer</td>\n",
       "    </tr>\n",
       "    <tr>\n",
       "      <th>3</th>\n",
       "      <td>T1140</td>\n",
       "      <td>Deobfuscate/Decode Files or Information</td>\n",
       "    </tr>\n",
       "    <tr>\n",
       "      <th>4</th>\n",
       "      <td>T1218.011</td>\n",
       "      <td>Rundll32</td>\n",
       "    </tr>\n",
       "    <tr>\n",
       "      <th>5</th>\n",
       "      <td>T1059.003</td>\n",
       "      <td>Windows Command Shell</td>\n",
       "    </tr>\n",
       "    <tr>\n",
       "      <th>6</th>\n",
       "      <td>T1057</td>\n",
       "      <td>Process Discovery</td>\n",
       "    </tr>\n",
       "    <tr>\n",
       "      <th>7</th>\n",
       "      <td>T1518.001</td>\n",
       "      <td>Security Software Discovery</td>\n",
       "    </tr>\n",
       "    <tr>\n",
       "      <th>8</th>\n",
       "      <td>T1106</td>\n",
       "      <td>Native API</td>\n",
       "    </tr>\n",
       "    <tr>\n",
       "      <th>9</th>\n",
       "      <td>T1082</td>\n",
       "      <td>System Information Discovery</td>\n",
       "    </tr>\n",
       "    <tr>\n",
       "      <th>10</th>\n",
       "      <td>T1016</td>\n",
       "      <td>System Network Configuration Discovery</td>\n",
       "    </tr>\n",
       "    <tr>\n",
       "      <th>11</th>\n",
       "      <td>T1078</td>\n",
       "      <td>Valid Accounts</td>\n",
       "    </tr>\n",
       "    <tr>\n",
       "      <th>12</th>\n",
       "      <td>T1047</td>\n",
       "      <td>Windows Management Instrumentation</td>\n",
       "    </tr>\n",
       "    <tr>\n",
       "      <th>13</th>\n",
       "      <td>T1027</td>\n",
       "      <td>Obfuscated Files or Information</td>\n",
       "    </tr>\n",
       "    <tr>\n",
       "      <th>14</th>\n",
       "      <td>T1056.001</td>\n",
       "      <td>Keylogging</td>\n",
       "    </tr>\n",
       "    <tr>\n",
       "      <th>15</th>\n",
       "      <td>T1083</td>\n",
       "      <td>File and Directory Discovery</td>\n",
       "    </tr>\n",
       "    <tr>\n",
       "      <th>16</th>\n",
       "      <td>T1053.005</td>\n",
       "      <td>Scheduled Task</td>\n",
       "    </tr>\n",
       "    <tr>\n",
       "      <th>17</th>\n",
       "      <td>T1070.004</td>\n",
       "      <td>File Deletion</td>\n",
       "    </tr>\n",
       "    <tr>\n",
       "      <th>18</th>\n",
       "      <td>T1105</td>\n",
       "      <td>Ingress Tool Transfer</td>\n",
       "    </tr>\n",
       "    <tr>\n",
       "      <th>19</th>\n",
       "      <td>T1090</td>\n",
       "      <td>Proxy</td>\n",
       "    </tr>\n",
       "    <tr>\n",
       "      <th>20</th>\n",
       "      <td>T1005</td>\n",
       "      <td>Data from Local System</td>\n",
       "    </tr>\n",
       "    <tr>\n",
       "      <th>21</th>\n",
       "      <td>T1574.002</td>\n",
       "      <td>DLL Side-Loading</td>\n",
       "    </tr>\n",
       "    <tr>\n",
       "      <th>22</th>\n",
       "      <td>T1071.001</td>\n",
       "      <td>Web Protocols</td>\n",
       "    </tr>\n",
       "    <tr>\n",
       "      <th>23</th>\n",
       "      <td>T1484.001</td>\n",
       "      <td>Group Policy Modification</td>\n",
       "    </tr>\n",
       "    <tr>\n",
       "      <th>24</th>\n",
       "      <td>T1204.002</td>\n",
       "      <td>Malicious File</td>\n",
       "    </tr>\n",
       "    <tr>\n",
       "      <th>25</th>\n",
       "      <td>T1055</td>\n",
       "      <td>Process Injection</td>\n",
       "    </tr>\n",
       "    <tr>\n",
       "      <th>26</th>\n",
       "      <td>T1562.001</td>\n",
       "      <td>Disable or Modify Tools</td>\n",
       "    </tr>\n",
       "    <tr>\n",
       "      <th>27</th>\n",
       "      <td>T1033</td>\n",
       "      <td>System Owner/User Discovery</td>\n",
       "    </tr>\n",
       "    <tr>\n",
       "      <th>28</th>\n",
       "      <td>T1566.001</td>\n",
       "      <td>Spearphishing Attachment</td>\n",
       "    </tr>\n",
       "    <tr>\n",
       "      <th>29</th>\n",
       "      <td>T1219</td>\n",
       "      <td>Remote Access Software</td>\n",
       "    </tr>\n",
       "    <tr>\n",
       "      <th>30</th>\n",
       "      <td>T1547.001</td>\n",
       "      <td>Registry Run Keys / Startup Folder</td>\n",
       "    </tr>\n",
       "    <tr>\n",
       "      <th>31</th>\n",
       "      <td>T1021.001</td>\n",
       "      <td>Remote Desktop Protocol</td>\n",
       "    </tr>\n",
       "    <tr>\n",
       "      <th>32</th>\n",
       "      <td>T1543.003</td>\n",
       "      <td>Windows Service</td>\n",
       "    </tr>\n",
       "    <tr>\n",
       "      <th>33</th>\n",
       "      <td>T1569.002</td>\n",
       "      <td>Service Execution</td>\n",
       "    </tr>\n",
       "    <tr>\n",
       "      <th>34</th>\n",
       "      <td>T1036.005</td>\n",
       "      <td>Match Legitimate Name or Location</td>\n",
       "    </tr>\n",
       "    <tr>\n",
       "      <th>35</th>\n",
       "      <td>T1112</td>\n",
       "      <td>Modify Registry</td>\n",
       "    </tr>\n",
       "    <tr>\n",
       "      <th>36</th>\n",
       "      <td>T1041</td>\n",
       "      <td>Exfiltration Over C2 Channel</td>\n",
       "    </tr>\n",
       "    <tr>\n",
       "      <th>37</th>\n",
       "      <td>T1110</td>\n",
       "      <td>Brute Force</td>\n",
       "    </tr>\n",
       "    <tr>\n",
       "      <th>38</th>\n",
       "      <td>T1190</td>\n",
       "      <td>Exploit Public-Facing Application</td>\n",
       "    </tr>\n",
       "    <tr>\n",
       "      <th>39</th>\n",
       "      <td>T1564.001</td>\n",
       "      <td>Hidden Files and Directories</td>\n",
       "    </tr>\n",
       "    <tr>\n",
       "      <th>40</th>\n",
       "      <td>T1113</td>\n",
       "      <td>Screen Capture</td>\n",
       "    </tr>\n",
       "    <tr>\n",
       "      <th>41</th>\n",
       "      <td>T1573.001</td>\n",
       "      <td>Symmetric Cryptography</td>\n",
       "    </tr>\n",
       "    <tr>\n",
       "      <th>42</th>\n",
       "      <td>T1095</td>\n",
       "      <td>Non-Application Layer Protocol</td>\n",
       "    </tr>\n",
       "    <tr>\n",
       "      <th>43</th>\n",
       "      <td>T1552.001</td>\n",
       "      <td>Credentials In Files</td>\n",
       "    </tr>\n",
       "    <tr>\n",
       "      <th>44</th>\n",
       "      <td>T1012</td>\n",
       "      <td>Query Registry</td>\n",
       "    </tr>\n",
       "    <tr>\n",
       "      <th>45</th>\n",
       "      <td>T1074.001</td>\n",
       "      <td>Local Data Staging</td>\n",
       "    </tr>\n",
       "    <tr>\n",
       "      <th>46</th>\n",
       "      <td>T1548.002</td>\n",
       "      <td>Bypass User Account Control</td>\n",
       "    </tr>\n",
       "    <tr>\n",
       "      <th>47</th>\n",
       "      <td>T1068</td>\n",
       "      <td>Exploitation for Privilege Escalation</td>\n",
       "    </tr>\n",
       "    <tr>\n",
       "      <th>48</th>\n",
       "      <td>T1072</td>\n",
       "      <td>Software Deployment Tools</td>\n",
       "    </tr>\n",
       "    <tr>\n",
       "      <th>49</th>\n",
       "      <td>T1557.001</td>\n",
       "      <td>LLMNR/NBT-NS Poisoning and SMB Relay</td>\n",
       "    </tr>\n",
       "  </tbody>\n",
       "</table>\n",
       "</div>"
      ],
      "text/plain": [
       "   technique_id                           technique_name\n",
       "0     T1003.001                             LSASS Memory\n",
       "1         T1210          Exploitation of Remote Services\n",
       "2         T1570                    Lateral Tool Transfer\n",
       "3         T1140  Deobfuscate/Decode Files or Information\n",
       "4     T1218.011                                 Rundll32\n",
       "5     T1059.003                    Windows Command Shell\n",
       "6         T1057                        Process Discovery\n",
       "7     T1518.001              Security Software Discovery\n",
       "8         T1106                               Native API\n",
       "9         T1082             System Information Discovery\n",
       "10        T1016   System Network Configuration Discovery\n",
       "11        T1078                           Valid Accounts\n",
       "12        T1047       Windows Management Instrumentation\n",
       "13        T1027          Obfuscated Files or Information\n",
       "14    T1056.001                               Keylogging\n",
       "15        T1083             File and Directory Discovery\n",
       "16    T1053.005                           Scheduled Task\n",
       "17    T1070.004                            File Deletion\n",
       "18        T1105                    Ingress Tool Transfer\n",
       "19        T1090                                    Proxy\n",
       "20        T1005                   Data from Local System\n",
       "21    T1574.002                         DLL Side-Loading\n",
       "22    T1071.001                            Web Protocols\n",
       "23    T1484.001                Group Policy Modification\n",
       "24    T1204.002                           Malicious File\n",
       "25        T1055                        Process Injection\n",
       "26    T1562.001                  Disable or Modify Tools\n",
       "27        T1033              System Owner/User Discovery\n",
       "28    T1566.001                 Spearphishing Attachment\n",
       "29        T1219                   Remote Access Software\n",
       "30    T1547.001       Registry Run Keys / Startup Folder\n",
       "31    T1021.001                  Remote Desktop Protocol\n",
       "32    T1543.003                          Windows Service\n",
       "33    T1569.002                        Service Execution\n",
       "34    T1036.005        Match Legitimate Name or Location\n",
       "35        T1112                          Modify Registry\n",
       "36        T1041             Exfiltration Over C2 Channel\n",
       "37        T1110                              Brute Force\n",
       "38        T1190        Exploit Public-Facing Application\n",
       "39    T1564.001             Hidden Files and Directories\n",
       "40        T1113                           Screen Capture\n",
       "41    T1573.001                   Symmetric Cryptography\n",
       "42        T1095           Non-Application Layer Protocol\n",
       "43    T1552.001                     Credentials In Files\n",
       "44        T1012                           Query Registry\n",
       "45    T1074.001                       Local Data Staging\n",
       "46    T1548.002              Bypass User Account Control\n",
       "47        T1068    Exploitation for Privilege Escalation\n",
       "48        T1072                Software Deployment Tools\n",
       "49    T1557.001     LLMNR/NBT-NS Poisoning and SMB Relay"
      ]
     },
     "execution_count": 23,
     "metadata": {},
     "output_type": "execute_result"
    }
   ],
   "source": [
    "def getTechniqueName(technique_external_id: str):\n",
    "    for obj in mitre[\"objects\"]:\n",
    "        if obj[\"type\"] == \"attack-pattern\" and obj[\"external_references\"][0][\"external_id\"] == technique_external_id:\n",
    "            return obj[\"name\"]\n",
    "\n",
    "\n",
    "techniqueNames = []\n",
    "for techniqueId in all_techniques:\n",
    "    techniqueNames.append({\"technique_id\": techniqueId, \"technique_name\": getTechniqueName(techniqueId)})\n",
    "\n",
    "techniqueNames = pd.DataFrame(techniqueNames)\n",
    "techniqueNames"
   ]
  },
  {
   "cell_type": "markdown",
   "id": "acf58b19dc511f47",
   "metadata": {},
   "source": [
    "Getting tactics:"
   ]
  },
  {
   "cell_type": "code",
   "execution_count": 24,
   "id": "bd917fbdc9de2ff1",
   "metadata": {
    "ExecuteTime": {
     "end_time": "2024-05-04T21:31:31.514997Z",
     "start_time": "2024-05-04T21:31:31.512750Z"
    }
   },
   "outputs": [],
   "source": [
    "def get_tactic(technique_external_id: str):\n",
    "    tactic_name = None\n",
    "    for obj in mitre[\"objects\"]:\n",
    "        if obj[\"type\"] == \"attack-pattern\" and obj[\"external_references\"][0][\"external_id\"] == technique_external_id:\n",
    "            tactic_name = obj[\"kill_chain_phases\"][0][\"phase_name\"]\n",
    "            break\n",
    "    if tactic_name is not None:\n",
    "        for obj in mitre[\"objects\"]:\n",
    "            if obj[\"type\"] == \"x-mitre-tactic\" and obj[\"x_mitre_shortname\"] == tactic_name:\n",
    "                return {\"technique_id\": technique_external_id, \"tactic_name\": obj[\"name\"],\n",
    "                        'tactic_id': obj[\"external_references\"][0][\"external_id\"]}"
   ]
  },
  {
   "cell_type": "code",
   "id": "544773b12dd50588",
   "metadata": {
    "ExecuteTime": {
     "end_time": "2024-05-05T18:10:27.411265Z",
     "start_time": "2024-05-05T18:10:27.199856Z"
    }
   },
   "source": [
    "tactics = []\n",
    "for techniqueId in all_techniques:\n",
    "    tactic = get_tactic(techniqueId)\n",
    "    tactics.append(tactic)\n",
    "\n",
    "tactics = pd.DataFrame(tactics)\n",
    "tactics"
   ],
   "outputs": [
    {
     "ename": "NameError",
     "evalue": "name 'all_techniques' is not defined",
     "output_type": "error",
     "traceback": [
      "\u001B[0;31m---------------------------------------------------------------------------\u001B[0m",
      "\u001B[0;31mNameError\u001B[0m                                 Traceback (most recent call last)",
      "Cell \u001B[0;32mIn[1], line 2\u001B[0m\n\u001B[1;32m      1\u001B[0m tactics \u001B[38;5;241m=\u001B[39m []\n\u001B[0;32m----> 2\u001B[0m \u001B[38;5;28;01mfor\u001B[39;00m techniqueId \u001B[38;5;129;01min\u001B[39;00m all_techniques:\n\u001B[1;32m      3\u001B[0m     tactic \u001B[38;5;241m=\u001B[39m get_tactic(techniqueId)\n\u001B[1;32m      4\u001B[0m     tactics\u001B[38;5;241m.\u001B[39mappend(tactic)\n",
      "\u001B[0;31mNameError\u001B[0m: name 'all_techniques' is not defined"
     ]
    }
   ],
   "execution_count": 1
  },
  {
   "cell_type": "markdown",
   "id": "7eb2b59cb58406ea",
   "metadata": {},
   "source": [
    "Now we get prodedure examples"
   ]
  },
  {
   "cell_type": "code",
   "execution_count": 26,
   "id": "edb76a6d1e18167f",
   "metadata": {
    "ExecuteTime": {
     "end_time": "2024-05-04T22:41:44.581788Z",
     "start_time": "2024-05-04T22:41:44.574615Z"
    }
   },
   "outputs": [],
   "source": [
    "def get_procedure_examples(technique_external_id):\n",
    "    technique_id = None\n",
    "    for obj in mitre[\"objects\"]:\n",
    "        if obj[\"type\"] == \"attack-pattern\" and obj[\"external_references\"][0][\"external_id\"] == technique_external_id:\n",
    "            technique_id = obj[\"id\"]\n",
    "            break\n",
    "    procedure_examples = []\n",
    "    for obj in mitre[\"objects\"]:\n",
    "        if obj[\"type\"] == \"relationship\" and obj[\"relationship_type\"] == \"uses\" and obj[\"target_ref\"] == technique_id:\n",
    "            text = None\n",
    "            try:\n",
    "                text = obj[\"description\"]\n",
    "                name = text[text.index('[') + 1:text.index(']')]\n",
    "                id = text[text.index('('):text.index(')')].split('/')[-1]\n",
    "                procedure_examples.append({'technique_id': technique_external_id, 'proc_def': f\"{id} {name}\"})\n",
    "            except:\n",
    "                pass\n",
    "\n",
    "    return procedure_examples"
   ]
  },
  {
   "cell_type": "code",
   "execution_count": 27,
   "id": "a5fa9184f7f85f2f",
   "metadata": {
    "ExecuteTime": {
     "end_time": "2024-05-04T22:41:46.343913Z",
     "start_time": "2024-05-04T22:41:46.190567Z"
    }
   },
   "outputs": [],
   "source": [
    "procedureExamples = []\n",
    "for techniqueId in all_techniques:\n",
    "    procedureExamples.extend(get_procedure_examples(techniqueId))\n",
    "procedureExamples = pd.DataFrame(procedureExamples)\n",
    "procedureExamples"
   ]
  },
  {
   "cell_type": "markdown",
   "id": "79036c27c96699ae",
   "metadata": {},
   "source": [
    "Adding them all in one place labels, text, doc_titles: \n",
    "            there are 50 labels, 149 doc_titles and 5089 text\n",
    "            \n",
    "\n",
    "And also adding the techniqueNames, tactics id and names and procedure examples to the nodes list."
   ]
  },
  {
   "cell_type": "code",
   "execution_count": 28,
   "id": "c06f2df0f32c1ad2",
   "metadata": {
    "ExecuteTime": {
     "end_time": "2024-05-04T23:22:13.206257Z",
     "start_time": "2024-05-04T23:22:13.200651Z"
    }
   },
   "outputs": [
    {
     "data": {
      "text/plain": [
       "array(['T1003.001', 'T1210', 'T1570', ..., 'S0116 UACMe', 'S0041 Wiper',\n",
       "       'S0174 Responder'], dtype=object)"
      ]
     },
     "execution_count": 28,
     "metadata": {},
     "output_type": "execute_result"
    }
   ],
   "source": [
    "nodes = np.concatenate((\n",
    "    all_techniques, techniqueNames['technique_name'].explode().dropna().unique(),\n",
    "    doc_titles,\n",
    "    text,\n",
    "    tactics['tactic_name'].explode().dropna().unique(), tactics['tactic_id'].explode().dropna().unique(),\n",
    "    procedureExamples['proc_def'].explode().dropna().unique()    \n",
    "))\n",
    "\n",
    "nodes"
   ]
  },
  {
   "cell_type": "markdown",
   "id": "73c3a4f932718d8d",
   "metadata": {
    "collapsed": false,
    "jupyter": {
     "outputs_hidden": false
    }
   },
   "source": [
    "The node list will then have \n",
    "    techniques ids\n",
    "    technique names\n",
    "    doc_titles \n",
    "    text\n",
    "    tactic names\n",
    "    tactic ids\n",
    "    procedure definitions\n",
    "    \n",
    "Now to make the numeric triples, we will use the indexes of the nodes from the nodes list.\n",
    "\n",
    "Let us say that these are the numeric representation of the relationships, \n",
    "    part of = 1\n",
    "    used in = 2\n",
    "    points to = 3\n",
    "    contains = 4\n",
    "    uses = 5\n",
    "    describes = 6\n",
    "\n",
    "- Part of : Links Attack Techniques to Attack Tactics.\n",
    "- Used in: Shows that the techniques and tactics are made use of in a CTI report.\n",
    "- Points to: Links a text to an Attack Technique.\n",
    "- Contains: Connects a text to a CTI report.\n",
    "- Uses: Associates procedure-examples to Attack Techniques.\n",
    "- Describes: Full names of the attack techniques and tactics.\n",
    "\n",
    "1. we make the triples for text points-to techniqueid\n",
    "2. we make the triples for doc_title contains text\n",
    "3. we make the triples for techniqueid used-in doc_title\n",
    "4. we make the triples for techniqueid part-of tacticid\n",
    "5. we make the triples for technique_name describes techniqueid\n",
    "6. we make the triples for tactic_name describes tacticid\n",
    "7. we make the triples for procedure_examples uses techniqueid"
   ]
  },
  {
   "cell_type": "code",
   "execution_count": 29,
   "id": "285010d75de580e7",
   "metadata": {
    "ExecuteTime": {
     "end_time": "2024-05-04T23:22:24.425917Z",
     "start_time": "2024-05-04T23:22:23.223079Z"
    },
    "collapsed": false,
    "jupyter": {
     "outputs_hidden": false
    }
   },
   "outputs": [],
   "source": [
    "triples = []\n",
    "tech2doc = []\n",
    "\n",
    "np_data = data.to_numpy()\n",
    "\n",
    "for row in np_data:\n",
    "    text_index = np.where(nodes == row[0])[0][0]\n",
    "    technique_index = np.where(nodes == row[1])[0][0]\n",
    "    doc_title_index = np.where(nodes == row[2])[0][0]\n",
    "\n",
    "    triples.extend(\n",
    "        ((text_index, 3, technique_index),\n",
    "         (doc_title_index, 4, text_index))\n",
    "    )\n",
    "    tech2doc.append((technique_index, 2, doc_title_index))\n",
    "\n",
    "tech2doc = np.unique(tech2doc, axis=0)\n",
    "triples = np.array(triples)\n",
    "triples = np.append(triples, tech2doc, axis=0)\n",
    "\n",
    "tec2tac = []\n",
    "tacN2tacId = []\n",
    "for row in tactics.to_numpy():\n",
    "    techniqueid_index = np.where(nodes == row[0])[0][0]\n",
    "    tactic_name_index = np.where(nodes == row[1])[0][0]\n",
    "    tactic_id_index = np.where(nodes == row[2])[0][0]\n",
    "    # techniqueid part-of tacticid\n",
    "    tec2tac.append((techniqueid_index, 1, tactic_id_index))\n",
    "    # tactic_name describes tacticid\n",
    "    tacN2tacId.append((tactic_name_index, 6, tactic_id_index))\n",
    "triples = np.append(triples, tec2tac, axis=0)\n",
    "triples = np.append(triples, tacN2tacId, axis=0)\n",
    "\n",
    "# technique_name describes techniqueid\n",
    "tecN2tecId = []\n",
    "for row in techniqueNames.to_numpy():\n",
    "    techniqueid_index = np.where(nodes == row[0])[0][0]\n",
    "    technique_name_index = np.where(nodes == row[1])[0][0]\n",
    "    tecN2tecId.append((technique_name_index, 6, techniqueid_index))\n",
    "triples = np.append(triples, tecN2tecId, axis=0)\n",
    "\n",
    "# procedure_examples uses techniqueid\n",
    "proc2tec = []\n",
    "for row in procedureExamples.to_numpy():\n",
    "    techniqueid_index = np.where(nodes == row[0])[0][0]\n",
    "    proc_def_index = np.where(nodes == row[1])[0][0]\n",
    "    proc2tec.append((proc_def_index, 5, techniqueid_index))\n",
    "triples = np.append(triples, proc2tec, axis=0)"
   ]
  },
  {
   "cell_type": "code",
   "execution_count": 30,
   "id": "81537cb5a95cf7de",
   "metadata": {
    "ExecuteTime": {
     "end_time": "2024-05-04T23:22:25.989023Z",
     "start_time": "2024-05-04T23:22:25.985750Z"
    },
    "collapsed": false,
    "jupyter": {
     "outputs_hidden": false
    }
   },
   "outputs": [
    {
     "data": {
      "text/plain": [
       "array([[ 249,    3,    0],\n",
       "       [ 100,    4,  249],\n",
       "       [ 250,    3,    0],\n",
       "       ...,\n",
       "       [5406,    5,   49],\n",
       "       [5386,    5,   49],\n",
       "       [6173,    5,   49]])"
      ]
     },
     "execution_count": 30,
     "metadata": {},
     "output_type": "execute_result"
    }
   ],
   "source": [
    "triples"
   ]
  },
  {
   "cell_type": "code",
   "execution_count": 31,
   "id": "8a764d37b4b88e34",
   "metadata": {
    "ExecuteTime": {
     "end_time": "2024-05-04T23:22:28.515921Z",
     "start_time": "2024-05-04T23:22:28.513039Z"
    },
    "collapsed": false,
    "jupyter": {
     "outputs_hidden": false
    }
   },
   "outputs": [
    {
     "data": {
      "text/plain": [
       "18851"
      ]
     },
     "execution_count": 31,
     "metadata": {},
     "output_type": "execute_result"
    }
   ],
   "source": [
    "len(triples)"
   ]
  },
  {
   "cell_type": "code",
   "execution_count": 32,
   "id": "c73d7e1731c3ec27",
   "metadata": {
    "ExecuteTime": {
     "end_time": "2024-05-04T23:18:10.993116Z",
     "start_time": "2024-05-04T23:18:10.990304Z"
    },
    "collapsed": false,
    "jupyter": {
     "outputs_hidden": false
    }
   },
   "outputs": [],
   "source": [
    "# Assert that length of total triples is equal to 2 * length of data + length of tech2doc + length of tec2tac + length of tacN2tacId + length of tecN2tecId + length of proc2tec\n",
    "assert len(triples) == 2 * len(np_data) + len(tech2doc) + len(tec2tac) + len(tacN2tacId) + len(tecN2tecId) + len(proc2tec)"
   ]
  },
  {
   "cell_type": "markdown",
   "id": "d5cdbedc0434fb2c",
   "metadata": {
    "collapsed": false,
    "jupyter": {
     "outputs_hidden": false
    }
   },
   "source": [
    "split the triples into train, validation, test and save them to a file"
   ]
  },
  {
   "cell_type": "code",
   "execution_count": 33,
   "id": "ffaa092cfdc6cb7a",
   "metadata": {
    "ExecuteTime": {
     "end_time": "2024-05-04T23:22:38.451410Z",
     "start_time": "2024-05-04T23:22:38.426338Z"
    },
    "collapsed": false,
    "jupyter": {
     "outputs_hidden": false
    }
   },
   "outputs": [],
   "source": [
    "%%bash\n",
    "\n",
    "mkdir -p ../data/output/single/augmented"
   ]
  },
  {
   "cell_type": "code",
   "execution_count": 34,
   "id": "17aea83473e80888",
   "metadata": {
    "ExecuteTime": {
     "end_time": "2024-05-04T23:22:39.234409Z",
     "start_time": "2024-05-04T23:22:39.206299Z"
    },
    "collapsed": false,
    "jupyter": {
     "outputs_hidden": false
    }
   },
   "outputs": [],
   "source": [
    "output = \"../data/output/single/augmented\"\n",
    "pd.DataFrame(triples).to_csv(output + '/triples.txt', index=False, header=False, sep=' ')\n",
    "train, valid = train_test_split(triples, test_size=0.05)\n",
    "pd.DataFrame(train).to_csv(output + '/train.txt', index=False, header=False, sep=' ')\n",
    "pd.DataFrame(valid).to_csv(output + '/valid.txt', index=False, header=False, sep=' ')\n",
    "assert len(train) + len(valid) == len(triples)"
   ]
  },
  {
   "cell_type": "markdown",
   "id": "20e884a9dc0d5054",
   "metadata": {
    "collapsed": false,
    "jupyter": {
     "outputs_hidden": false
    }
   },
   "source": [
    "Also train test validation split the nodes.txt for MLM \n",
    "\n",
    "Question: If we split the nodes, what happens to the indexes of the nodes. they should not be shuffled, otherwise the triples will be wrong.\n",
    "Look at kepler.\n",
    "_ Answer: its ok, kepler use the whole node.bpe for ke tasks."
   ]
  },
  {
   "cell_type": "code",
   "execution_count": 35,
   "id": "e7227ffd7e1cac4b",
   "metadata": {
    "ExecuteTime": {
     "end_time": "2024-05-04T23:22:41.634844Z",
     "start_time": "2024-05-04T23:22:41.632601Z"
    },
    "collapsed": false,
    "jupyter": {
     "outputs_hidden": false
    }
   },
   "outputs": [],
   "source": [
    "def write_file(file_path, _list):\n",
    "    with open(file_path, 'w') as f:\n",
    "        for _row in _list:\n",
    "            f.write(_row.replace(\"\\n\", r\"\\n\").replace(\"\\t\", r\"\\t\") + \"\\n\")"
   ]
  },
  {
   "cell_type": "code",
   "execution_count": 36,
   "id": "42cba7dd0a1007c7",
   "metadata": {
    "ExecuteTime": {
     "end_time": "2024-05-04T23:22:47.326734Z",
     "start_time": "2024-05-04T23:22:47.020348Z"
    },
    "collapsed": false,
    "jupyter": {
     "outputs_hidden": false
    }
   },
   "outputs": [],
   "source": [
    "n_train, n_test = train_test_split(nodes, test_size=0.2)\n",
    "\n",
    "n_train, n_valid = train_test_split(n_train, test_size=0.05)\n",
    "\n",
    "assert len(n_train) + len(n_test) + len(n_valid) == len(nodes)\n",
    "\n",
    "write_file(output + '/nodes_train.txt', n_train)\n",
    "write_file(output + '/nodes_valid.txt', n_valid)\n",
    "write_file(output + '/nodes_test.txt', n_test)"
   ]
  },
  {
   "cell_type": "markdown",
   "id": "65138b47f06d9c1d",
   "metadata": {
    "collapsed": false,
    "jupyter": {
     "outputs_hidden": false
    }
   },
   "source": [
    "save the nodes to a file, this is somewhat tricky, since some of the node texts contain newline characters, and we need to preserve them."
   ]
  },
  {
   "cell_type": "code",
   "execution_count": 37,
   "id": "629835bdd91d2459",
   "metadata": {
    "ExecuteTime": {
     "end_time": "2024-05-04T23:22:50.488965Z",
     "start_time": "2024-05-04T23:22:50.482968Z"
    },
    "collapsed": false,
    "jupyter": {
     "outputs_hidden": false
    }
   },
   "outputs": [],
   "source": [
    "write_file(output + '/nodes.txt', nodes)"
   ]
  },
  {
   "cell_type": "markdown",
   "id": "f9a7127ab0453243",
   "metadata": {
    "collapsed": false,
    "jupyter": {
     "outputs_hidden": false
    }
   },
   "source": [
    "Now we follow Kepler@s Readme.md and prepare the KE and MLM data from the above files.\n",
    "\n",
    "    We will use the nodes...txt as our MLM data.\n",
    "    We will use the triples...txt as our KE data.\n",
    "    \n",
    "\n",
    "We first install the local version of kepler, which is built by extending fairsec:\n",
    "We now start with KE data preprocessing:"
   ]
  },
  {
   "cell_type": "code",
   "execution_count": 38,
   "id": "92b3418abc686916",
   "metadata": {},
   "outputs": [
    {
     "name": "stdout",
     "output_type": "stream",
     "text": [
      "Obtaining file:///home/sougata/projects/MyKEPLER\n",
      "  Preparing metadata (setup.py): started\n",
      "  Preparing metadata (setup.py): finished with status 'done'\n",
      "Requirement already satisfied: cffi in /home/sougata/.local/lib/python3.10/site-packages (from fairseq==0.8.0) (1.16.0)\n",
      "Requirement already satisfied: fastBPE in /home/sougata/.local/lib/python3.10/site-packages (from fairseq==0.8.0) (0.1.0)\n",
      "Requirement already satisfied: numpy in /home/sougata/.local/lib/python3.10/site-packages (from fairseq==0.8.0) (1.26.4)\n",
      "Requirement already satisfied: regex in /home/sougata/.local/lib/python3.10/site-packages (from fairseq==0.8.0) (2023.12.25)\n",
      "Requirement already satisfied: torch in /home/sougata/.local/lib/python3.10/site-packages (from fairseq==0.8.0) (2.3.0)\n",
      "Requirement already satisfied: tqdm in /home/sougata/.local/lib/python3.10/site-packages (from fairseq==0.8.0) (4.66.2)\n",
      "Requirement already satisfied: pycparser in /home/sougata/.local/lib/python3.10/site-packages (from cffi->fairseq==0.8.0) (2.22)\n",
      "Requirement already satisfied: filelock in /home/sougata/.local/lib/python3.10/site-packages (from torch->fairseq==0.8.0) (3.13.4)\n",
      "Requirement already satisfied: typing-extensions>=4.8.0 in /home/sougata/.local/lib/python3.10/site-packages (from torch->fairseq==0.8.0) (4.11.0)\n",
      "Requirement already satisfied: sympy in /home/sougata/.local/lib/python3.10/site-packages (from torch->fairseq==0.8.0) (1.12)\n",
      "Requirement already satisfied: networkx in /home/sougata/.local/lib/python3.10/site-packages (from torch->fairseq==0.8.0) (3.3)\n",
      "Requirement already satisfied: jinja2 in /home/sougata/anaconda3/envs/k310/lib/python3.10/site-packages (from torch->fairseq==0.8.0) (3.1.3)\n",
      "Requirement already satisfied: fsspec in /home/sougata/.local/lib/python3.10/site-packages (from torch->fairseq==0.8.0) (2024.3.1)\n",
      "Requirement already satisfied: nvidia-cuda-nvrtc-cu12==12.1.105 in /home/sougata/.local/lib/python3.10/site-packages (from torch->fairseq==0.8.0) (12.1.105)\n",
      "Requirement already satisfied: nvidia-cuda-runtime-cu12==12.1.105 in /home/sougata/.local/lib/python3.10/site-packages (from torch->fairseq==0.8.0) (12.1.105)\n",
      "Requirement already satisfied: nvidia-cuda-cupti-cu12==12.1.105 in /home/sougata/.local/lib/python3.10/site-packages (from torch->fairseq==0.8.0) (12.1.105)\n",
      "Requirement already satisfied: nvidia-cudnn-cu12==8.9.2.26 in /home/sougata/.local/lib/python3.10/site-packages (from torch->fairseq==0.8.0) (8.9.2.26)\n",
      "Requirement already satisfied: nvidia-cublas-cu12==12.1.3.1 in /home/sougata/.local/lib/python3.10/site-packages (from torch->fairseq==0.8.0) (12.1.3.1)\n",
      "Requirement already satisfied: nvidia-cufft-cu12==11.0.2.54 in /home/sougata/.local/lib/python3.10/site-packages (from torch->fairseq==0.8.0) (11.0.2.54)\n",
      "Requirement already satisfied: nvidia-curand-cu12==10.3.2.106 in /home/sougata/.local/lib/python3.10/site-packages (from torch->fairseq==0.8.0) (10.3.2.106)\n",
      "Requirement already satisfied: nvidia-cusolver-cu12==11.4.5.107 in /home/sougata/.local/lib/python3.10/site-packages (from torch->fairseq==0.8.0) (11.4.5.107)\n",
      "Requirement already satisfied: nvidia-cusparse-cu12==12.1.0.106 in /home/sougata/.local/lib/python3.10/site-packages (from torch->fairseq==0.8.0) (12.1.0.106)\n",
      "Requirement already satisfied: nvidia-nccl-cu12==2.20.5 in /home/sougata/.local/lib/python3.10/site-packages (from torch->fairseq==0.8.0) (2.20.5)\n",
      "Requirement already satisfied: nvidia-nvtx-cu12==12.1.105 in /home/sougata/.local/lib/python3.10/site-packages (from torch->fairseq==0.8.0) (12.1.105)\n",
      "Requirement already satisfied: triton==2.3.0 in /home/sougata/.local/lib/python3.10/site-packages (from torch->fairseq==0.8.0) (2.3.0)\n",
      "Requirement already satisfied: nvidia-nvjitlink-cu12 in /home/sougata/.local/lib/python3.10/site-packages (from nvidia-cusolver-cu12==11.4.5.107->torch->fairseq==0.8.0) (12.4.127)\n",
      "Requirement already satisfied: MarkupSafe>=2.0 in /home/sougata/anaconda3/envs/k310/lib/python3.10/site-packages (from jinja2->torch->fairseq==0.8.0) (2.1.3)\n",
      "Requirement already satisfied: mpmath>=0.19 in /home/sougata/.local/lib/python3.10/site-packages (from sympy->torch->fairseq==0.8.0) (1.3.0)\n",
      "Installing collected packages: fairseq\n",
      "  Attempting uninstall: fairseq\n",
      "    Found existing installation: fairseq 0.8.0\n",
      "    Uninstalling fairseq-0.8.0:\n",
      "      Successfully uninstalled fairseq-0.8.0\n",
      "  Running setup.py develop for fairseq\n",
      "Successfully installed fairseq\n"
     ]
    }
   ],
   "source": [
    "%%bash\n",
    "\n",
    "cd ../..\n",
    "python -m pip install --editable ."
   ]
  },
  {
   "cell_type": "markdown",
   "id": "9854b2bd8151297c",
   "metadata": {
    "collapsed": false,
    "jupyter": {
     "outputs_hidden": false
    }
   },
   "source": [
    "1. Encode the entity descriptions with the GPT-2 BPE:"
   ]
  },
  {
   "cell_type": "code",
   "execution_count": 39,
   "id": "b43f735dfb9b6f4d",
   "metadata": {
    "collapsed": false,
    "jupyter": {
     "outputs_hidden": false
    }
   },
   "outputs": [
    {
     "name": "stderr",
     "output_type": "stream",
     "text": [
      "--2024-05-05 01:44:33--  https://dl.fbaipublicfiles.com/fairseq/gpt2_bpe/encoder.json\n",
      "Resolving dl.fbaipublicfiles.com (dl.fbaipublicfiles.com)... 54.230.111.20, 54.230.111.15, 54.230.111.84, ...\n",
      "Connecting to dl.fbaipublicfiles.com (dl.fbaipublicfiles.com)|54.230.111.20|:443... connected.\n",
      "HTTP request sent, awaiting response... 200 OK\n",
      "Length: 1042301 (1018K) [text/plain]\n",
      "Saving to: ‘../data/gpt2_bpe/encoder.json’\n",
      "\n",
      "     0K .......... .......... .......... .......... ..........  4% 42.5M 0s\n",
      "    50K .......... .......... .......... .......... ..........  9% 2.59M 0s\n",
      "   100K .......... .......... .......... .......... .......... 14%  104M 0s\n",
      "   150K .......... .......... .......... .......... .......... 19%  201M 0s\n",
      "   200K .......... .......... .......... .......... .......... 24%  172M 0s\n",
      "   250K .......... .......... .......... .......... .......... 29% 2.62M 0s\n",
      "   300K .......... .......... .......... .......... .......... 34%  221M 0s\n",
      "   350K .......... .......... .......... .......... .......... 39%  381M 0s\n",
      "   400K .......... .......... .......... .......... .......... 44%  138M 0s\n",
      "   450K .......... .......... .......... .......... .......... 49%  388M 0s\n",
      "   500K .......... .......... .......... .......... .......... 54%  339M 0s\n",
      "   550K .......... .......... .......... .......... .......... 58%  387M 0s\n",
      "   600K .......... .......... .......... .......... .......... 63% 2.74M 0s\n",
      "   650K .......... .......... .......... .......... .......... 68% 91.1M 0s\n",
      "   700K .......... .......... .......... .......... .......... 73%  265M 0s\n",
      "   750K .......... .......... .......... .......... .......... 78%  240M 0s\n",
      "   800K .......... .......... .......... .......... .......... 83%  243M 0s\n",
      "   850K .......... .......... .......... .......... .......... 88%  334M 0s\n",
      "   900K .......... .......... .......... .......... .......... 93%  318M 0s\n",
      "   950K .......... .......... .......... .......... .......... 98%  345M 0s\n",
      "  1000K .......... .......                                    100%  332M=0.06s\n",
      "\n",
      "2024-05-05 01:44:33 (16.5 MB/s) - ‘../data/gpt2_bpe/encoder.json’ saved [1042301/1042301]\n",
      "\n",
      "--2024-05-05 01:44:33--  https://dl.fbaipublicfiles.com/fairseq/gpt2_bpe/vocab.bpe\n",
      "Resolving dl.fbaipublicfiles.com (dl.fbaipublicfiles.com)... 54.230.111.20, 54.230.111.15, 54.230.111.84, ...\n",
      "Connecting to dl.fbaipublicfiles.com (dl.fbaipublicfiles.com)|54.230.111.20|:443... connected.\n",
      "HTTP request sent, awaiting response... 200 OK\n",
      "Length: 456318 (446K) [text/plain]\n",
      "Saving to: ‘../data/gpt2_bpe/vocab.bpe’\n",
      "\n",
      "     0K .......... .......... .......... .......... .......... 11% 27.8M 0s\n",
      "    50K .......... .......... .......... .......... .......... 22%  112M 0s\n",
      "   100K .......... .......... .......... .......... .......... 33% 94.7M 0s\n",
      "   150K .......... .......... .......... .......... .......... 44%  139M 0s\n",
      "   200K .......... .......... .......... .......... .......... 56%  311M 0s\n",
      "   250K .......... .......... .......... .......... .......... 67%  162M 0s\n",
      "   300K .......... .......... .......... .......... .......... 78%  342M 0s\n",
      "   350K .......... .......... .......... .......... .......... 89%  341M 0s\n",
      "   400K .......... .......... .......... .......... .....     100%  330M=0.004s\n",
      "\n",
      "2024-05-05 01:44:33 (111 MB/s) - ‘../data/gpt2_bpe/vocab.bpe’ saved [456318/456318]\n",
      "\n"
     ]
    }
   ],
   "source": [
    "%%bash\n",
    "\n",
    "mkdir -p ../data/gpt2_bpe\n",
    "wget -O ../data/gpt2_bpe/encoder.json https://dl.fbaipublicfiles.com/fairseq/gpt2_bpe/encoder.json\n",
    "wget -O ../data/gpt2_bpe/vocab.bpe https://dl.fbaipublicfiles.com/fairseq/gpt2_bpe/vocab.bpe"
   ]
  },
  {
   "cell_type": "code",
   "execution_count": 40,
   "id": "5a68f379-fbb8-49dd-a109-5d52c2094c21",
   "metadata": {},
   "outputs": [
    {
     "name": "stdout",
     "output_type": "stream",
     "text": [
      "eval.sh\t\t\t  out_multi.log       pretrain.sh\n",
      "kepler2hft.py\t\t  out_single.log      singleKEpretrain.ipynb\n",
      "kepler2hft.sh\t\t  out_single_ke.log   singleLabel2kepler_v2.ipynb\n",
      "kepler2huggingface.ipynb  out_single_nlp.log  singleLabel2kepler_v3.ipynb\n",
      "m_bpe_encoder.sh\t  predict.log\t      test.sh\n",
      "multiLabel2kepler.ipynb   pretrain.py\t      tram\n"
     ]
    }
   ],
   "source": [
    "!ls"
   ]
  },
  {
   "cell_type": "code",
   "execution_count": 41,
   "id": "d5722ae2-31df-4d91-9fdf-b4faeabc3576",
   "metadata": {},
   "outputs": [],
   "source": [
    "%%bash\n",
    "\n",
    "export LD_LIBRARY_PATH=/home/sougata/.local/lib/python3.10/site-packages/nvidia/nvjitlink/lib:$LD_LIBRARY_PATH\n",
    "\n",
    "python ../../examples/roberta/multiprocessing_bpe_encoder.py \\\n",
    "    --encoder-json ../data/gpt2_bpe/encoder.json \\\n",
    "    --vocab-bpe ../data/gpt2_bpe/vocab.bpe \\\n",
    "    --inputs ../data/output/single/augmented/nodes.txt \\\n",
    "    --outputs ../data/output/single/augmented/nodes.bpe \\\n",
    "    --keep-empty \\\n",
    "    --workers 60"
   ]
  },
  {
   "cell_type": "markdown",
   "id": "d999e452c05d080b",
   "metadata": {
    "collapsed": false,
    "jupyter": {
     "outputs_hidden": false
    }
   },
   "source": [
    "2. Do negative sampling and dump the whole training and validation data:"
   ]
  },
  {
   "cell_type": "code",
   "execution_count": 42,
   "id": "299ef6c3b0bc945f",
   "metadata": {
    "collapsed": false,
    "jupyter": {
     "outputs_hidden": false
    }
   },
   "outputs": [
    {
     "name": "stdout",
     "output_type": "stream",
     "text": [
      "2024-05-05 01:45:34.289814 load finish\n",
      "2024-05-05 01:45:34.343941 preparation finished\n",
      "2024-05-05 01:45:36.185889 training set finished\n",
      "2024-05-05 01:45:36.288833 all finished\n"
     ]
    }
   ],
   "source": [
    "%%bash\n",
    "\n",
    "python ../../examples/KEPLER/Pretrain/KGpreprocess.py --dumpPath ../data/output/single/augmented/KE1 \\\n",
    "    -ns 1 \\\n",
    "    --ent_desc ../data/output/single/augmented/nodes.bpe \\\n",
    "    --train ../data/output/single/augmented/train.txt \\\n",
    "    --valid ../data/output/single/augmented/valid.txt"
   ]
  },
  {
   "cell_type": "markdown",
   "id": "19491d497766b21e",
   "metadata": {
    "collapsed": false,
    "jupyter": {
     "outputs_hidden": false
    }
   },
   "source": [
    "3. then randomly split the KE training data into smaller parts and the number of training instances in each part aligns with the MLM training data\n",
    "For our case it will be just one split, since our data is small.\n",
    "\n",
    "Question: what does the negative_sampling_size = 1 do? it could be that the relation triples are false."
   ]
  },
  {
   "cell_type": "code",
   "execution_count": 46,
   "id": "5ccac80a7fe44706",
   "metadata": {
    "collapsed": false,
    "jupyter": {
     "outputs_hidden": false
    }
   },
   "outputs": [
    {
     "name": "stdout",
     "output_type": "stream",
     "text": [
      "The data will be splited into 1 splits\n"
     ]
    }
   ],
   "source": [
    "%%bash\n",
    "\n",
    "python ../../examples/KEPLER/Pretrain/splitDump.py --Path ../data/output/single/augmented/KE1 \\\n",
    "    --split_size 6834352 \\\n",
    "    --negative_sampling_size 1"
   ]
  },
  {
   "cell_type": "markdown",
   "id": "b27bce6070479558",
   "metadata": {
    "collapsed": false,
    "jupyter": {
     "outputs_hidden": false
    }
   },
   "source": [
    "4. We then binarize them for training:"
   ]
  },
  {
   "cell_type": "code",
   "execution_count": 47,
   "id": "48e1031600c7930",
   "metadata": {
    "collapsed": false,
    "jupyter": {
     "outputs_hidden": false
    }
   },
   "outputs": [
    {
     "name": "stderr",
     "output_type": "stream",
     "text": [
      "--2024-05-05 01:47:04--  https://dl.fbaipublicfiles.com/fairseq/gpt2_bpe/dict.txt\n",
      "Resolving dl.fbaipublicfiles.com (dl.fbaipublicfiles.com)... 54.230.111.29, 54.230.111.15, 54.230.111.20, ...\n",
      "Connecting to dl.fbaipublicfiles.com (dl.fbaipublicfiles.com)|54.230.111.29|:443... connected.\n",
      "HTTP request sent, awaiting response... 200 OK\n",
      "Length: 603290 (589K) [text/plain]\n",
      "Saving to: ‘../data/gpt2_bpe/dict.txt’\n",
      "\n",
      "     0K .......... .......... .......... .......... ..........  8% 45.2M 0s\n",
      "    50K .......... .......... .......... .......... .......... 16%  109M 0s\n",
      "   100K .......... .......... .......... .......... .......... 25%  219M 0s\n",
      "   150K .......... .......... .......... .......... .......... 33%  232M 0s\n",
      "   200K .......... .......... .......... .......... .......... 42%  194M 0s\n",
      "   250K .......... .......... .......... .......... .......... 50%  255M 0s\n",
      "   300K .......... .......... .......... .......... .......... 59%  293M 0s\n",
      "   350K .......... .......... .......... .......... .......... 67%  356M 0s\n",
      "   400K .......... .......... .......... .......... .......... 76% 2.93M 0s\n",
      "   450K .......... .......... .......... .......... .......... 84%  166M 0s\n",
      "   500K .......... .......... .......... .......... .......... 93%  367M 0s\n",
      "   550K .......... .......... .......... .........            100%  378M=0.02s\n",
      "\n",
      "2024-05-05 01:47:04 (28.9 MB/s) - ‘../data/gpt2_bpe/dict.txt’ saved [603290/603290]\n",
      "\n"
     ]
    },
    {
     "name": "stdout",
     "output_type": "stream",
     "text": [
      "Namespace(no_progress_bar=False, log_interval=1000, log_format=None, tensorboard_logdir='', tbmf_wrapper=False, seed=1, cpu=False, fp16=False, memory_efficient_fp16=False, fp16_init_scale=128, fp16_scale_window=None, fp16_scale_tolerance=0.0, min_loss_scale=0.0001, threshold_loss_scale=None, user_dir=None, criterion='cross_entropy', tokenizer=None, bpe=None, optimizer='nag', lr_scheduler='fixed', task='translation', source_lang=None, target_lang=None, trainpref='../data/output/single/augmented/KE1_0/head/train.bpe', validpref='../data/output/single/augmented/KE1_0/head/valid.bpe', testpref=None, destdir='../data/output/single/augmented/KE1_0/head', thresholdtgt=0, thresholdsrc=0, tgtdict=None, srcdict='../data/gpt2_bpe/dict.txt', nwordstgt=-1, nwordssrc=-1, alignfile=None, dataset_impl='mmap', joined_dictionary=False, only_source=True, padding_factor=8, workers=60, bert=False)\n",
      "| [None] Dictionary: 50263 types\n",
      "| [None] ../data/output/single/augmented/KE1_0/head/train.bpe: 17908 sents, 186474 tokens, 0.0% replaced by <unk>\n",
      "| [None] Dictionary: 50263 types\n",
      "| [None] ../data/output/single/augmented/KE1_0/head/valid.bpe: 943 sents, 10163 tokens, 0.0% replaced by <unk>\n",
      "| Wrote preprocessed data to ../data/output/single/augmented/KE1_0/head\n",
      "Namespace(no_progress_bar=False, log_interval=1000, log_format=None, tensorboard_logdir='', tbmf_wrapper=False, seed=1, cpu=False, fp16=False, memory_efficient_fp16=False, fp16_init_scale=128, fp16_scale_window=None, fp16_scale_tolerance=0.0, min_loss_scale=0.0001, threshold_loss_scale=None, user_dir=None, criterion='cross_entropy', tokenizer=None, bpe=None, optimizer='nag', lr_scheduler='fixed', task='translation', source_lang=None, target_lang=None, trainpref='../data/output/single/augmented/KE1_0/tail/train.bpe', validpref='../data/output/single/augmented/KE1_0/tail/valid.bpe', testpref=None, destdir='../data/output/single/augmented/KE1_0/tail', thresholdtgt=0, thresholdsrc=0, tgtdict=None, srcdict='../data/gpt2_bpe/dict.txt', nwordstgt=-1, nwordssrc=-1, alignfile=None, dataset_impl='mmap', joined_dictionary=False, only_source=True, padding_factor=8, workers=60, bert=False)\n",
      "| [None] Dictionary: 50263 types\n",
      "| [None] ../data/output/single/augmented/KE1_0/tail/train.bpe: 17908 sents, 140690 tokens, 0.0% replaced by <unk>\n",
      "| [None] Dictionary: 50263 types\n",
      "| [None] ../data/output/single/augmented/KE1_0/tail/valid.bpe: 943 sents, 7499 tokens, 0.0% replaced by <unk>\n",
      "| Wrote preprocessed data to ../data/output/single/augmented/KE1_0/tail\n",
      "Namespace(no_progress_bar=False, log_interval=1000, log_format=None, tensorboard_logdir='', tbmf_wrapper=False, seed=1, cpu=False, fp16=False, memory_efficient_fp16=False, fp16_init_scale=128, fp16_scale_window=None, fp16_scale_tolerance=0.0, min_loss_scale=0.0001, threshold_loss_scale=None, user_dir=None, criterion='cross_entropy', tokenizer=None, bpe=None, optimizer='nag', lr_scheduler='fixed', task='translation', source_lang=None, target_lang=None, trainpref='../data/output/single/augmented/KE1_0/negHead/train.bpe', validpref='../data/output/single/augmented/KE1_0/negHead/valid.bpe', testpref=None, destdir='../data/output/single/augmented/KE1_0/negHead', thresholdtgt=0, thresholdsrc=0, tgtdict=None, srcdict='../data/gpt2_bpe/dict.txt', nwordstgt=-1, nwordssrc=-1, alignfile=None, dataset_impl='mmap', joined_dictionary=False, only_source=True, padding_factor=8, workers=60, bert=False)\n",
      "| [None] Dictionary: 50263 types\n",
      "| [None] ../data/output/single/augmented/KE1_0/negHead/train.bpe: 17908 sents, 221313 tokens, 0.0% replaced by <unk>\n",
      "| [None] Dictionary: 50263 types\n",
      "| [None] ../data/output/single/augmented/KE1_0/negHead/valid.bpe: 943 sents, 11725 tokens, 0.0% replaced by <unk>\n",
      "| Wrote preprocessed data to ../data/output/single/augmented/KE1_0/negHead\n",
      "Namespace(no_progress_bar=False, log_interval=1000, log_format=None, tensorboard_logdir='', tbmf_wrapper=False, seed=1, cpu=False, fp16=False, memory_efficient_fp16=False, fp16_init_scale=128, fp16_scale_window=None, fp16_scale_tolerance=0.0, min_loss_scale=0.0001, threshold_loss_scale=None, user_dir=None, criterion='cross_entropy', tokenizer=None, bpe=None, optimizer='nag', lr_scheduler='fixed', task='translation', source_lang=None, target_lang=None, trainpref='../data/output/single/augmented/KE1_0/negTail/train.bpe', validpref='../data/output/single/augmented/KE1_0/negTail/valid.bpe', testpref=None, destdir='../data/output/single/augmented/KE1_0/negTail', thresholdtgt=0, thresholdsrc=0, tgtdict=None, srcdict='../data/gpt2_bpe/dict.txt', nwordstgt=-1, nwordssrc=-1, alignfile=None, dataset_impl='mmap', joined_dictionary=False, only_source=True, padding_factor=8, workers=60, bert=False)\n",
      "| [None] Dictionary: 50263 types\n",
      "| [None] ../data/output/single/augmented/KE1_0/negTail/train.bpe: 17908 sents, 221050 tokens, 0.0% replaced by <unk>\n",
      "| [None] Dictionary: 50263 types\n",
      "| [None] ../data/output/single/augmented/KE1_0/negTail/valid.bpe: 943 sents, 11518 tokens, 0.0% replaced by <unk>\n",
      "| Wrote preprocessed data to ../data/output/single/augmented/KE1_0/negTail\n"
     ]
    }
   ],
   "source": [
    "%%bash\n",
    "\n",
    "export LD_LIBRARY_PATH=/home/sougata/.local/lib/python3.10/site-packages/nvidia/nvjitlink/lib:$LD_LIBRARY_PATH\n",
    "\n",
    "wget -O ../data/gpt2_bpe/dict.txt https://dl.fbaipublicfiles.com/fairseq/gpt2_bpe/dict.txt\n",
    "\n",
    "KE_Data=../data/output/single/augmented/KE1_0/\n",
    "for SPLIT in head tail negHead negTail;\n",
    "  do\n",
    "    python -m fairseq_cli.preprocess \\\n",
    "      --only-source \\\n",
    "      --srcdict ../data/gpt2_bpe/dict.txt \\\n",
    "      --trainpref ${KE_Data}${SPLIT}/train.bpe \\\n",
    "      --validpref ${KE_Data}${SPLIT}/valid.bpe \\\n",
    "      --destdir ${KE_Data}${SPLIT} \\\n",
    "      --workers 60; \\\n",
    "  done"
   ]
  },
  {
   "cell_type": "markdown",
   "id": "b8025db8c495182b",
   "metadata": {
    "collapsed": false,
    "jupyter": {
     "outputs_hidden": false
    }
   },
   "source": [
    "We now start with MLM data preprocessing:\n",
    "\n",
    "\n",
    "1. Now we encode the nodes_train, nodes_train and nodes_valid with the GPT-2 BPE:\n",
    "   (gpt2_bpe is already downloaded during the KE data preparation, we reuse that.)"
   ]
  },
  {
   "cell_type": "code",
   "execution_count": 48,
   "id": "d0cd6deae6cbd2df",
   "metadata": {
    "collapsed": false,
    "jupyter": {
     "outputs_hidden": false
    }
   },
   "outputs": [],
   "source": [
    "%%bash\n",
    "\n",
    "export LD_LIBRARY_PATH=/home/sougata/.local/lib/python3.10/site-packages/nvidia/nvjitlink/lib:$LD_LIBRARY_PATH\n",
    "\n",
    "mkdir -p ../data/output/single/augmented/MLM\n",
    "\n",
    "for SPLIT in train valid test; do \\\n",
    "    python -m examples.roberta.multiprocessing_bpe_encoder \\\n",
    "        --encoder-json ../data/gpt2_bpe/encoder.json \\\n",
    "        --vocab-bpe ../data/gpt2_bpe/vocab.bpe \\\n",
    "        --inputs ../data/output/single/augmented/nodes_${SPLIT}.txt \\\n",
    "        --outputs ../data/output/single/augmented/MLM/nodes_${SPLIT}.bpe \\\n",
    "        --keep-empty \\\n",
    "        --workers 60; \\\n",
    "done"
   ]
  },
  {
   "cell_type": "markdown",
   "id": "29f69010e6eb7ac5",
   "metadata": {
    "collapsed": false,
    "jupyter": {
     "outputs_hidden": false
    }
   },
   "source": [
    "2. We then preprocess/binarize the data using the GPT-2 fairseq dictionary:"
   ]
  },
  {
   "cell_type": "code",
   "execution_count": 49,
   "id": "5b00815d3e4ec9b9",
   "metadata": {
    "collapsed": false,
    "jupyter": {
     "outputs_hidden": false
    }
   },
   "outputs": [
    {
     "name": "stdout",
     "output_type": "stream",
     "text": [
      "Namespace(no_progress_bar=False, log_interval=1000, log_format=None, tensorboard_logdir='', tbmf_wrapper=False, seed=1, cpu=False, fp16=False, memory_efficient_fp16=False, fp16_init_scale=128, fp16_scale_window=None, fp16_scale_tolerance=0.0, min_loss_scale=0.0001, threshold_loss_scale=None, user_dir=None, criterion='cross_entropy', tokenizer=None, bpe=None, optimizer='nag', lr_scheduler='fixed', task='translation', source_lang=None, target_lang=None, trainpref='../data/output/single/augmented/MLM/nodes_train.bpe', validpref='../data/output/single/augmented/MLM/nodes_valid.bpe', testpref='../data/output/single/augmented/MLM/nodes_test.bpe', destdir='../data/output/single/augmented/MLM-bin', thresholdtgt=0, thresholdsrc=0, tgtdict=None, srcdict='../data/gpt2_bpe/dict.txt', nwordstgt=-1, nwordssrc=-1, alignfile=None, dataset_impl='mmap', joined_dictionary=False, only_source=True, padding_factor=8, workers=60, bert=False)\n",
      "| [None] Dictionary: 50263 types\n",
      "| [None] ../data/output/single/augmented/MLM/nodes_train.bpe: 4693 sents, 57525 tokens, 0.0% replaced by <unk>\n",
      "| [None] Dictionary: 50263 types\n",
      "| [None] ../data/output/single/augmented/MLM/nodes_valid.bpe: 247 sents, 3113 tokens, 0.0% replaced by <unk>\n",
      "| [None] Dictionary: 50263 types\n",
      "| [None] ../data/output/single/augmented/MLM/nodes_test.bpe: 1235 sents, 15558 tokens, 0.0% replaced by <unk>\n",
      "| Wrote preprocessed data to ../data/output/single/augmented/MLM-bin\n"
     ]
    }
   ],
   "source": [
    "%%bash\n",
    "\n",
    "export LD_LIBRARY_PATH=/home/sougata/.local/lib/python3.10/site-packages/nvidia/nvjitlink/lib:$LD_LIBRARY_PATH\n",
    "\n",
    "mkdir -p ../data/output/single/augmented/MLM-bin\n",
    "\n",
    "python -m fairseq_cli.preprocess \\\n",
    "    --only-source \\\n",
    "    --srcdict ../data/gpt2_bpe/dict.txt \\\n",
    "    --trainpref ../data/output/single/augmented/MLM/nodes_train.bpe \\\n",
    "    --validpref ../data/output/single/augmented/MLM/nodes_valid.bpe \\\n",
    "    --testpref ../data/output/single/augmented/MLM/nodes_test.bpe \\\n",
    "    --destdir ../data/output/single/augmented/MLM-bin \\\n",
    "    --workers 60"
   ]
  },
  {
   "cell_type": "markdown",
   "id": "acb2ce7d3fd5a9f4",
   "metadata": {
    "collapsed": false,
    "jupyter": {
     "outputs_hidden": false
    }
   },
   "source": [
    "All preprocessing is done, now we try out training the model with our data.\n",
    "\n",
    "We first download the pretrained models:"
   ]
  },
  {
   "cell_type": "code",
   "execution_count": 50,
   "id": "1e428b133c6d2b07",
   "metadata": {},
   "outputs": [],
   "source": [
    "# %%bash\n",
    "\n",
    "# mkdir ../data/keplerModels\n",
    "# \n",
    "# if ! [ -f ../data/keplerModels/KEPLERforNLP.pt ]; then\n",
    "#     wget -o ../data/keplerModels/KEPLERforNLP.pt https://cloud.tsinghua.edu.cn/seafhttp/files/a21e5254-ceac-4b88-88e9-8ec58cbe8a1a/KEPLERforNLP.pt\n",
    "# fi\n",
    "# if ! [ -f ../data/keplerModels/KEPLERforKE.p ]; then\n",
    "#     wget -o ../data/keplerModels/KEPLERforKE.pt https://cloud.tsinghua.edu.cn/seafhttp/files/a684dc30-6a1a-4613-97ad-0144ae84e1ca/KEPLERforKE.pt\n",
    "# fi"
   ]
  },
  {
   "cell_type": "code",
   "execution_count": 51,
   "id": "269b13183ee99f58",
   "metadata": {},
   "outputs": [],
   "source": [
    "# !mkdir ../data/keplerModels"
   ]
  },
  {
   "cell_type": "code",
   "execution_count": 52,
   "id": "6a28e06b4b3d4730",
   "metadata": {},
   "outputs": [],
   "source": [
    "# !wget -o ../data/keplerModels/KEPLERforNLP.pt https://cloud.tsinghua.edu.cn/seafhttp/files/70495ae5-48a0-48e4-9c1a-fe4893e80d3f/KEPLERforNLP.pt"
   ]
  },
  {
   "cell_type": "code",
   "execution_count": 53,
   "id": "cd40dbc688962e98",
   "metadata": {},
   "outputs": [],
   "source": [
    "# !wget -d -o ../data/keplerModels/KEPLERforKE.pt https://cloud.tsinghua.edu.cn/seafhttp/files/a3b23761-e0bd-4850-b8c4-3788ce6cea3f/KEPLERforKE.pt"
   ]
  },
  {
   "cell_type": "markdown",
   "id": "7ffc15c847d3385d",
   "metadata": {
    "collapsed": false,
    "jupyter": {
     "outputs_hidden": false
    }
   },
   "source": [
    "Then we first train on the NLP model:"
   ]
  },
  {
   "cell_type": "code",
   "execution_count": null,
   "id": "db7756b7fda225dd",
   "metadata": {
    "collapsed": false,
    "jupyter": {
     "outputs_hidden": false
    }
   },
   "outputs": [
    {
     "name": "stderr",
     "output_type": "stream",
     "text": [
      "/home/sougata/projects/MyKEPLER/fairseq/optim/adam.py:142: UserWarning: This overload of add_ is deprecated:\n",
      "\tadd_(Number alpha, Tensor other)\n",
      "Consider using one of the following signatures instead:\n",
      "\tadd_(Tensor other, *, Number alpha) (Triggered internally at ../torch/csrc/utils/python_arg_parser.cpp:1578.)\n",
      "  exp_avg.mul_(beta1).add_(1 - beta1, grad)\n"
     ]
    }
   ],
   "source": [
    "%%bash\n",
    "\n",
    "export LD_LIBRARY_PATH=/home/sougata/.local/lib/python3.10/site-packages/nvidia/nvjitlink/lib:$LD_LIBRARY_PATH\n",
    "\n",
    "TOTAL_UPDATES=125                                    # Total number of training steps\n",
    "WARMUP_UPDATES=10                                    # Warmup the learning rate over this many updates\n",
    "LR=6e-04                                                # Peak LR for polynomial LR scheduler.\n",
    "NUM_CLASSES=2                           \n",
    "MAX_SENTENCES=3                                         # Batch size.\n",
    "NUM_NODES=1\t\t\t                                    # Number of machines\n",
    "# ROBERTA_PATH=../data/checkpoints/checkpoint_last.pt\n",
    "ROBERTA_PATH=../data/keplerModels/KEPLERforNLP.pt       # Path to the original roberta model\n",
    "CHECKPOINT_PATH=../data/checkpoints/single/augmented/nlp/                     # Directory to store the checkpoints\n",
    "UPDATE_FREQ=`expr 784 / $NUM_NODES`                     # Increase the batch size\n",
    "\n",
    "DATA_DIR=../data/output/single/augmented\n",
    "\n",
    "#Path to the preprocessed KE dataset, each item corresponds to a data directory for one epoch\n",
    "KE_DATA=$DATA_DIR/KE1_0:\n",
    "\n",
    "DIST_SIZE=`expr $NUM_NODES`\n",
    "\n",
    "python -m fairseq_cli.train $DATA_DIR/MLM-bin --KEdata $KE_DATA --restore-file $ROBERTA_PATH \\\n",
    "        --save-dir $CHECKPOINT_PATH \\\n",
    "        --max-sentences $MAX_SENTENCES \\\n",
    "        --tokens-per-sample 512 \\\n",
    "        --task MLMetKE \\\n",
    "        --sample-break-mode complete \\\n",
    "        --required-batch-size-multiple 1 \\\n",
    "        --arch roberta_base \\\n",
    "        --criterion MLMetKE \\\n",
    "        --dropout 0.1 --attention-dropout 0.1 --weight-decay 0.01 \\\n",
    "        --optimizer adam --adam-betas \"(0.9, 0.98)\" --adam-eps 1e-06 \\\n",
    "        --clip-norm 0.0 \\\n",
    "        --lr-scheduler polynomial_decay --lr $LR --total-num-update $TOTAL_UPDATES --warmup-updates $WARMUP_UPDATES \\\n",
    "        --update-freq \"$UPDATE_FREQ\" \\\n",
    "        --negative-sample-size 1 --ke-model TransE \\\n",
    "        --init-token 0 \\\n",
    "        --separator-token 2 \\\n",
    "        --gamma 4 --nrelation 822 \\\n",
    "        --skip-invalid-size-inputs-valid-test \\\n",
    "        --fp16 --fp16-init-scale 2 --threshold-loss-scale 1 --fp16-scale-window 128 \\\n",
    "        --reset-optimizer --distributed-world-size \"${DIST_SIZE}\" --ddp-backend no_c10d --distributed-port 23456 \\\n",
    "        --log-format simple --log-interval 1 > out_single_augmented_nlp.log \\\n",
    "        #--relation-desc  #Add this option to encode the relation descriptions as relation embeddings (KEPLER-Rel in the paper)"
   ]
  },
  {
   "cell_type": "markdown",
   "id": "48c3ea7a221741e",
   "metadata": {},
   "source": [
    "Evaluate model"
   ]
  },
  {
   "cell_type": "code",
   "execution_count": 1,
   "id": "c2c87ebfc9bd8dd9",
   "metadata": {},
   "outputs": [
    {
     "name": "stderr",
     "output_type": "stream",
     "text": [
      "/home/sougata/anaconda3/envs/transformer/bin/python: Error while finding module specification for 'fairseq_cli.eval_lm' (ModuleNotFoundError: No module named 'fairseq_cli')\n"
     ]
    },
    {
     "ename": "CalledProcessError",
     "evalue": "Command 'b'\\nexport LD_LIBRARY_PATH=/home/sougata/.local/lib/python3.10/site-packages/nvidia/nvjitlink/lib:$LD_LIBRARY_PATH\\n\\npython -m fairseq_cli.eval_lm ../data/output/single/augmented/MLM-bin \\\\\\n    --path ../data/checkpoints/checkpoint_best.pt \\\\\\n    --sample-break-mode complete --max-tokens 3072 \\\\\\n    --context-window 2560 --softmax-batch 1024 > out_single_augmented_nlp_eval.log\\n'' returned non-zero exit status 1.",
     "output_type": "error",
     "traceback": [
      "\u001B[0;31m---------------------------------------------------------------------------\u001B[0m",
      "\u001B[0;31mCalledProcessError\u001B[0m                        Traceback (most recent call last)",
      "Cell \u001B[0;32mIn[1], line 1\u001B[0m\n\u001B[0;32m----> 1\u001B[0m \u001B[43mget_ipython\u001B[49m\u001B[43m(\u001B[49m\u001B[43m)\u001B[49m\u001B[38;5;241;43m.\u001B[39;49m\u001B[43mrun_cell_magic\u001B[49m\u001B[43m(\u001B[49m\u001B[38;5;124;43m'\u001B[39;49m\u001B[38;5;124;43mbash\u001B[39;49m\u001B[38;5;124;43m'\u001B[39;49m\u001B[43m,\u001B[49m\u001B[43m \u001B[49m\u001B[38;5;124;43m'\u001B[39;49m\u001B[38;5;124;43m'\u001B[39;49m\u001B[43m,\u001B[49m\u001B[43m \u001B[49m\u001B[38;5;124;43m'\u001B[39;49m\u001B[38;5;130;43;01m\\n\u001B[39;49;00m\u001B[38;5;124;43mexport LD_LIBRARY_PATH=/home/sougata/.local/lib/python3.10/site-packages/nvidia/nvjitlink/lib:$LD_LIBRARY_PATH\u001B[39;49m\u001B[38;5;130;43;01m\\n\u001B[39;49;00m\u001B[38;5;130;43;01m\\n\u001B[39;49;00m\u001B[38;5;124;43mpython -m fairseq_cli.eval_lm ../data/output/single/augmented/MLM-bin \u001B[39;49m\u001B[38;5;130;43;01m\\\\\u001B[39;49;00m\u001B[38;5;130;43;01m\\n\u001B[39;49;00m\u001B[38;5;124;43m    --path ../data/checkpoints/checkpoint_best.pt \u001B[39;49m\u001B[38;5;130;43;01m\\\\\u001B[39;49;00m\u001B[38;5;130;43;01m\\n\u001B[39;49;00m\u001B[38;5;124;43m    --sample-break-mode complete --max-tokens 3072 \u001B[39;49m\u001B[38;5;130;43;01m\\\\\u001B[39;49;00m\u001B[38;5;130;43;01m\\n\u001B[39;49;00m\u001B[38;5;124;43m    --context-window 2560 --softmax-batch 1024 > out_single_augmented_nlp_eval.log\u001B[39;49m\u001B[38;5;130;43;01m\\n\u001B[39;49;00m\u001B[38;5;124;43m'\u001B[39;49m\u001B[43m)\u001B[49m\n",
      "File \u001B[0;32m~/.local/lib/python3.10/site-packages/IPython/core/interactiveshell.py:2541\u001B[0m, in \u001B[0;36mInteractiveShell.run_cell_magic\u001B[0;34m(self, magic_name, line, cell)\u001B[0m\n\u001B[1;32m   2539\u001B[0m \u001B[38;5;28;01mwith\u001B[39;00m \u001B[38;5;28mself\u001B[39m\u001B[38;5;241m.\u001B[39mbuiltin_trap:\n\u001B[1;32m   2540\u001B[0m     args \u001B[38;5;241m=\u001B[39m (magic_arg_s, cell)\n\u001B[0;32m-> 2541\u001B[0m     result \u001B[38;5;241m=\u001B[39m \u001B[43mfn\u001B[49m\u001B[43m(\u001B[49m\u001B[38;5;241;43m*\u001B[39;49m\u001B[43margs\u001B[49m\u001B[43m,\u001B[49m\u001B[43m \u001B[49m\u001B[38;5;241;43m*\u001B[39;49m\u001B[38;5;241;43m*\u001B[39;49m\u001B[43mkwargs\u001B[49m\u001B[43m)\u001B[49m\n\u001B[1;32m   2543\u001B[0m \u001B[38;5;66;03m# The code below prevents the output from being displayed\u001B[39;00m\n\u001B[1;32m   2544\u001B[0m \u001B[38;5;66;03m# when using magics with decorator @output_can_be_silenced\u001B[39;00m\n\u001B[1;32m   2545\u001B[0m \u001B[38;5;66;03m# when the last Python token in the expression is a ';'.\u001B[39;00m\n\u001B[1;32m   2546\u001B[0m \u001B[38;5;28;01mif\u001B[39;00m \u001B[38;5;28mgetattr\u001B[39m(fn, magic\u001B[38;5;241m.\u001B[39mMAGIC_OUTPUT_CAN_BE_SILENCED, \u001B[38;5;28;01mFalse\u001B[39;00m):\n",
      "File \u001B[0;32m~/.local/lib/python3.10/site-packages/IPython/core/magics/script.py:155\u001B[0m, in \u001B[0;36mScriptMagics._make_script_magic.<locals>.named_script_magic\u001B[0;34m(line, cell)\u001B[0m\n\u001B[1;32m    153\u001B[0m \u001B[38;5;28;01melse\u001B[39;00m:\n\u001B[1;32m    154\u001B[0m     line \u001B[38;5;241m=\u001B[39m script\n\u001B[0;32m--> 155\u001B[0m \u001B[38;5;28;01mreturn\u001B[39;00m \u001B[38;5;28;43mself\u001B[39;49m\u001B[38;5;241;43m.\u001B[39;49m\u001B[43mshebang\u001B[49m\u001B[43m(\u001B[49m\u001B[43mline\u001B[49m\u001B[43m,\u001B[49m\u001B[43m \u001B[49m\u001B[43mcell\u001B[49m\u001B[43m)\u001B[49m\n",
      "File \u001B[0;32m~/.local/lib/python3.10/site-packages/IPython/core/magics/script.py:315\u001B[0m, in \u001B[0;36mScriptMagics.shebang\u001B[0;34m(self, line, cell)\u001B[0m\n\u001B[1;32m    310\u001B[0m \u001B[38;5;28;01mif\u001B[39;00m args\u001B[38;5;241m.\u001B[39mraise_error \u001B[38;5;129;01mand\u001B[39;00m p\u001B[38;5;241m.\u001B[39mreturncode \u001B[38;5;241m!=\u001B[39m \u001B[38;5;241m0\u001B[39m:\n\u001B[1;32m    311\u001B[0m     \u001B[38;5;66;03m# If we get here and p.returncode is still None, we must have\u001B[39;00m\n\u001B[1;32m    312\u001B[0m     \u001B[38;5;66;03m# killed it but not yet seen its return code. We don't wait for it,\u001B[39;00m\n\u001B[1;32m    313\u001B[0m     \u001B[38;5;66;03m# in case it's stuck in uninterruptible sleep. -9 = SIGKILL\u001B[39;00m\n\u001B[1;32m    314\u001B[0m     rc \u001B[38;5;241m=\u001B[39m p\u001B[38;5;241m.\u001B[39mreturncode \u001B[38;5;129;01mor\u001B[39;00m \u001B[38;5;241m-\u001B[39m\u001B[38;5;241m9\u001B[39m\n\u001B[0;32m--> 315\u001B[0m     \u001B[38;5;28;01mraise\u001B[39;00m CalledProcessError(rc, cell)\n",
      "\u001B[0;31mCalledProcessError\u001B[0m: Command 'b'\\nexport LD_LIBRARY_PATH=/home/sougata/.local/lib/python3.10/site-packages/nvidia/nvjitlink/lib:$LD_LIBRARY_PATH\\n\\npython -m fairseq_cli.eval_lm ../data/output/single/augmented/MLM-bin \\\\\\n    --path ../data/checkpoints/checkpoint_best.pt \\\\\\n    --sample-break-mode complete --max-tokens 3072 \\\\\\n    --context-window 2560 --softmax-batch 1024 > out_single_augmented_nlp_eval.log\\n'' returned non-zero exit status 1."
     ]
    }
   ],
   "source": [
    "%%bash\n",
    "\n",
    "export LD_LIBRARY_PATH=/home/sougata/.local/lib/python3.10/site-packages/nvidia/nvjitlink/lib:$LD_LIBRARY_PATH\n",
    "\n",
    "python -m fairseq_cli.eval_lm ../data/output/single/augmented/MLM-bin \\\n",
    "    --path ../data/checkpoints/checkpoint_best.pt \\\n",
    "    --sample-break-mode complete --max-tokens 3072 \\\n",
    "    --context-window 2560 --softmax-batch 1024 > out_single_augmented_nlp_eval.log"
   ]
  },
  {
   "cell_type": "code",
   "execution_count": null,
   "id": "c7feba10-7318-40cd-bc78-bbb43b73d5a7",
   "metadata": {},
   "outputs": [],
   "source": []
  }
 ],
 "metadata": {
  "kernelspec": {
   "display_name": "Python 3 (ipykernel)",
   "language": "python",
   "name": "python3"
  },
  "language_info": {
   "codemirror_mode": {
    "name": "ipython",
    "version": 3
   },
   "file_extension": ".py",
   "mimetype": "text/x-python",
   "name": "python",
   "nbconvert_exporter": "python",
   "pygments_lexer": "ipython3",
   "version": "3.10.12"
  }
 },
 "nbformat": 4,
 "nbformat_minor": 5
}
