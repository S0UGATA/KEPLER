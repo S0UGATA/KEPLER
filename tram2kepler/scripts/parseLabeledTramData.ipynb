{
 "cells": [
  {
   "cell_type": "code",
   "id": "initial_id",
   "metadata": {
    "collapsed": true,
    "ExecuteTime": {
     "end_time": "2024-05-10T19:17:13.468753Z",
     "start_time": "2024-05-10T19:17:13.466248Z"
    }
   },
   "source": "import pandas as pd",
   "outputs": [],
   "execution_count": 45
  },
  {
   "metadata": {
    "ExecuteTime": {
     "end_time": "2024-05-10T19:17:13.492876Z",
     "start_time": "2024-05-10T19:17:13.480031Z"
    }
   },
   "cell_type": "code",
   "source": "s = pd.read_json('../data/input/single_label.json')",
   "id": "538cf77411d2b742",
   "outputs": [],
   "execution_count": 46
  },
  {
   "metadata": {
    "ExecuteTime": {
     "end_time": "2024-05-10T19:17:13.502893Z",
     "start_time": "2024-05-10T19:17:13.499568Z"
    }
   },
   "cell_type": "code",
   "source": "s = s[s['doc_title'] == 'Enigma Stealer Targets Cryptocurrency Industry with Fake Jobs']",
   "id": "ec88e13a73e1aa42",
   "outputs": [],
   "execution_count": 47
  },
  {
   "metadata": {
    "ExecuteTime": {
     "end_time": "2024-05-10T19:17:13.507798Z",
     "start_time": "2024-05-10T19:17:13.504034Z"
    }
   },
   "cell_type": "code",
   "source": [
    "s = s.drop(columns=['doc_title'])\n",
    "s"
   ],
   "id": "3f0f26dd91c6cdd5",
   "outputs": [
    {
     "data": {
      "text/plain": [
       "                                                   text      label\n",
       "1324  use several highly obfuscated and underdevelop...      T1027\n",
       "1325                              malicious RAR archive      T1027\n",
       "1326  exploits CVE-2015-2291, an Intel driver vulner...      T1068\n",
       "1327  deploying a malicious kernel mode driver (“bri...      T1068\n",
       "1328                    install an information stealer.      T1005\n",
       "...                                                 ...        ...\n",
       "1383  collect system information and steals user inf...  T1074.001\n",
       "1384  tokens, and passwords from various web browser...      T1078\n",
       "1385                               captures screenshots      T1113\n",
       "1386  compressed and exfiltrated to the attacker via...      T1041\n",
       "1387  some strings, such as web browser paths and Ge...  T1573.001\n",
       "\n",
       "[64 rows x 2 columns]"
      ],
      "text/html": [
       "<div>\n",
       "<style scoped>\n",
       "    .dataframe tbody tr th:only-of-type {\n",
       "        vertical-align: middle;\n",
       "    }\n",
       "\n",
       "    .dataframe tbody tr th {\n",
       "        vertical-align: top;\n",
       "    }\n",
       "\n",
       "    .dataframe thead th {\n",
       "        text-align: right;\n",
       "    }\n",
       "</style>\n",
       "<table border=\"1\" class=\"dataframe\">\n",
       "  <thead>\n",
       "    <tr style=\"text-align: right;\">\n",
       "      <th></th>\n",
       "      <th>text</th>\n",
       "      <th>label</th>\n",
       "    </tr>\n",
       "  </thead>\n",
       "  <tbody>\n",
       "    <tr>\n",
       "      <th>1324</th>\n",
       "      <td>use several highly obfuscated and underdevelop...</td>\n",
       "      <td>T1027</td>\n",
       "    </tr>\n",
       "    <tr>\n",
       "      <th>1325</th>\n",
       "      <td>malicious RAR archive</td>\n",
       "      <td>T1027</td>\n",
       "    </tr>\n",
       "    <tr>\n",
       "      <th>1326</th>\n",
       "      <td>exploits CVE-2015-2291, an Intel driver vulner...</td>\n",
       "      <td>T1068</td>\n",
       "    </tr>\n",
       "    <tr>\n",
       "      <th>1327</th>\n",
       "      <td>deploying a malicious kernel mode driver (“bri...</td>\n",
       "      <td>T1068</td>\n",
       "    </tr>\n",
       "    <tr>\n",
       "      <th>1328</th>\n",
       "      <td>install an information stealer.</td>\n",
       "      <td>T1005</td>\n",
       "    </tr>\n",
       "    <tr>\n",
       "      <th>...</th>\n",
       "      <td>...</td>\n",
       "      <td>...</td>\n",
       "    </tr>\n",
       "    <tr>\n",
       "      <th>1383</th>\n",
       "      <td>collect system information and steals user inf...</td>\n",
       "      <td>T1074.001</td>\n",
       "    </tr>\n",
       "    <tr>\n",
       "      <th>1384</th>\n",
       "      <td>tokens, and passwords from various web browser...</td>\n",
       "      <td>T1078</td>\n",
       "    </tr>\n",
       "    <tr>\n",
       "      <th>1385</th>\n",
       "      <td>captures screenshots</td>\n",
       "      <td>T1113</td>\n",
       "    </tr>\n",
       "    <tr>\n",
       "      <th>1386</th>\n",
       "      <td>compressed and exfiltrated to the attacker via...</td>\n",
       "      <td>T1041</td>\n",
       "    </tr>\n",
       "    <tr>\n",
       "      <th>1387</th>\n",
       "      <td>some strings, such as web browser paths and Ge...</td>\n",
       "      <td>T1573.001</td>\n",
       "    </tr>\n",
       "  </tbody>\n",
       "</table>\n",
       "<p>64 rows × 2 columns</p>\n",
       "</div>"
      ]
     },
     "execution_count": 48,
     "metadata": {},
     "output_type": "execute_result"
    }
   ],
   "execution_count": 48
  },
  {
   "metadata": {
    "ExecuteTime": {
     "end_time": "2024-05-10T19:17:13.512177Z",
     "start_time": "2024-05-10T19:17:13.508439Z"
    }
   },
   "cell_type": "code",
   "source": [
    "a = s.label.value_counts()\n",
    "a"
   ],
   "id": "604a0ddbdd30fa67",
   "outputs": [
    {
     "data": {
      "text/plain": [
       "label\n",
       "T1027        15\n",
       "T1095         7\n",
       "T1140         6\n",
       "T1105         4\n",
       "T1106         3\n",
       "T1548.002     3\n",
       "T1005         2\n",
       "T1036.005     2\n",
       "T1204.002     2\n",
       "T1012         2\n",
       "T1068         2\n",
       "T1218.011     2\n",
       "T1562.001     2\n",
       "T1074.001     2\n",
       "T1041         1\n",
       "T1113         1\n",
       "T1053.005     1\n",
       "T1078         1\n",
       "T1112         1\n",
       "T1033         1\n",
       "T1082         1\n",
       "T1566.001     1\n",
       "T1056.001     1\n",
       "T1573.001     1\n",
       "Name: count, dtype: int64"
      ]
     },
     "execution_count": 49,
     "metadata": {},
     "output_type": "execute_result"
    }
   ],
   "execution_count": 49
  },
  {
   "metadata": {
    "ExecuteTime": {
     "end_time": "2024-05-10T19:17:14.218087Z",
     "start_time": "2024-05-10T19:17:13.513295Z"
    }
   },
   "cell_type": "code",
   "source": [
    "m = pd.read_csv('./results/tram_predict/bestModel/m/0.9.csv')\n",
    "ma = pd.read_csv('./results/tram_predict/bestModel/ma/ma0.9.csv')\n",
    "s = pd.read_csv('./results/tram_predict/bestModel/s/0.9.csv')\n",
    "sa = pd.read_csv('./results/tram_predict/bestModel/sa/0.9.csv')\n",
    "#print(m)\n",
    "#print(ma)\n",
    "#print(s)\n",
    "#print(sa)\n",
    "\n",
    "import numpy as np\n",
    "import ast\n",
    "\n",
    "me = m['label(s)'].apply(ast.literal_eval).explode().dropna()\n",
    "mae = ma['label(s)'].apply(ast.literal_eval).explode().dropna()\n",
    "se = s['label(s)'].apply(ast.literal_eval).explode().dropna()\n",
    "sae = sa['label(s)'].apply(ast.literal_eval).explode().dropna()\n",
    "l = np.concatenate((me.unique(), mae.unique(), se.unique(), sae.unique()))\n",
    "#print(me)\n",
    "#print(mae)\n",
    "#print(se)\n",
    "#print(sae)\n",
    "#print(l)\n",
    "mvc = me.value_counts()\n",
    "mavc = mae.value_counts()\n",
    "svc = se.value_counts()\n",
    "savc = sae.value_counts()\n",
    "print(mvc)\n",
    "print(mavc)\n",
    "print(svc)\n",
    "print(savc)"
   ],
   "id": "f428bcfcae19fab1",
   "outputs": [
    {
     "ename": "KeyError",
     "evalue": "'label(s)'",
     "output_type": "error",
     "traceback": [
      "\u001B[0;31m---------------------------------------------------------------------------\u001B[0m",
      "\u001B[0;31mKeyError\u001B[0m                                  Traceback (most recent call last)",
      "File \u001B[0;32m~/anaconda3/envs/kepler/lib/python3.12/site-packages/pandas/core/indexes/base.py:3805\u001B[0m, in \u001B[0;36mIndex.get_loc\u001B[0;34m(self, key)\u001B[0m\n\u001B[1;32m   3804\u001B[0m \u001B[38;5;28;01mtry\u001B[39;00m:\n\u001B[0;32m-> 3805\u001B[0m     \u001B[38;5;28;01mreturn\u001B[39;00m \u001B[38;5;28mself\u001B[39m\u001B[38;5;241m.\u001B[39m_engine\u001B[38;5;241m.\u001B[39mget_loc(casted_key)\n\u001B[1;32m   3806\u001B[0m \u001B[38;5;28;01mexcept\u001B[39;00m \u001B[38;5;167;01mKeyError\u001B[39;00m \u001B[38;5;28;01mas\u001B[39;00m err:\n",
      "File \u001B[0;32mindex.pyx:167\u001B[0m, in \u001B[0;36mpandas._libs.index.IndexEngine.get_loc\u001B[0;34m()\u001B[0m\n",
      "File \u001B[0;32mindex.pyx:196\u001B[0m, in \u001B[0;36mpandas._libs.index.IndexEngine.get_loc\u001B[0;34m()\u001B[0m\n",
      "File \u001B[0;32mpandas/_libs/hashtable_class_helper.pxi:7081\u001B[0m, in \u001B[0;36mpandas._libs.hashtable.PyObjectHashTable.get_item\u001B[0;34m()\u001B[0m\n",
      "File \u001B[0;32mpandas/_libs/hashtable_class_helper.pxi:7089\u001B[0m, in \u001B[0;36mpandas._libs.hashtable.PyObjectHashTable.get_item\u001B[0;34m()\u001B[0m\n",
      "\u001B[0;31mKeyError\u001B[0m: 'label(s)'",
      "\nThe above exception was the direct cause of the following exception:\n",
      "\u001B[0;31mKeyError\u001B[0m                                  Traceback (most recent call last)",
      "Cell \u001B[0;32mIn[50], line 18\u001B[0m\n\u001B[1;32m     15\u001B[0m \u001B[38;5;28;01mimport\u001B[39;00m \u001B[38;5;21;01mnumpy\u001B[39;00m \u001B[38;5;28;01mas\u001B[39;00m \u001B[38;5;21;01mnp\u001B[39;00m\n\u001B[1;32m     16\u001B[0m \u001B[38;5;28;01mimport\u001B[39;00m \u001B[38;5;21;01mast\u001B[39;00m\n\u001B[0;32m---> 18\u001B[0m me \u001B[38;5;241m=\u001B[39m m[\u001B[38;5;124m'\u001B[39m\u001B[38;5;124mlabel(s)\u001B[39m\u001B[38;5;124m'\u001B[39m]\u001B[38;5;241m.\u001B[39mapply(ast\u001B[38;5;241m.\u001B[39mliteral_eval)\u001B[38;5;241m.\u001B[39mexplode()\u001B[38;5;241m.\u001B[39mdropna()\n\u001B[1;32m     19\u001B[0m mae \u001B[38;5;241m=\u001B[39m ma[\u001B[38;5;124m'\u001B[39m\u001B[38;5;124mlabel(s)\u001B[39m\u001B[38;5;124m'\u001B[39m]\u001B[38;5;241m.\u001B[39mapply(ast\u001B[38;5;241m.\u001B[39mliteral_eval)\u001B[38;5;241m.\u001B[39mexplode()\u001B[38;5;241m.\u001B[39mdropna()\n\u001B[1;32m     20\u001B[0m se \u001B[38;5;241m=\u001B[39m s[\u001B[38;5;124m'\u001B[39m\u001B[38;5;124mlabel(s)\u001B[39m\u001B[38;5;124m'\u001B[39m]\u001B[38;5;241m.\u001B[39mapply(ast\u001B[38;5;241m.\u001B[39mliteral_eval)\u001B[38;5;241m.\u001B[39mexplode()\u001B[38;5;241m.\u001B[39mdropna()\n",
      "File \u001B[0;32m~/anaconda3/envs/kepler/lib/python3.12/site-packages/pandas/core/frame.py:4090\u001B[0m, in \u001B[0;36mDataFrame.__getitem__\u001B[0;34m(self, key)\u001B[0m\n\u001B[1;32m   4088\u001B[0m \u001B[38;5;28;01mif\u001B[39;00m \u001B[38;5;28mself\u001B[39m\u001B[38;5;241m.\u001B[39mcolumns\u001B[38;5;241m.\u001B[39mnlevels \u001B[38;5;241m>\u001B[39m \u001B[38;5;241m1\u001B[39m:\n\u001B[1;32m   4089\u001B[0m     \u001B[38;5;28;01mreturn\u001B[39;00m \u001B[38;5;28mself\u001B[39m\u001B[38;5;241m.\u001B[39m_getitem_multilevel(key)\n\u001B[0;32m-> 4090\u001B[0m indexer \u001B[38;5;241m=\u001B[39m \u001B[38;5;28mself\u001B[39m\u001B[38;5;241m.\u001B[39mcolumns\u001B[38;5;241m.\u001B[39mget_loc(key)\n\u001B[1;32m   4091\u001B[0m \u001B[38;5;28;01mif\u001B[39;00m is_integer(indexer):\n\u001B[1;32m   4092\u001B[0m     indexer \u001B[38;5;241m=\u001B[39m [indexer]\n",
      "File \u001B[0;32m~/anaconda3/envs/kepler/lib/python3.12/site-packages/pandas/core/indexes/base.py:3812\u001B[0m, in \u001B[0;36mIndex.get_loc\u001B[0;34m(self, key)\u001B[0m\n\u001B[1;32m   3807\u001B[0m     \u001B[38;5;28;01mif\u001B[39;00m \u001B[38;5;28misinstance\u001B[39m(casted_key, \u001B[38;5;28mslice\u001B[39m) \u001B[38;5;129;01mor\u001B[39;00m (\n\u001B[1;32m   3808\u001B[0m         \u001B[38;5;28misinstance\u001B[39m(casted_key, abc\u001B[38;5;241m.\u001B[39mIterable)\n\u001B[1;32m   3809\u001B[0m         \u001B[38;5;129;01mand\u001B[39;00m \u001B[38;5;28many\u001B[39m(\u001B[38;5;28misinstance\u001B[39m(x, \u001B[38;5;28mslice\u001B[39m) \u001B[38;5;28;01mfor\u001B[39;00m x \u001B[38;5;129;01min\u001B[39;00m casted_key)\n\u001B[1;32m   3810\u001B[0m     ):\n\u001B[1;32m   3811\u001B[0m         \u001B[38;5;28;01mraise\u001B[39;00m InvalidIndexError(key)\n\u001B[0;32m-> 3812\u001B[0m     \u001B[38;5;28;01mraise\u001B[39;00m \u001B[38;5;167;01mKeyError\u001B[39;00m(key) \u001B[38;5;28;01mfrom\u001B[39;00m \u001B[38;5;21;01merr\u001B[39;00m\n\u001B[1;32m   3813\u001B[0m \u001B[38;5;28;01mexcept\u001B[39;00m \u001B[38;5;167;01mTypeError\u001B[39;00m:\n\u001B[1;32m   3814\u001B[0m     \u001B[38;5;66;03m# If we have a listlike key, _check_indexing_error will raise\u001B[39;00m\n\u001B[1;32m   3815\u001B[0m     \u001B[38;5;66;03m#  InvalidIndexError. Otherwise we fall through and re-raise\u001B[39;00m\n\u001B[1;32m   3816\u001B[0m     \u001B[38;5;66;03m#  the TypeError.\u001B[39;00m\n\u001B[1;32m   3817\u001B[0m     \u001B[38;5;28mself\u001B[39m\u001B[38;5;241m.\u001B[39m_check_indexing_error(key)\n",
      "\u001B[0;31mKeyError\u001B[0m: 'label(s)'"
     ]
    }
   ],
   "execution_count": 50
  },
  {
   "metadata": {},
   "cell_type": "code",
   "source": [
    "df = pd.DataFrame({\n",
    "    'Ground Truth': a,\n",
    "    'Multi Label': mvc,\n",
    "    'Multi Label Enriched': mavc,\n",
    "    'Single Label': svc,\n",
    "    'Single Label Enriched': savc\n",
    "})"
   ],
   "id": "18e1874418cc83ac",
   "outputs": [],
   "execution_count": null
  },
  {
   "metadata": {
    "ExecuteTime": {
     "end_time": "2024-05-10T19:23:25.768374Z",
     "start_time": "2024-05-10T19:23:25.765722Z"
    }
   },
   "cell_type": "code",
   "source": [
    "import os\n",
    "print(os.environ['CONDA_DEFAULT_ENV'])"
   ],
   "id": "28a9b67f3585c5ad",
   "outputs": [
    {
     "name": "stdout",
     "output_type": "stream",
     "text": [
      "kepler\n"
     ]
    }
   ],
   "execution_count": 53
  },
  {
   "metadata": {},
   "cell_type": "markdown",
   "source": "",
   "id": "e239a828ab11872a"
  },
  {
   "metadata": {
    "ExecuteTime": {
     "end_time": "2024-05-10T19:24:35.147363Z",
     "start_time": "2024-05-10T19:24:31.469211Z"
    }
   },
   "cell_type": "code",
   "source": [
    "import matplotlib.pyplot as plt\n",
    "import seaborn as sns\n",
    "\n",
    "colors = ['#ffd1dc', '#d1fffb', '#daffc1', '#f2d1ff', '#ffd1d1']\n",
    "ax = df.plot(kind='bar', stacked=True, figsize=(10, 4), color=sns.color_palette(\"pastel\").as_hex(),)\n",
    "# Hide the top and right spines\n",
    "ax.spines['right'].set_visible(False)\n",
    "ax.spines['top'].set_visible(False)\n",
    "# Only show ticks on the left and bottom spines\n",
    "ax.yaxis.tick_left()\n",
    "ax.xaxis.tick_bottom()\n",
    "\n",
    "plt.xlabel('Technique', fontsize=14)\n",
    "plt.ylabel('Predicted Frequency', fontsize=14)\n",
    "plt.title('Actual VS Predicted Techniques counts', fontsize=16)\n",
    "plt.legend()\n",
    "plt.tight_layout()\n",
    "plt.savefig('TechniqueCount.pdf', format='pdf')\n",
    "\n",
    "# Show the plot\n",
    "plt.show()\n"
   ],
   "id": "293645b76f7501a8",
   "outputs": [
    {
     "data": {
      "text/plain": [
       "<Figure size 1000x400 with 1 Axes>"
      ],
      "image/png": "[encoded data removed]"
     },
     "metadata": {},
     "output_type": "display_data"
    }
   ],
   "execution_count": 54
  },
  {
   "metadata": {
    "ExecuteTime": {
     "end_time": "2024-05-10T22:32:36.838319Z",
     "start_time": "2024-05-10T22:32:36.834686Z"
    }
   },
   "cell_type": "code",
   "source": [
    "import seaborn as sns\n",
    "sns.color_palette(\"pastel\").as_hex()"
   ],
   "id": "6c38f962cad943fe",
   "outputs": [
    {
     "data": {
      "text/plain": [
       "['#a1c9f4',\n",
       " '#ffb482',\n",
       " '#8de5a1',\n",
       " '#ff9f9b',\n",
       " '#d0bbff',\n",
       " '#debb9b',\n",
       " '#fab0e4',\n",
       " '#cfcfcf',\n",
       " '#fffea3',\n",
       " '#b9f2f0']"
      ],
      "text/html": [
       "<svg  width=\"550\" height=\"55\"><rect x=\"0\" y=\"0\" width=\"55\" height=\"55\" style=\"fill:#a1c9f4;stroke-width:2;stroke:rgb(255,255,255)\"/><rect x=\"55\" y=\"0\" width=\"55\" height=\"55\" style=\"fill:#ffb482;stroke-width:2;stroke:rgb(255,255,255)\"/><rect x=\"110\" y=\"0\" width=\"55\" height=\"55\" style=\"fill:#8de5a1;stroke-width:2;stroke:rgb(255,255,255)\"/><rect x=\"165\" y=\"0\" width=\"55\" height=\"55\" style=\"fill:#ff9f9b;stroke-width:2;stroke:rgb(255,255,255)\"/><rect x=\"220\" y=\"0\" width=\"55\" height=\"55\" style=\"fill:#d0bbff;stroke-width:2;stroke:rgb(255,255,255)\"/><rect x=\"275\" y=\"0\" width=\"55\" height=\"55\" style=\"fill:#debb9b;stroke-width:2;stroke:rgb(255,255,255)\"/><rect x=\"330\" y=\"0\" width=\"55\" height=\"55\" style=\"fill:#fab0e4;stroke-width:2;stroke:rgb(255,255,255)\"/><rect x=\"385\" y=\"0\" width=\"55\" height=\"55\" style=\"fill:#cfcfcf;stroke-width:2;stroke:rgb(255,255,255)\"/><rect x=\"440\" y=\"0\" width=\"55\" height=\"55\" style=\"fill:#fffea3;stroke-width:2;stroke:rgb(255,255,255)\"/><rect x=\"495\" y=\"0\" width=\"55\" height=\"55\" style=\"fill:#b9f2f0;stroke-width:2;stroke:rgb(255,255,255)\"/></svg>"
      ]
     },
     "execution_count": 5,
     "metadata": {},
     "output_type": "execute_result"
    }
   ],
   "execution_count": 5
  },
  {
   "metadata": {
    "ExecuteTime": {
     "end_time": "2024-05-10T22:32:34.644011Z",
     "start_time": "2024-05-10T22:32:34.641589Z"
    }
   },
   "cell_type": "code",
   "source": "print(sns.color_palette(\"pastel\").as_hex())",
   "id": "671e95328db261df",
   "outputs": [
    {
     "name": "stdout",
     "output_type": "stream",
     "text": [
      "['#a1c9f4', '#ffb482', '#8de5a1', '#ff9f9b', '#d0bbff', '#debb9b', '#fab0e4', '#cfcfcf', '#fffea3', '#b9f2f0']\n"
     ]
    }
   ],
   "execution_count": 4
  },
  {
   "metadata": {
    "ExecuteTime": {
     "end_time": "2024-05-10T22:35:40.249702Z",
     "start_time": "2024-05-10T22:35:40.245584Z"
    }
   },
   "cell_type": "code",
   "source": [
    "import seaborn as sns\n",
    "\n",
    "# Get the pastel color palette\n",
    "pastel_colors = sns.color_palette(\"pastel\")\n",
    "\n",
    "# Convert the RGB colors to hex\n",
    "pastel_colors_hex = pastel_colors.as_hex()\n",
    "\n",
    "# Generate LaTeX \\definecolor commands\n",
    "latex_commands = []\n",
    "for i, color in enumerate(pastel_colors_hex):\n",
    "    # Remove the '#' from the color code\n",
    "    color = color.lstrip('#')\n",
    "    # Convert the color code to RGB\n",
    "    r, g, b = tuple(int(color[i:i+2], 16) / 255.0 for i in (0, 2, 4))\n",
    "    # Generate the \\definecolor command\n",
    "    command = \"\\\\definecolor{{pastel{}}}{{RGB}}{{{},{},{}}}\".format(i+1, int(r*255), int(g*255), int(b*255))\n",
    "    latex_commands.append(command)\n",
    "\n",
    "# Print the LaTeX commands\n",
    "for command in latex_commands:\n",
    "    print(command)"
   ],
   "id": "a1c7ea2b4c6a278b",
   "outputs": [
    {
     "name": "stdout",
     "output_type": "stream",
     "text": [
      "\\definecolor{pastel1}{RGB}{161,201,244}\n",
      "\\definecolor{pastel2}{RGB}{255,180,130}\n",
      "\\definecolor{pastel3}{RGB}{141,229,161}\n",
      "\\definecolor{pastel4}{RGB}{255,159,155}\n",
      "\\definecolor{pastel5}{RGB}{208,187,255}\n",
      "\\definecolor{pastel6}{RGB}{222,187,155}\n",
      "\\definecolor{pastel7}{RGB}{250,176,228}\n",
      "\\definecolor{pastel8}{RGB}{207,207,207}\n",
      "\\definecolor{pastel9}{RGB}{255,254,163}\n",
      "\\definecolor{pastel10}{RGB}{185,242,240}\n"
     ]
    }
   ],
   "execution_count": 6
  }
 ],
 "metadata": {
  "kernelspec": {
   "display_name": "Python 3",
   "language": "python",
   "name": "python3"
  },
  "language_info": {
   "codemirror_mode": {
    "name": "ipython",
    "version": 2
   },
   "file_extension": ".py",
   "mimetype": "text/x-python",
   "name": "python",
   "nbconvert_exporter": "python",
   "pygments_lexer": "ipython2",
   "version": "2.7.6"
  }
 },
 "nbformat": 4,
 "nbformat_minor": 5
}
