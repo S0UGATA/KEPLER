{
 "cells": [
  {
   "cell_type": "markdown",
   "id": "1b43fa44-9970-4e03-b844-83036282f261",
   "metadata": {},
   "source": [
    "Convert kepler checkpoints to huggingface"
   ]
  },
  {
   "cell_type": "code",
   "execution_count": 28,
   "id": "2f8c339d-ddc6-497e-8d99-656e320a4a01",
   "metadata": {},
   "outputs": [
    {
     "name": "stdout",
     "output_type": "stream",
     "text": [
      "k310\n"
     ]
    }
   ],
   "source": [
    "import os\n",
    "print(os.environ['CONDA_DEFAULT_ENV'])"
   ]
  },
  {
   "cell_type": "code",
   "execution_count": 7,
   "id": "3c5763f5-9212-4a5c-8045-9fa5ad256b52",
   "metadata": {},
   "outputs": [
    {
     "name": "stdout",
     "output_type": "stream",
     "text": [
      "Python 3.10.2\n"
     ]
    }
   ],
   "source": [
    "!python --version"
   ]
  },
  {
   "cell_type": "code",
   "execution_count": 9,
   "id": "f68210a4-0b04-40de-8d60-2cceeb909c39",
   "metadata": {},
   "outputs": [
    {
     "name": "stdout",
     "output_type": "stream",
     "text": [
      "/home/sougata/projects/MyKEPLER/tram2kepler/scripts\n",
      "total 2392\n",
      "-rw-r--r-- 1 sougata nmbu      77 May  1 14:13 kepler2hft.py\n",
      "-rw-r--r-- 1 sougata nmbu     299 May  1 14:04 kepler2hft.sh\n",
      "-rw-rw-r-- 1 sougata nmbu   23035 May  1 14:15 kepler2huggingface.ipynb\n",
      "-rw-rw-r-- 1 sougata nmbu     283 Apr 21 15:33 m_bpe_encoder.sh\n",
      "-rw-r--r-- 1 sougata nmbu   74866 Apr 21 22:09 multiLabel2kepler.ipynb\n",
      "-rw-rw-r-- 1 sougata nmbu 1070996 Apr 29 00:08 out_multi.log\n",
      "-rw-rw-r-- 1 sougata nmbu  802835 Apr 26 22:40 out_single.log\n",
      "-rw-rw-r-- 1 sougata nmbu    4662 Apr 26 23:42 out_single_ke.log\n",
      "-rw-rw-r-- 1 sougata nmbu  324077 Apr 29 00:06 out_single_nlp.log\n",
      "-rw-r--r-- 1 sougata nmbu    2332 Apr 17 21:14 pretrain.py\n",
      "-rw-r--r-- 1 sougata nmbu    2167 Apr 17 21:11 pretrain.sh\n",
      "-rw-r--r-- 1 sougata nmbu   21381 Apr 26 23:44 singleKEpretrain.ipynb\n",
      "-rw-r--r-- 1 sougata nmbu   79544 May  1 11:26 singleLabel2kepler_v2.ipynb\n"
     ]
    }
   ],
   "source": [
    "!pwd\n",
    "!ls -l"
   ]
  },
  {
   "cell_type": "code",
   "execution_count": null,
   "id": "bbe5c501-2d61-43bf-b107-564a89f0466d",
   "metadata": {},
   "outputs": [],
   "source": []
  },
  {
   "cell_type": "code",
   "execution_count": 13,
   "id": "a5af3c11-8668-485b-99a7-203ea5f841fa",
   "metadata": {},
   "outputs": [
    {
     "name": "stdout",
     "output_type": "stream",
     "text": [
      "Obtaining file:///home/sougata/projects/MyKEPLER/transformers\n",
      "  Installing build dependencies ... \u001b[?25ldone\n",
      "\u001b[?25h  Checking if build backend supports build_editable ... \u001b[?25ldone\n",
      "\u001b[?25h  Getting requirements to build editable ... \u001b[?25ldone\n",
      "\u001b[?25h  Installing backend dependencies ... \u001b[?25ldone\n",
      "\u001b[?25h  Preparing editable metadata (pyproject.toml) ... \u001b[?25ldone\n",
      "\u001b[?25hRequirement already satisfied: filelock in /home/sougata/.local/lib/python3.10/site-packages (from transformers==4.41.0.dev0) (3.13.4)\n",
      "Requirement already satisfied: huggingface-hub<1.0,>=0.19.3 in /home/sougata/.local/lib/python3.10/site-packages (from transformers==4.41.0.dev0) (0.22.2)\n",
      "Requirement already satisfied: numpy>=1.17 in /home/sougata/.local/lib/python3.10/site-packages (from transformers==4.41.0.dev0) (1.26.4)\n",
      "Requirement already satisfied: packaging>=20.0 in /home/sougata/.local/lib/python3.10/site-packages (from transformers==4.41.0.dev0) (24.0)\n",
      "Requirement already satisfied: pyyaml>=5.1 in /home/sougata/anaconda3/envs/k310/lib/python3.10/site-packages (from transformers==4.41.0.dev0) (6.0.1)\n",
      "Requirement already satisfied: regex!=2019.12.17 in /home/sougata/.local/lib/python3.10/site-packages (from transformers==4.41.0.dev0) (2023.12.25)\n",
      "Requirement already satisfied: requests in /home/sougata/.local/lib/python3.10/site-packages (from transformers==4.41.0.dev0) (2.31.0)\n",
      "Collecting tokenizers<0.20,>=0.19 (from transformers==4.41.0.dev0)\n",
      "  Downloading tokenizers-0.19.1-cp310-cp310-manylinux_2_17_x86_64.manylinux2014_x86_64.whl.metadata (6.7 kB)\n",
      "Requirement already satisfied: safetensors>=0.4.1 in /home/sougata/.local/lib/python3.10/site-packages (from transformers==4.41.0.dev0) (0.4.3)\n",
      "Requirement already satisfied: tqdm>=4.27 in /home/sougata/.local/lib/python3.10/site-packages (from transformers==4.41.0.dev0) (4.66.2)\n",
      "Requirement already satisfied: fsspec>=2023.5.0 in /home/sougata/.local/lib/python3.10/site-packages (from huggingface-hub<1.0,>=0.19.3->transformers==4.41.0.dev0) (2024.3.1)\n",
      "Requirement already satisfied: typing-extensions>=3.7.4.3 in /home/sougata/.local/lib/python3.10/site-packages (from huggingface-hub<1.0,>=0.19.3->transformers==4.41.0.dev0) (4.11.0)\n",
      "Requirement already satisfied: charset-normalizer<4,>=2 in /home/sougata/.local/lib/python3.10/site-packages (from requests->transformers==4.41.0.dev0) (3.3.2)\n",
      "Requirement already satisfied: idna<4,>=2.5 in /home/sougata/anaconda3/envs/k310/lib/python3.10/site-packages (from requests->transformers==4.41.0.dev0) (3.7)\n",
      "Requirement already satisfied: urllib3<3,>=1.21.1 in /home/sougata/anaconda3/envs/k310/lib/python3.10/site-packages (from requests->transformers==4.41.0.dev0) (2.1.0)\n",
      "Requirement already satisfied: certifi>=2017.4.17 in /home/sougata/anaconda3/envs/k310/lib/python3.10/site-packages (from requests->transformers==4.41.0.dev0) (2024.2.2)\n",
      "Downloading tokenizers-0.19.1-cp310-cp310-manylinux_2_17_x86_64.manylinux2014_x86_64.whl (3.6 MB)\n",
      "\u001b[2K   \u001b[90m━━━━━━━━━━━━━━━━━━━━━━━━━━━━━━━━━━━━━━━━\u001b[0m \u001b[32m3.6/3.6 MB\u001b[0m \u001b[31m95.4 MB/s\u001b[0m eta \u001b[36m0:00:00\u001b[0m:00:01\u001b[0m\n",
      "\u001b[?25hBuilding wheels for collected packages: transformers\n",
      "  Building editable for transformers (pyproject.toml) ... \u001b[?25ldone\n",
      "\u001b[?25h  Created wheel for transformers: filename=transformers-4.41.0.dev0-0.editable-py3-none-any.whl size=17361 sha256=77f2f254eaac4d306c8540732795877adcc524102d20f43dd30059b79a518c43\n",
      "  Stored in directory: /tmp/pip-ephem-wheel-cache-pyfmabrd/wheels/fc/b8/24/be1e9924f877c3860c332800a52bd642671338185ef5a2ff7c\n",
      "Successfully built transformers\n",
      "Installing collected packages: tokenizers, transformers\n",
      "  Attempting uninstall: tokenizers\n",
      "    Found existing installation: tokenizers 0.15.2\n",
      "    Uninstalling tokenizers-0.15.2:\n",
      "      Successfully uninstalled tokenizers-0.15.2\n",
      "  Attempting uninstall: transformers\n",
      "    Found existing installation: transformers 4.39.3\n",
      "    Uninstalling transformers-4.39.3:\n",
      "      Successfully uninstalled transformers-4.39.3\n",
      "Successfully installed tokenizers-0.19.1 transformers-4.41.0.dev0\n"
     ]
    }
   ],
   "source": [
    "#!git clone https://github.com/huggingface/transformers.git ../../transformers\n",
    "!python -m pip install -e ../../transformers"
   ]
  },
  {
   "cell_type": "code",
   "execution_count": 19,
   "id": "5fb5d0ac-773e-4a91-b35d-ff3cf5085712",
   "metadata": {},
   "outputs": [
    {
     "name": "stdout",
     "output_type": "stream",
     "text": [
      "/home/sougata/projects/MyKEPLER/tram2kepler/scripts\n",
      "total 2384\n",
      "-rw-r--r-- 1 sougata nmbu      20 May  1 14:39 kepler2hft.py\n",
      "-rw-r--r-- 1 sougata nmbu     399 May  1 14:33 kepler2hft.sh\n",
      "-rw-rw-r-- 1 sougata nmbu   16220 May  1 14:32 kepler2huggingface.ipynb\n",
      "-rw-rw-r-- 1 sougata nmbu     283 Apr 21 15:33 m_bpe_encoder.sh\n",
      "-rw-r--r-- 1 sougata nmbu   74866 Apr 21 22:09 multiLabel2kepler.ipynb\n",
      "-rw-rw-r-- 1 sougata nmbu 1070996 Apr 29 00:08 out_multi.log\n",
      "-rw-rw-r-- 1 sougata nmbu  802835 Apr 26 22:40 out_single.log\n",
      "-rw-rw-r-- 1 sougata nmbu    4662 Apr 26 23:42 out_single_ke.log\n",
      "-rw-rw-r-- 1 sougata nmbu  324077 Apr 29 00:06 out_single_nlp.log\n",
      "-rw-r--r-- 1 sougata nmbu    2332 Apr 17 21:14 pretrain.py\n",
      "-rw-r--r-- 1 sougata nmbu    2167 Apr 17 21:11 pretrain.sh\n",
      "-rw-r--r-- 1 sougata nmbu   21381 Apr 26 23:44 singleKEpretrain.ipynb\n",
      "-rw-r--r-- 1 sougata nmbu   79544 May  1 11:26 singleLabel2kepler_v2.ipynb\n",
      "drwxrwxr-x 4 sougata nmbu      44 May  1 14:22 transformers\n"
     ]
    }
   ],
   "source": [
    "!pwd\n",
    "!ls -l"
   ]
  },
  {
   "cell_type": "markdown",
   "id": "b9ca6a78-e4d6-4689-9d4c-a2e9acd6afa2",
   "metadata": {},
   "source": [
    "Single"
   ]
  },
  {
   "cell_type": "code",
   "execution_count": 27,
   "id": "ba125c11-788d-434a-b14d-a093f6b5f466",
   "metadata": {},
   "outputs": [
    {
     "name": "stderr",
     "output_type": "stream",
     "text": [
      "Traceback (most recent call last):\n",
      "  File \"/home/sougata/anaconda3/envs/k310/lib/python3.10/runpy.py\", line 196, in _run_module_as_main\n",
      "    return _run_code(code, main_globals, None,\n",
      "  File \"/home/sougata/anaconda3/envs/k310/lib/python3.10/runpy.py\", line 86, in _run_code\n",
      "    exec(code, run_globals)\n",
      "  File \"/home/sougata/anaconda3/envs/k310/lib/python3.10/site-packages/transformers/convert_roberta_original_pytorch_checkpoint_to_pytorch.py\", line 26, in <module>\n",
      "    from transformers import (BertConfig, BertEncoder,\n",
      "ImportError: cannot import name 'BertEncoder' from 'transformers' (/home/sougata/anaconda3/envs/k310/lib/python3.10/site-packages/transformers/__init__.py)\n"
     ]
    },
    {
     "ename": "CalledProcessError",
     "evalue": "Command 'b'\\ncd ../data/checkpoints/convert/single\\nexport LD_LIBRARY_PATH=/home/sougata/.local/lib/python3.10/site-packages/nvidia/nvjitlink/lib:$LD_LIBRARY_PATH\\n\\npython -m transformers.convert_roberta_original_pytorch_checkpoint_to_pytorch \\\\\\n\\t\\t\\t--roberta_checkpoint_path ./input \\\\\\n\\t\\t\\t--pytorch_dump_folder_path ./output\\n'' returned non-zero exit status 1.",
     "output_type": "error",
     "traceback": [
      "\u001b[0;31m---------------------------------------------------------------------------\u001b[0m",
      "\u001b[0;31mCalledProcessError\u001b[0m                        Traceback (most recent call last)",
      "Cell \u001b[0;32mIn[27], line 1\u001b[0m\n\u001b[0;32m----> 1\u001b[0m \u001b[43mget_ipython\u001b[49m\u001b[43m(\u001b[49m\u001b[43m)\u001b[49m\u001b[38;5;241;43m.\u001b[39;49m\u001b[43mrun_cell_magic\u001b[49m\u001b[43m(\u001b[49m\u001b[38;5;124;43m'\u001b[39;49m\u001b[38;5;124;43mbash\u001b[39;49m\u001b[38;5;124;43m'\u001b[39;49m\u001b[43m,\u001b[49m\u001b[43m \u001b[49m\u001b[38;5;124;43m'\u001b[39;49m\u001b[38;5;124;43m'\u001b[39;49m\u001b[43m,\u001b[49m\u001b[43m \u001b[49m\u001b[38;5;124;43m'\u001b[39;49m\u001b[38;5;130;43;01m\\n\u001b[39;49;00m\u001b[38;5;124;43mcd ../data/checkpoints/convert/single\u001b[39;49m\u001b[38;5;130;43;01m\\n\u001b[39;49;00m\u001b[38;5;124;43mexport LD_LIBRARY_PATH=/home/sougata/.local/lib/python3.10/site-packages/nvidia/nvjitlink/lib:$LD_LIBRARY_PATH\u001b[39;49m\u001b[38;5;130;43;01m\\n\u001b[39;49;00m\u001b[38;5;130;43;01m\\n\u001b[39;49;00m\u001b[38;5;124;43mpython -m transformers.convert_roberta_original_pytorch_checkpoint_to_pytorch \u001b[39;49m\u001b[38;5;130;43;01m\\\\\u001b[39;49;00m\u001b[38;5;130;43;01m\\n\u001b[39;49;00m\u001b[38;5;130;43;01m\\t\u001b[39;49;00m\u001b[38;5;130;43;01m\\t\u001b[39;49;00m\u001b[38;5;130;43;01m\\t\u001b[39;49;00m\u001b[38;5;124;43m--roberta_checkpoint_path ./input \u001b[39;49m\u001b[38;5;130;43;01m\\\\\u001b[39;49;00m\u001b[38;5;130;43;01m\\n\u001b[39;49;00m\u001b[38;5;130;43;01m\\t\u001b[39;49;00m\u001b[38;5;130;43;01m\\t\u001b[39;49;00m\u001b[38;5;130;43;01m\\t\u001b[39;49;00m\u001b[38;5;124;43m--pytorch_dump_folder_path ./output\u001b[39;49m\u001b[38;5;130;43;01m\\n\u001b[39;49;00m\u001b[38;5;124;43m'\u001b[39;49m\u001b[43m)\u001b[49m\n",
      "File \u001b[0;32m~/.local/lib/python3.10/site-packages/IPython/core/interactiveshell.py:2541\u001b[0m, in \u001b[0;36mInteractiveShell.run_cell_magic\u001b[0;34m(self, magic_name, line, cell)\u001b[0m\n\u001b[1;32m   2539\u001b[0m \u001b[38;5;28;01mwith\u001b[39;00m \u001b[38;5;28mself\u001b[39m\u001b[38;5;241m.\u001b[39mbuiltin_trap:\n\u001b[1;32m   2540\u001b[0m     args \u001b[38;5;241m=\u001b[39m (magic_arg_s, cell)\n\u001b[0;32m-> 2541\u001b[0m     result \u001b[38;5;241m=\u001b[39m \u001b[43mfn\u001b[49m\u001b[43m(\u001b[49m\u001b[38;5;241;43m*\u001b[39;49m\u001b[43margs\u001b[49m\u001b[43m,\u001b[49m\u001b[43m \u001b[49m\u001b[38;5;241;43m*\u001b[39;49m\u001b[38;5;241;43m*\u001b[39;49m\u001b[43mkwargs\u001b[49m\u001b[43m)\u001b[49m\n\u001b[1;32m   2543\u001b[0m \u001b[38;5;66;03m# The code below prevents the output from being displayed\u001b[39;00m\n\u001b[1;32m   2544\u001b[0m \u001b[38;5;66;03m# when using magics with decorator @output_can_be_silenced\u001b[39;00m\n\u001b[1;32m   2545\u001b[0m \u001b[38;5;66;03m# when the last Python token in the expression is a ';'.\u001b[39;00m\n\u001b[1;32m   2546\u001b[0m \u001b[38;5;28;01mif\u001b[39;00m \u001b[38;5;28mgetattr\u001b[39m(fn, magic\u001b[38;5;241m.\u001b[39mMAGIC_OUTPUT_CAN_BE_SILENCED, \u001b[38;5;28;01mFalse\u001b[39;00m):\n",
      "File \u001b[0;32m~/.local/lib/python3.10/site-packages/IPython/core/magics/script.py:155\u001b[0m, in \u001b[0;36mScriptMagics._make_script_magic.<locals>.named_script_magic\u001b[0;34m(line, cell)\u001b[0m\n\u001b[1;32m    153\u001b[0m \u001b[38;5;28;01melse\u001b[39;00m:\n\u001b[1;32m    154\u001b[0m     line \u001b[38;5;241m=\u001b[39m script\n\u001b[0;32m--> 155\u001b[0m \u001b[38;5;28;01mreturn\u001b[39;00m \u001b[38;5;28;43mself\u001b[39;49m\u001b[38;5;241;43m.\u001b[39;49m\u001b[43mshebang\u001b[49m\u001b[43m(\u001b[49m\u001b[43mline\u001b[49m\u001b[43m,\u001b[49m\u001b[43m \u001b[49m\u001b[43mcell\u001b[49m\u001b[43m)\u001b[49m\n",
      "File \u001b[0;32m~/.local/lib/python3.10/site-packages/IPython/core/magics/script.py:315\u001b[0m, in \u001b[0;36mScriptMagics.shebang\u001b[0;34m(self, line, cell)\u001b[0m\n\u001b[1;32m    310\u001b[0m \u001b[38;5;28;01mif\u001b[39;00m args\u001b[38;5;241m.\u001b[39mraise_error \u001b[38;5;129;01mand\u001b[39;00m p\u001b[38;5;241m.\u001b[39mreturncode \u001b[38;5;241m!=\u001b[39m \u001b[38;5;241m0\u001b[39m:\n\u001b[1;32m    311\u001b[0m     \u001b[38;5;66;03m# If we get here and p.returncode is still None, we must have\u001b[39;00m\n\u001b[1;32m    312\u001b[0m     \u001b[38;5;66;03m# killed it but not yet seen its return code. We don't wait for it,\u001b[39;00m\n\u001b[1;32m    313\u001b[0m     \u001b[38;5;66;03m# in case it's stuck in uninterruptible sleep. -9 = SIGKILL\u001b[39;00m\n\u001b[1;32m    314\u001b[0m     rc \u001b[38;5;241m=\u001b[39m p\u001b[38;5;241m.\u001b[39mreturncode \u001b[38;5;129;01mor\u001b[39;00m \u001b[38;5;241m-\u001b[39m\u001b[38;5;241m9\u001b[39m\n\u001b[0;32m--> 315\u001b[0m     \u001b[38;5;28;01mraise\u001b[39;00m CalledProcessError(rc, cell)\n",
      "\u001b[0;31mCalledProcessError\u001b[0m: Command 'b'\\ncd ../data/checkpoints/convert/single\\nexport LD_LIBRARY_PATH=/home/sougata/.local/lib/python3.10/site-packages/nvidia/nvjitlink/lib:$LD_LIBRARY_PATH\\n\\npython -m transformers.convert_roberta_original_pytorch_checkpoint_to_pytorch \\\\\\n\\t\\t\\t--roberta_checkpoint_path ./input \\\\\\n\\t\\t\\t--pytorch_dump_folder_path ./output\\n'' returned non-zero exit status 1."
     ]
    }
   ],
   "source": [
    "%%bash\n",
    "\n",
    "cd ../data/checkpoints/convert/single\n",
    "export LD_LIBRARY_PATH=/home/sougata/.local/lib/python3.10/site-packages/nvidia/nvjitlink/lib:$LD_LIBRARY_PATH\n",
    "\n",
    "python -m transformers.convert_roberta_original_pytorch_checkpoint_to_pytorch \\\n",
    "\t\t\t--roberta_checkpoint_path ./input \\\n",
    "\t\t\t--pytorch_dump_folder_path ./output"
   ]
  },
  {
   "cell_type": "markdown",
   "id": "02e03bae-f80a-4db3-9842-01ace66a7e52",
   "metadata": {},
   "source": [
    "Multi"
   ]
  },
  {
   "cell_type": "code",
   "execution_count": 26,
   "id": "ad497eb8-fe4b-43f6-beb1-f391793e8e60",
   "metadata": {},
   "outputs": [
    {
     "name": "stderr",
     "output_type": "stream",
     "text": [
      "INFO:transformers.configuration_utils:Configuration saved in ./output/config.json\n",
      "INFO:transformers.modeling_utils:Model weights saved in ./output/pytorch_model.bin\n"
     ]
    },
    {
     "name": "stdout",
     "output_type": "stream",
     "text": [
      "loading archive file ./input\n",
      "| dictionary: 50264 types\n",
      "Our BERT config: {\n",
      "  \"attention_probs_dropout_prob\": 0.1,\n",
      "  \"finetuning_task\": null,\n",
      "  \"hidden_act\": \"gelu\",\n",
      "  \"hidden_dropout_prob\": 0.1,\n",
      "  \"hidden_size\": 768,\n",
      "  \"initializer_range\": 0.02,\n",
      "  \"intermediate_size\": 3072,\n",
      "  \"is_decoder\": false,\n",
      "  \"layer_norm_eps\": 1e-05,\n",
      "  \"max_position_embeddings\": 514,\n",
      "  \"num_attention_heads\": 12,\n",
      "  \"num_hidden_layers\": 12,\n",
      "  \"num_labels\": 2,\n",
      "  \"output_attentions\": false,\n",
      "  \"output_hidden_states\": false,\n",
      "  \"output_past\": true,\n",
      "  \"pruned_heads\": {},\n",
      "  \"torchscript\": false,\n",
      "  \"type_vocab_size\": 1,\n",
      "  \"use_bfloat16\": false,\n",
      "  \"vocab_size\": 50265\n",
      "}\n",
      "\n",
      "torch.Size([1, 11, 50265]) torch.Size([1, 11, 50265])\n",
      "max_absolute_diff = 3.230571746826172e-05\n",
      "Do both models output the same tensors? 🔥\n",
      "Saving model to ./output\n"
     ]
    }
   ],
   "source": [
    "%%bash\n",
    "\n",
    "cd ../data/checkpoints/convert/multi\n",
    "export LD_LIBRARY_PATH=/home/sougata/.local/lib/python3.10/site-packages/nvidia/nvjitlink/lib:$LD_LIBRARY_PATH\n",
    "\n",
    "python -m transformers.convert_roberta_original_pytorch_checkpoint_to_pytorch \\\n",
    "\t\t\t--roberta_checkpoint_path ./input \\\n",
    "\t\t\t--pytorch_dump_folder_path ./output"
   ]
  },
  {
   "cell_type": "code",
   "execution_count": null,
   "id": "770a4d7a-5a01-46f7-97e3-3ebeaf696453",
   "metadata": {},
   "outputs": [],
   "source": []
  }
 ],
 "metadata": {
  "kernelspec": {
   "display_name": "Python 3 (ipykernel)",
   "language": "python",
   "name": "python3"
  },
  "language_info": {
   "codemirror_mode": {
    "name": "ipython",
    "version": 3
   },
   "file_extension": ".py",
   "mimetype": "text/x-python",
   "name": "python",
   "nbconvert_exporter": "python",
   "pygments_lexer": "ipython3",
   "version": "3.10.12"
  }
 },
 "nbformat": 4,
 "nbformat_minor": 5
}
