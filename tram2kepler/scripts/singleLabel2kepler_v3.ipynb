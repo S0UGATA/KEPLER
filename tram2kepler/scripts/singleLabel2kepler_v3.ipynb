{
 "cells": [
  {
   "cell_type": "code",
   "id": "initial_id",
   "metadata": {
    "ExecuteTime": {
     "end_time": "2024-05-04T23:31:10.719720Z",
     "start_time": "2024-05-04T23:31:07.099648Z"
    }
   },
   "source": [
    "import numpy as np\n",
    "import pandas as pd\n",
    "\n",
    "from sklearn.model_selection import train_test_split"
   ],
   "outputs": [],
   "execution_count": 1
  },
  {
   "cell_type": "code",
   "id": "24f5f35e-7c8a-4406-bddd-3a205cc1503d",
   "metadata": {
    "ExecuteTime": {
     "end_time": "2024-05-04T23:31:13.513280Z",
     "start_time": "2024-05-04T23:31:13.511267Z"
    }
   },
   "source": [
    "import os\n",
    "\n",
    "print(os.environ['CONDA_DEFAULT_ENV'])"
   ],
   "outputs": [
    {
     "name": "stdout",
     "output_type": "stream",
     "text": [
      "kepler\n"
     ]
    }
   ],
   "execution_count": 2
  },
  {
   "cell_type": "markdown",
   "id": "cb1bf61ccb51e514",
   "metadata": {
    "collapsed": false,
    "jupyter": {
     "outputs_hidden": false
    }
   },
   "source": [
    "Get tram single label data:"
   ]
  },
  {
   "cell_type": "code",
   "id": "9fafa36e6fc8fdee",
   "metadata": {
    "collapsed": false,
    "jupyter": {
     "outputs_hidden": false
    },
    "ExecuteTime": {
     "end_time": "2024-05-04T23:31:22.202995Z",
     "start_time": "2024-05-04T23:31:21.713687Z"
    }
   },
   "source": [
    "%%bash\n",
    "\n",
    "mkdir -p ../data/input\n",
    "wget -O ../data/input/single_label.json https://raw.githubusercontent.com/center-for-threat-informed-defense/tram/main/data/tram2-data/single_label.json"
   ],
   "outputs": [
    {
     "name": "stderr",
     "output_type": "stream",
     "text": [
      "--2024-05-05 01:31:21--  https://raw.githubusercontent.com/center-for-threat-informed-defense/tram/main/data/tram2-data/single_label.json\n",
      "Resolving raw.githubusercontent.com (raw.githubusercontent.com)... 2606:50c0:8002::154, 2606:50c0:8000::154, 2606:50c0:8001::154, ...\n",
      "Connecting to raw.githubusercontent.com (raw.githubusercontent.com)|2606:50c0:8002::154|:443... connected.\n",
      "HTTP request sent, awaiting response... 200 OK\n",
      "Length: 1024483 (1000K) [text/plain]\n",
      "Saving to: ‘../data/input/single_label.json’\n",
      "\n",
      "     0K .......... .......... .......... .......... ..........  4% 3.15M 0s\n",
      "    50K .......... .......... .......... .......... ..........  9% 3.54M 0s\n",
      "   100K .......... .......... .......... .......... .......... 14%  298M 0s\n",
      "   150K .......... .......... .......... .......... .......... 19% 7.86M 0s\n",
      "   200K .......... .......... .......... .......... .......... 24% 5.04M 0s\n",
      "   250K .......... .......... .......... .......... .......... 29%  432M 0s\n",
      "   300K .......... .......... .......... .......... .......... 34% 7.95M 0s\n",
      "   350K .......... .......... .......... .......... .......... 39% 8.34M 0s\n",
      "   400K .......... .......... .......... .......... .......... 44% 22.6M 0s\n",
      "   450K .......... .......... .......... .......... .......... 49% 5.82M 0s\n",
      "   500K .......... .......... .......... .......... .......... 54% 23.0M 0s\n",
      "   550K .......... .......... .......... .......... .......... 59% 30.7M 0s\n",
      "   600K .......... .......... .......... .......... .......... 64% 12.0M 0s\n",
      "   650K .......... .......... .......... .......... .......... 69% 6.75M 0s\n",
      "   700K .......... .......... .......... .......... .......... 74% 23.5M 0s\n",
      "   750K .......... .......... .......... .......... .......... 79% 13.3M 0s\n",
      "   800K .......... .......... .......... .......... .......... 84% 7.81M 0s\n",
      "   850K .......... .......... .......... .......... .......... 89% 24.7M 0s\n",
      "   900K .......... .......... .......... .......... .......... 94% 11.6M 0s\n",
      "   950K .......... .......... .......... .......... .......... 99% 13.4M 0s\n",
      "  1000K                                                       100% 9.43K=0.1s\n",
      "\n",
      "2024-05-05 01:31:22 (9.32 MB/s) - ‘../data/input/single_label.json’ saved [1024483/1024483]\n",
      "\n"
     ]
    }
   ],
   "execution_count": 3
  },
  {
   "cell_type": "markdown",
   "id": "599d97678482b091",
   "metadata": {
    "collapsed": false,
    "jupyter": {
     "outputs_hidden": false
    }
   },
   "source": [
    "In this version, we will consider the text, tactic and document title, all 3 of them as nodes.\n",
    "The ontology then will be:\n",
    "\n",
    "Nodes: \n",
    "    text, technique, doc_title\n",
    "    \n",
    "Relationships: \n",
    "    uses, found-in\n",
    "\n",
    "Graph triple types will be:\n",
    "    text uses technique\n",
    "    text found-in doc_title\n",
    "    technique found-in doc_title"
   ]
  },
  {
   "cell_type": "code",
   "id": "7f78d849a99e5804",
   "metadata": {
    "collapsed": false,
    "jupyter": {
     "outputs_hidden": false
    },
    "ExecuteTime": {
     "end_time": "2024-05-04T23:31:24.253187Z",
     "start_time": "2024-05-04T23:31:24.239770Z"
    }
   },
   "source": [
    "data = pd.read_json('../data/input/single_label.json')"
   ],
   "outputs": [],
   "execution_count": 4
  },
  {
   "cell_type": "code",
   "id": "f9065632917dda87",
   "metadata": {
    "collapsed": false,
    "jupyter": {
     "outputs_hidden": false
    },
    "ExecuteTime": {
     "end_time": "2024-05-04T23:31:25.646370Z",
     "start_time": "2024-05-04T23:31:25.633281Z"
    }
   },
   "source": [
    "data"
   ],
   "outputs": [
    {
     "data": {
      "text/plain": [
       "                                                   text      label  \\\n",
       "0     This file extracts credentials from LSASS simi...  T1003.001   \n",
       "1     It calls OpenProcess on lsass.exe with access ...  T1003.001   \n",
       "2     It spreads to Microsoft Windows machines using...      T1210   \n",
       "3                      SMB exploitation via EternalBlue      T1210   \n",
       "4                    SMBv1 Exploitation via EternalBlue      T1210   \n",
       "...                                                 ...        ...   \n",
       "5084  collects local files and information from the ...      T1005   \n",
       "5085      uses HTTPS to communicate with its C2 servers  T1071.001   \n",
       "5086  samples have used HTTP over ports 447 and 8082...  T1071.001   \n",
       "5087  downloads several additional files and saves t...      T1105   \n",
       "5088  uses a custom crypter leveraging Microsoft’s C...  T1573.001   \n",
       "\n",
       "                                              doc_title  \n",
       "0     NotPetya Technical Analysis  A Triple Threat F...  \n",
       "1     NotPetya Technical Analysis  A Triple Threat F...  \n",
       "2     NotPetya Technical Analysis  A Triple Threat F...  \n",
       "3     NotPetya Technical Analysis  A Triple Threat F...  \n",
       "4     NotPetya Technical Analysis  A Triple Threat F...  \n",
       "...                                                 ...  \n",
       "5084                          AA21076A TrickBot Malware  \n",
       "5085                          AA21076A TrickBot Malware  \n",
       "5086                          AA21076A TrickBot Malware  \n",
       "5087                          AA21076A TrickBot Malware  \n",
       "5088                          AA21076A TrickBot Malware  \n",
       "\n",
       "[5089 rows x 3 columns]"
      ],
      "text/html": [
       "<div>\n",
       "<style scoped>\n",
       "    .dataframe tbody tr th:only-of-type {\n",
       "        vertical-align: middle;\n",
       "    }\n",
       "\n",
       "    .dataframe tbody tr th {\n",
       "        vertical-align: top;\n",
       "    }\n",
       "\n",
       "    .dataframe thead th {\n",
       "        text-align: right;\n",
       "    }\n",
       "</style>\n",
       "<table border=\"1\" class=\"dataframe\">\n",
       "  <thead>\n",
       "    <tr style=\"text-align: right;\">\n",
       "      <th></th>\n",
       "      <th>text</th>\n",
       "      <th>label</th>\n",
       "      <th>doc_title</th>\n",
       "    </tr>\n",
       "  </thead>\n",
       "  <tbody>\n",
       "    <tr>\n",
       "      <th>0</th>\n",
       "      <td>This file extracts credentials from LSASS simi...</td>\n",
       "      <td>T1003.001</td>\n",
       "      <td>NotPetya Technical Analysis  A Triple Threat F...</td>\n",
       "    </tr>\n",
       "    <tr>\n",
       "      <th>1</th>\n",
       "      <td>It calls OpenProcess on lsass.exe with access ...</td>\n",
       "      <td>T1003.001</td>\n",
       "      <td>NotPetya Technical Analysis  A Triple Threat F...</td>\n",
       "    </tr>\n",
       "    <tr>\n",
       "      <th>2</th>\n",
       "      <td>It spreads to Microsoft Windows machines using...</td>\n",
       "      <td>T1210</td>\n",
       "      <td>NotPetya Technical Analysis  A Triple Threat F...</td>\n",
       "    </tr>\n",
       "    <tr>\n",
       "      <th>3</th>\n",
       "      <td>SMB exploitation via EternalBlue</td>\n",
       "      <td>T1210</td>\n",
       "      <td>NotPetya Technical Analysis  A Triple Threat F...</td>\n",
       "    </tr>\n",
       "    <tr>\n",
       "      <th>4</th>\n",
       "      <td>SMBv1 Exploitation via EternalBlue</td>\n",
       "      <td>T1210</td>\n",
       "      <td>NotPetya Technical Analysis  A Triple Threat F...</td>\n",
       "    </tr>\n",
       "    <tr>\n",
       "      <th>...</th>\n",
       "      <td>...</td>\n",
       "      <td>...</td>\n",
       "      <td>...</td>\n",
       "    </tr>\n",
       "    <tr>\n",
       "      <th>5084</th>\n",
       "      <td>collects local files and information from the ...</td>\n",
       "      <td>T1005</td>\n",
       "      <td>AA21076A TrickBot Malware</td>\n",
       "    </tr>\n",
       "    <tr>\n",
       "      <th>5085</th>\n",
       "      <td>uses HTTPS to communicate with its C2 servers</td>\n",
       "      <td>T1071.001</td>\n",
       "      <td>AA21076A TrickBot Malware</td>\n",
       "    </tr>\n",
       "    <tr>\n",
       "      <th>5086</th>\n",
       "      <td>samples have used HTTP over ports 447 and 8082...</td>\n",
       "      <td>T1071.001</td>\n",
       "      <td>AA21076A TrickBot Malware</td>\n",
       "    </tr>\n",
       "    <tr>\n",
       "      <th>5087</th>\n",
       "      <td>downloads several additional files and saves t...</td>\n",
       "      <td>T1105</td>\n",
       "      <td>AA21076A TrickBot Malware</td>\n",
       "    </tr>\n",
       "    <tr>\n",
       "      <th>5088</th>\n",
       "      <td>uses a custom crypter leveraging Microsoft’s C...</td>\n",
       "      <td>T1573.001</td>\n",
       "      <td>AA21076A TrickBot Malware</td>\n",
       "    </tr>\n",
       "  </tbody>\n",
       "</table>\n",
       "<p>5089 rows × 3 columns</p>\n",
       "</div>"
      ]
     },
     "execution_count": 5,
     "metadata": {},
     "output_type": "execute_result"
    }
   ],
   "execution_count": 5
  },
  {
   "cell_type": "markdown",
   "id": "c5a11df2ebf91f89",
   "metadata": {
    "collapsed": false,
    "jupyter": {
     "outputs_hidden": false
    }
   },
   "source": [
    "Getting all unique labels, doc_titles and text:"
   ]
  },
  {
   "cell_type": "code",
   "id": "30af359f89d46de8",
   "metadata": {
    "collapsed": false,
    "jupyter": {
     "outputs_hidden": false
    },
    "ExecuteTime": {
     "end_time": "2024-05-04T23:31:38.682092Z",
     "start_time": "2024-05-04T23:31:38.676182Z"
    }
   },
   "source": [
    "all_techniques = data['label'].explode().dropna().unique()\n",
    "all_techniques"
   ],
   "outputs": [
    {
     "data": {
      "text/plain": [
       "array(['T1003.001', 'T1210', 'T1570', 'T1140', 'T1218.011', 'T1059.003',\n",
       "       'T1057', 'T1518.001', 'T1106', 'T1082', 'T1016', 'T1078', 'T1047',\n",
       "       'T1027', 'T1056.001', 'T1083', 'T1053.005', 'T1070.004', 'T1105',\n",
       "       'T1090', 'T1005', 'T1574.002', 'T1071.001', 'T1484.001',\n",
       "       'T1204.002', 'T1055', 'T1562.001', 'T1033', 'T1566.001', 'T1219',\n",
       "       'T1547.001', 'T1021.001', 'T1543.003', 'T1569.002', 'T1036.005',\n",
       "       'T1112', 'T1041', 'T1110', 'T1190', 'T1564.001', 'T1113',\n",
       "       'T1573.001', 'T1095', 'T1552.001', 'T1012', 'T1074.001',\n",
       "       'T1548.002', 'T1068', 'T1072', 'T1557.001'], dtype=object)"
      ]
     },
     "execution_count": 6,
     "metadata": {},
     "output_type": "execute_result"
    }
   ],
   "execution_count": 6
  },
  {
   "metadata": {
    "ExecuteTime": {
     "end_time": "2024-05-04T23:31:39.702660Z",
     "start_time": "2024-05-04T23:31:39.698261Z"
    }
   },
   "cell_type": "code",
   "source": [
    "freq = data.groupby(\"label\").size()\n",
    "freq"
   ],
   "id": "5939cf32370a6f08",
   "outputs": [
    {
     "data": {
      "text/plain": [
       "label\n",
       "T1003.001    108\n",
       "T1005         64\n",
       "T1012         26\n",
       "T1016         55\n",
       "T1021.001     94\n",
       "T1027        685\n",
       "T1033         49\n",
       "T1036.005     68\n",
       "T1041         82\n",
       "T1047         75\n",
       "T1053.005    106\n",
       "T1055        283\n",
       "T1056.001     65\n",
       "T1057         82\n",
       "T1059.003    345\n",
       "T1068         10\n",
       "T1070.004     86\n",
       "T1071.001    146\n",
       "T1072         10\n",
       "T1074.001     25\n",
       "T1078        170\n",
       "T1082        137\n",
       "T1083         98\n",
       "T1090        139\n",
       "T1095         50\n",
       "T1105        262\n",
       "T1106        202\n",
       "T1110         64\n",
       "T1112        104\n",
       "T1113         49\n",
       "T1140        455\n",
       "T1190         51\n",
       "T1204.002     87\n",
       "T1210         16\n",
       "T1218.011     53\n",
       "T1219         52\n",
       "T1484.001     23\n",
       "T1518.001     36\n",
       "T1543.003     50\n",
       "T1547.001     63\n",
       "T1548.002     27\n",
       "T1552.001     20\n",
       "T1557.001      4\n",
       "T1562.001     95\n",
       "T1564.001     17\n",
       "T1566.001     86\n",
       "T1569.002     23\n",
       "T1570         58\n",
       "T1573.001     53\n",
       "T1574.002     81\n",
       "dtype: int64"
      ]
     },
     "execution_count": 7,
     "metadata": {},
     "output_type": "execute_result"
    }
   ],
   "execution_count": 7
  },
  {
   "cell_type": "code",
   "id": "37005b13e7409616",
   "metadata": {
    "collapsed": false,
    "jupyter": {
     "outputs_hidden": false
    },
    "ExecuteTime": {
     "end_time": "2024-05-04T23:31:40.996442Z",
     "start_time": "2024-05-04T23:31:40.992269Z"
    }
   },
   "source": [
    "doc_titles = data['doc_title'].explode().dropna().unique()\n",
    "doc_titles"
   ],
   "outputs": [
    {
     "data": {
      "text/plain": [
       "array(['NotPetya Technical Analysis  A Triple Threat File Encryption MFT Encryption Credential Theft',\n",
       "       'Earth Zhulong Familiar Patterns Target Southeast Asian Firms',\n",
       "       'Malware Spotlight Camaro Dragons TinyNote Backdoor',\n",
       "       'Rorschach  A New Sophisticated and Fast Ransomware  Check Point Research',\n",
       "       'Bypassing Intel CET with Counterfeit Objects  OffSec',\n",
       "       'Emotet Strikes Again  LNK File Leads to Domain Wide Ransomware  The DFIR Report',\n",
       "       'Malware Analysis LummaC2 Stealer',\n",
       "       'FedEx Phishing Campaign Abusing TrustedForm and PAAY',\n",
       "       'Take a NetWalk on the Wild Side',\n",
       "       'Malicious OAuth applications used to compromise email servers and spread spam  Microsoft Security Blog',\n",
       "       'Nefilim Ransomware',\n",
       "       'Deja Vu All Over Again Tax Scammers at Large',\n",
       "       'Threat Assessment Black Basta Ransomware',\n",
       "       'Hafniuminspired cyberattacks neutralized by AI',\n",
       "       'eSentire Threat Intelligence Malware Analysis BatLoader',\n",
       "       'Early Bird Catches the Wormhole Observations from the StellarParticle Campaign',\n",
       "       '3CXDesktopApp Backdoored in a Suspected Lazarus Campaign\\xa0\\xa0',\n",
       "       'Not just an infostealer Gopuram backdoor deployed through 3CX supply chain attack',\n",
       "       'AA21200A Tactics Techniques and Procedures of Indicted APT40 Actors Associated with Chinas MSS Hainan State Security Department',\n",
       "       'Operation Spalax Targeted malware attacks in Colombia',\n",
       "       'LAPSUS Recent techniques tactics and procedures',\n",
       "       'Detecting Credential Stealing Attacks Through Active InNetwork Defense',\n",
       "       'Understanding DNS attacks Identifying and patching vulnerabilities  Snyk',\n",
       "       'EvilExtractor  AllinOne Stealer',\n",
       "       'LockBit 20 How This RaaS Operates and How to Protect Against It',\n",
       "       'SOC Team Essentials  How to Investigate and Track the 8220 Gang Cloud Threat',\n",
       "       'Fantasy  a new Agrius wiper deployed through a supplychain attack',\n",
       "       'AA22320A Iranian GovernmentSponsored APT Actors Compromise Federal Network Deploy Crypto Miner Credential Harvester',\n",
       "       'New Horabot campaign targets the Americas',\n",
       "       'Vice Society leverages PrintNightmare in ransomware attacks',\n",
       "       'UNC215 Spotlight on a Chinese Espionage Campaign in Israel',\n",
       "       'Dark Web Profile MuddyWater APT Group',\n",
       "       'Cobalt Strike a Defenders Guide  Part 2',\n",
       "       'Tailoring Sandbox Techniques to Hidden Threats',\n",
       "       'Babadeda Crypter targeting crypto NFT and DeFi communities',\n",
       "       'Threat Assessment BlackCat Ransomware',\n",
       "       'AA21200B Chinese StateSponsored Cyber Operations Observed TTPs',\n",
       "       'Vulnerability in Essential Addons for Elementor Leads to Mass Infection',\n",
       "       'StopRansomware Royal Ransomware',\n",
       "       'GuLoader VBScript Variant Returns with PowerShell Updates',\n",
       "       'Xollam the Latest Face of TargetCompany',\n",
       "       'Operation Tainted Love  Chinese APTs Target Telcos in New Attacks',\n",
       "       'Defending Users NAS Devices From Evolving Threats',\n",
       "       'Enigma Stealer Targets Cryptocurrency Industry with Fake Jobs',\n",
       "       'ExConti and FIN7 Actors Collaborate with New Domino Backdoor',\n",
       "       'Fat Cats',\n",
       "       'Analysis on recent wiper attacks examples and how wiper malware works',\n",
       "       'Higaisa or Winnti APT41 backdoors old and new',\n",
       "       'Operation Harvest A Deep Dive into a Longterm Campaign',\n",
       "       'Prilex Brazilian PoS malware evolution',\n",
       "       'The Rising Trend of OneNote Documents for Malware delivery',\n",
       "       'ZeroDay Vulnerability in MOVEit Transfer Exploited for Data Theft',\n",
       "       'Iranian GovernmentSponsored APT Actors Compromise Federal Network Deploy Crypto Miner Credential Harvester',\n",
       "       'FinSpy unseen findings',\n",
       "       'Vice Society Profiling a Persistent Threat to the Education Sector',\n",
       "       'Spike in LokiBot Activity During Final Week of 2022',\n",
       "       'Nationstate threat actor Mint Sandstorm refines tradecraft to attack highvalue targets',\n",
       "       'GuLoader Demystified Unraveling its Vectored Exception Handler Approach',\n",
       "       'Pack it Secretly Earth Pretas Updated Stealthy Strategies',\n",
       "       'Malware Reverse Engineering for Beginners  Part 2',\n",
       "       'Supply Chain Risk from Gigabyte App Center Backdoor  Eclypsium  Supply Chain Security for the Modern Enterprise',\n",
       "       'Gotta Catch Em All  Understanding the NetSupport RAT Campaigns Hiding Behind Pokemon Lures',\n",
       "       'Uncommon infection methodspart 2',\n",
       "       'German users targeted with Gootkit banker or REvil ransomware',\n",
       "       'New IcedID variants shift from bank fraud to malware delivery',\n",
       "       'BumbleBee Roasts Its Way to Domain Admin',\n",
       "       'Operation CMDStealer Financially Motivated Campaign Leverages CMDBased Scripts and LOLBaS for Online Banking Theft in Portugal Peru and Mexico',\n",
       "       'AA20336A Advanced Persistent Threat Actors Targeting US Think Tanks',\n",
       "       'Do Not Cross The RedLine Stealer Detections and Analysis',\n",
       "       'Conti Team One Splinter Group Resurfaces as Royal Ransomware with Callback Phishing Attacks',\n",
       "       'Threat Advisory 3CX Softphone Supply Chain Compromise',\n",
       "       'Malware Disguised as Document from Ukraines Energoatom Delivers Havoc Demon Backdoor',\n",
       "       'In the footsteps of the Fancy Bear PowerPoint\\xa0mouseover event abused to deliver Graphite implants',\n",
       "       'Can You See It Now An Emerging LockBit Campaign',\n",
       "       'WTB Remote Mac Exploitation Via Custom URL Schemes',\n",
       "       'Dead or Alive An Emotet Story', 'Conti Ransomware',\n",
       "       'Microsoft research uncovers new Zerobot capabilities  Microsoft Security Blog',\n",
       "       'Just Because Its Old Doesnt Mean You Throw It Away Including Malware',\n",
       "       'Carbon Blacks TrueBot Detection',\n",
       "       'ITG10 Likely Targeting South Korean Entities of Interest to the Democratic Peoples Republic of Korea DPRK',\n",
       "       'Abusing cloud services to fly under the radar',\n",
       "       'Transparent Tribe APT36  PakistanAligned Threat Actor Expands Interest in Indian Education Sector',\n",
       "       'SYS01 Stealer Will Steal Your Facebook Info',\n",
       "       'Banking Trojan Techniques How Financially Motivated Malware Became Infrastructure',\n",
       "       'Tracking Traces of Malware Disguised as Hancom Office Document File and Being Distributed RedEyes',\n",
       "       'Attackers use domain fronting technique to target Myanmar with Cobalt Strike',\n",
       "       'Akira Ransomware is bringin 1988 back',\n",
       "       'WTB Adwind Trojan Circumvents Antivirus Software To Infect Your PC',\n",
       "       'Hungry for data ModPipe backdoor hits POS software used in hospitality sector',\n",
       "       'Update 2 3CX users under DLLsideloading attack What you need to know',\n",
       "       'GoBruteforcer GolangBased Botnet Actively Harvests Web Servers',\n",
       "       'The LockBit ransomware kinda comes for macOS',\n",
       "       'IronNetInjector Turlas New Malware Loading Tool',\n",
       "       'Dissecting One of APT29s Fileless WMI and PowerShell Backdoors POSHSPY',\n",
       "       'Hancitor Infection Chain Analysis An Examination of its Unpacking Routine and Execution Techniques',\n",
       "       'Smoking Out a DARKSIDE Affiliates Supply Chain Software Compromise',\n",
       "       'AA20258A Chinese Ministry of State SecurityAffiliated Cyber Threat Actor Activity',\n",
       "       'Phishing Campaign Targets Chinese Nuclear Energy Industry',\n",
       "       'Latin American Governments Targeted By Ransomware',\n",
       "       'Chinese Threat Actor Used Modified Cobalt Strike Variant to Attack Taiwanese Critical Infrastructure',\n",
       "       'OpenSource Gh0st RAT Still Haunting Inboxes 15 Years After Release',\n",
       "       'CrowdStrike Uncovers I2Pminer MacOS Mineware Variant',\n",
       "       'Evasive NoEscape Ransomware Uses Reflective DLL Injection',\n",
       "       'Stolen certificates in two waves of ransomware and wiper attacks',\n",
       "       'BlueNoroff introduces new methods bypassing MoTW',\n",
       "       'Fork in the Ice The New Era of IcedID',\n",
       "       'Kimsuky Strikes Again  New Social Engineering Campaign Aims to Steal Credentials and Gather Strategic Intelligence',\n",
       "       'Warning New attack campaign utilized a new 0day RCE vulnerability on Microsoft Exchange Server',\n",
       "       'Recent TZW Campaigns Revealed As Part of GlobeImposter Malware Family',\n",
       "       'MERCURY and DEV1084 Destructive attack on hybrid environment',\n",
       "       'ZipJar a little bit unexpected attack chain',\n",
       "       'Whos swimming in South Korean waters Meet ScarCrufts Dolphin',\n",
       "       'Iron Tigers SysUpdate Reappears Adds Linux Targeting',\n",
       "       'Unwrapping Ursnifs Gifts  The DFIR Report',\n",
       "       'Qakbot Returns to ISO Delivery For Now',\n",
       "       'BeeWare of Trigona An Emerging Ransomware Strain',\n",
       "       'SharpPanda APT Campaign Expands its Arsenal Targeting G20 Nations',\n",
       "       'Increasing The Sting of HIVE Ransomware',\n",
       "       'ViperSoftX Updates Encryption Steals Data',\n",
       "       'CISA Red Team Shares Key Findings to Improve Monitoring and Hardening of Networks',\n",
       "       'McAfee Defenders Blog NetWalker',\n",
       "       'Technical Analysis Black Basta Malware Overview',\n",
       "       'Earth Pretas Cyberespionage Campaign Hits Over 200',\n",
       "       'Updated New Evidence Emerges to Suggest WatchDog Was Behind Crypto Campaign',\n",
       "       'These arent the apps youre looking for fake installers targeting Southeast and East Asia',\n",
       "       'Tax firms targeted by precision malware attacks',\n",
       "       'BazarLoader Mocks Researchers in December 2020 Malspam Campaign',\n",
       "       'Investigation with a twist an accidental APT attack and averted data destruction',\n",
       "       'Threat actors strive to cause Tax Day headaches',\n",
       "       'Revisiting the NSISbased crypter',\n",
       "       '\\xa0LockBit Ransomware 20 Resurfaces',\n",
       "       'Too Log Didnt Read  Unknown Actor Using CLFS Log Files for Stealth',\n",
       "       'Ransom Cartel Ransomware A Possible Connection With REvil',\n",
       "       'Malicious ISO File Leads to Domain Wide Ransomware  The DFIR Report',\n",
       "       'SeroXen RAT for sale',\n",
       "       'A lookback under the TA410 umbrella Its cyberespionage TTPs and activity',\n",
       "       'When byte code bites Who checks the contents of compiled Python files',\n",
       "       'MoonBounce the dark side of UEFI firmware',\n",
       "       'Threat Actors Use MSBuild to Deliver RATs Filelessly',\n",
       "       'How to Detect Cobalt Strike',\n",
       "       'New RapperBot Campaign  We Know What You Bruting for this Time',\n",
       "       'Inside the Mind of a Cyber Attacker from Malware creation to Data Exfiltration Part 1',\n",
       "       'CatB Ransomware  File Locker Sharpens Its Claws to Steal Data with MSDTC Service DLL Hijacking',\n",
       "       'Analyzing Solorigate the compromised DLL file that started a sophisticated cyberattack and how Microsoft Defender helps protect customers',\n",
       "       'Horabot campaign targeted businesses for more than two years before finally being discovered',\n",
       "       'StopRansomware Hive Ransomware',\n",
       "       'Linux malware strengthens links between Lazarus and the 3CX supplychain attack',\n",
       "       'AA21076A TrickBot Malware'], dtype=object)"
      ]
     },
     "execution_count": 8,
     "metadata": {},
     "output_type": "execute_result"
    }
   ],
   "execution_count": 8
  },
  {
   "cell_type": "code",
   "id": "7afaf4f6e9d6f3cd",
   "metadata": {
    "collapsed": false,
    "jupyter": {
     "outputs_hidden": false
    },
    "ExecuteTime": {
     "end_time": "2024-05-04T23:31:41.942460Z",
     "start_time": "2024-05-04T23:31:41.939075Z"
    }
   },
   "source": [
    "text = data['text'].to_numpy()\n",
    "text"
   ],
   "outputs": [
    {
     "data": {
      "text/plain": [
       "array(['This file extracts credentials from LSASS similar to Mimikatz.',\n",
       "       'It calls OpenProcess on lsass.exe with access flag set to VM_READ, and looks for the modules wdigest.dll and lsasrv.dll loaded in the lsass.exe process.',\n",
       "       'It spreads to Microsoft Windows machines using several propagation methods, including the EternalBlue exploit for the CVE-2017-0144 vulnerability in the SMB service.',\n",
       "       ..., 'samples have used HTTP over ports 447 and 8082 for C2.',\n",
       "       \"downloads several additional files and saves them to the victim's machine.\",\n",
       "       'uses a custom crypter leveraging Microsoft’s CryptoAPI to encrypt C2 traffic.'],\n",
       "      dtype=object)"
      ]
     },
     "execution_count": 9,
     "metadata": {},
     "output_type": "execute_result"
    }
   ],
   "execution_count": 9
  },
  {
   "cell_type": "markdown",
   "id": "ae7539994504a132",
   "metadata": {
    "collapsed": false,
    "jupyter": {
     "outputs_hidden": false
    }
   },
   "source": [
    "Adding them all in one place labels, text, doc_titles:\n",
    "there are 50 labels, 149 doc_titles and 5089 text"
   ]
  },
  {
   "metadata": {},
   "cell_type": "markdown",
   "source": [
    "Download the enterprise attack json file from the mitre attack github repo:\n",
    "we will then use this data to map tactics and procedures to the techniques."
   ],
   "id": "58ba20bae21e3841"
  },
  {
   "metadata": {},
   "cell_type": "code",
   "source": [
    "%%bash\n",
    "wget -O ../data/input/enterprise-attack.json https://raw.githubusercontent.com/mitre-attack/attack-stix-data/master/enterprise-attack/enterprise-attack.json"
   ],
   "id": "c2e9c726fa329298",
   "outputs": [],
   "execution_count": null
  },
  {
   "metadata": {},
   "cell_type": "markdown",
   "source": "",
   "id": "1e1d0c94369c488d"
  },
  {
   "metadata": {
    "ExecuteTime": {
     "end_time": "2024-05-04T21:31:30.658356Z",
     "start_time": "2024-05-04T21:31:30.520523Z"
    }
   },
   "cell_type": "code",
   "source": [
    "import json\n",
    "\n",
    "with open('../data/input/enterprise-attack.json', 'r') as file:\n",
    "    mitre = json.load(file)"
   ],
   "id": "ba8c7cae58c7c14c",
   "outputs": [],
   "execution_count": 28
  },
  {
   "metadata": {},
   "cell_type": "markdown",
   "source": "Get technique names",
   "id": "f5f14412a9aa02f5"
  },
  {
   "metadata": {
    "ExecuteTime": {
     "end_time": "2024-05-04T22:40:43.425704Z",
     "start_time": "2024-05-04T22:40:43.416712Z"
    }
   },
   "cell_type": "code",
   "source": [
    "def getTechniqueName(technique_external_id: str):\n",
    "    for obj in mitre[\"objects\"]:\n",
    "        if obj[\"type\"] == \"attack-pattern\" and obj[\"external_references\"][0][\"external_id\"] == technique_external_id:\n",
    "            return obj[\"name\"]\n",
    "\n",
    "\n",
    "techniqueNames = []\n",
    "for techniqueId in all_techniques:\n",
    "    techniqueNames.append({\"technique_id\": techniqueId, \"technique_name\": getTechniqueName(techniqueId)})\n",
    "\n",
    "techniqueNames = pd.DataFrame(techniqueNames)\n",
    "techniqueNames"
   ],
   "id": "2ccb18274f8ebb21",
   "outputs": [
    {
     "data": {
      "text/plain": [
       "   technique_id                           technique_name\n",
       "0     T1003.001                             LSASS Memory\n",
       "1         T1210          Exploitation of Remote Services\n",
       "2         T1570                    Lateral Tool Transfer\n",
       "3         T1140  Deobfuscate/Decode Files or Information\n",
       "4     T1218.011                                 Rundll32\n",
       "5     T1059.003                    Windows Command Shell\n",
       "6         T1057                        Process Discovery\n",
       "7     T1518.001              Security Software Discovery\n",
       "8         T1106                               Native API\n",
       "9         T1082             System Information Discovery\n",
       "10        T1016   System Network Configuration Discovery\n",
       "11        T1078                           Valid Accounts\n",
       "12        T1047       Windows Management Instrumentation\n",
       "13        T1027          Obfuscated Files or Information\n",
       "14    T1056.001                               Keylogging\n",
       "15        T1083             File and Directory Discovery\n",
       "16    T1053.005                           Scheduled Task\n",
       "17    T1070.004                            File Deletion\n",
       "18        T1105                    Ingress Tool Transfer\n",
       "19        T1090                                    Proxy\n",
       "20        T1005                   Data from Local System\n",
       "21    T1574.002                         DLL Side-Loading\n",
       "22    T1071.001                            Web Protocols\n",
       "23    T1484.001                Group Policy Modification\n",
       "24    T1204.002                           Malicious File\n",
       "25        T1055                        Process Injection\n",
       "26    T1562.001                  Disable or Modify Tools\n",
       "27        T1033              System Owner/User Discovery\n",
       "28    T1566.001                 Spearphishing Attachment\n",
       "29        T1219                   Remote Access Software\n",
       "30    T1547.001       Registry Run Keys / Startup Folder\n",
       "31    T1021.001                  Remote Desktop Protocol\n",
       "32    T1543.003                          Windows Service\n",
       "33    T1569.002                        Service Execution\n",
       "34    T1036.005        Match Legitimate Name or Location\n",
       "35        T1112                          Modify Registry\n",
       "36        T1041             Exfiltration Over C2 Channel\n",
       "37        T1110                              Brute Force\n",
       "38        T1190        Exploit Public-Facing Application\n",
       "39    T1564.001             Hidden Files and Directories\n",
       "40        T1113                           Screen Capture\n",
       "41    T1573.001                   Symmetric Cryptography\n",
       "42        T1095           Non-Application Layer Protocol\n",
       "43    T1552.001                     Credentials In Files\n",
       "44        T1012                           Query Registry\n",
       "45    T1074.001                       Local Data Staging\n",
       "46    T1548.002              Bypass User Account Control\n",
       "47        T1068    Exploitation for Privilege Escalation\n",
       "48        T1072                Software Deployment Tools\n",
       "49    T1557.001     LLMNR/NBT-NS Poisoning and SMB Relay"
      ],
      "text/html": [
       "<div>\n",
       "<style scoped>\n",
       "    .dataframe tbody tr th:only-of-type {\n",
       "        vertical-align: middle;\n",
       "    }\n",
       "\n",
       "    .dataframe tbody tr th {\n",
       "        vertical-align: top;\n",
       "    }\n",
       "\n",
       "    .dataframe thead th {\n",
       "        text-align: right;\n",
       "    }\n",
       "</style>\n",
       "<table border=\"1\" class=\"dataframe\">\n",
       "  <thead>\n",
       "    <tr style=\"text-align: right;\">\n",
       "      <th></th>\n",
       "      <th>technique_id</th>\n",
       "      <th>technique_name</th>\n",
       "    </tr>\n",
       "  </thead>\n",
       "  <tbody>\n",
       "    <tr>\n",
       "      <th>0</th>\n",
       "      <td>T1003.001</td>\n",
       "      <td>LSASS Memory</td>\n",
       "    </tr>\n",
       "    <tr>\n",
       "      <th>1</th>\n",
       "      <td>T1210</td>\n",
       "      <td>Exploitation of Remote Services</td>\n",
       "    </tr>\n",
       "    <tr>\n",
       "      <th>2</th>\n",
       "      <td>T1570</td>\n",
       "      <td>Lateral Tool Transfer</td>\n",
       "    </tr>\n",
       "    <tr>\n",
       "      <th>3</th>\n",
       "      <td>T1140</td>\n",
       "      <td>Deobfuscate/Decode Files or Information</td>\n",
       "    </tr>\n",
       "    <tr>\n",
       "      <th>4</th>\n",
       "      <td>T1218.011</td>\n",
       "      <td>Rundll32</td>\n",
       "    </tr>\n",
       "    <tr>\n",
       "      <th>5</th>\n",
       "      <td>T1059.003</td>\n",
       "      <td>Windows Command Shell</td>\n",
       "    </tr>\n",
       "    <tr>\n",
       "      <th>6</th>\n",
       "      <td>T1057</td>\n",
       "      <td>Process Discovery</td>\n",
       "    </tr>\n",
       "    <tr>\n",
       "      <th>7</th>\n",
       "      <td>T1518.001</td>\n",
       "      <td>Security Software Discovery</td>\n",
       "    </tr>\n",
       "    <tr>\n",
       "      <th>8</th>\n",
       "      <td>T1106</td>\n",
       "      <td>Native API</td>\n",
       "    </tr>\n",
       "    <tr>\n",
       "      <th>9</th>\n",
       "      <td>T1082</td>\n",
       "      <td>System Information Discovery</td>\n",
       "    </tr>\n",
       "    <tr>\n",
       "      <th>10</th>\n",
       "      <td>T1016</td>\n",
       "      <td>System Network Configuration Discovery</td>\n",
       "    </tr>\n",
       "    <tr>\n",
       "      <th>11</th>\n",
       "      <td>T1078</td>\n",
       "      <td>Valid Accounts</td>\n",
       "    </tr>\n",
       "    <tr>\n",
       "      <th>12</th>\n",
       "      <td>T1047</td>\n",
       "      <td>Windows Management Instrumentation</td>\n",
       "    </tr>\n",
       "    <tr>\n",
       "      <th>13</th>\n",
       "      <td>T1027</td>\n",
       "      <td>Obfuscated Files or Information</td>\n",
       "    </tr>\n",
       "    <tr>\n",
       "      <th>14</th>\n",
       "      <td>T1056.001</td>\n",
       "      <td>Keylogging</td>\n",
       "    </tr>\n",
       "    <tr>\n",
       "      <th>15</th>\n",
       "      <td>T1083</td>\n",
       "      <td>File and Directory Discovery</td>\n",
       "    </tr>\n",
       "    <tr>\n",
       "      <th>16</th>\n",
       "      <td>T1053.005</td>\n",
       "      <td>Scheduled Task</td>\n",
       "    </tr>\n",
       "    <tr>\n",
       "      <th>17</th>\n",
       "      <td>T1070.004</td>\n",
       "      <td>File Deletion</td>\n",
       "    </tr>\n",
       "    <tr>\n",
       "      <th>18</th>\n",
       "      <td>T1105</td>\n",
       "      <td>Ingress Tool Transfer</td>\n",
       "    </tr>\n",
       "    <tr>\n",
       "      <th>19</th>\n",
       "      <td>T1090</td>\n",
       "      <td>Proxy</td>\n",
       "    </tr>\n",
       "    <tr>\n",
       "      <th>20</th>\n",
       "      <td>T1005</td>\n",
       "      <td>Data from Local System</td>\n",
       "    </tr>\n",
       "    <tr>\n",
       "      <th>21</th>\n",
       "      <td>T1574.002</td>\n",
       "      <td>DLL Side-Loading</td>\n",
       "    </tr>\n",
       "    <tr>\n",
       "      <th>22</th>\n",
       "      <td>T1071.001</td>\n",
       "      <td>Web Protocols</td>\n",
       "    </tr>\n",
       "    <tr>\n",
       "      <th>23</th>\n",
       "      <td>T1484.001</td>\n",
       "      <td>Group Policy Modification</td>\n",
       "    </tr>\n",
       "    <tr>\n",
       "      <th>24</th>\n",
       "      <td>T1204.002</td>\n",
       "      <td>Malicious File</td>\n",
       "    </tr>\n",
       "    <tr>\n",
       "      <th>25</th>\n",
       "      <td>T1055</td>\n",
       "      <td>Process Injection</td>\n",
       "    </tr>\n",
       "    <tr>\n",
       "      <th>26</th>\n",
       "      <td>T1562.001</td>\n",
       "      <td>Disable or Modify Tools</td>\n",
       "    </tr>\n",
       "    <tr>\n",
       "      <th>27</th>\n",
       "      <td>T1033</td>\n",
       "      <td>System Owner/User Discovery</td>\n",
       "    </tr>\n",
       "    <tr>\n",
       "      <th>28</th>\n",
       "      <td>T1566.001</td>\n",
       "      <td>Spearphishing Attachment</td>\n",
       "    </tr>\n",
       "    <tr>\n",
       "      <th>29</th>\n",
       "      <td>T1219</td>\n",
       "      <td>Remote Access Software</td>\n",
       "    </tr>\n",
       "    <tr>\n",
       "      <th>30</th>\n",
       "      <td>T1547.001</td>\n",
       "      <td>Registry Run Keys / Startup Folder</td>\n",
       "    </tr>\n",
       "    <tr>\n",
       "      <th>31</th>\n",
       "      <td>T1021.001</td>\n",
       "      <td>Remote Desktop Protocol</td>\n",
       "    </tr>\n",
       "    <tr>\n",
       "      <th>32</th>\n",
       "      <td>T1543.003</td>\n",
       "      <td>Windows Service</td>\n",
       "    </tr>\n",
       "    <tr>\n",
       "      <th>33</th>\n",
       "      <td>T1569.002</td>\n",
       "      <td>Service Execution</td>\n",
       "    </tr>\n",
       "    <tr>\n",
       "      <th>34</th>\n",
       "      <td>T1036.005</td>\n",
       "      <td>Match Legitimate Name or Location</td>\n",
       "    </tr>\n",
       "    <tr>\n",
       "      <th>35</th>\n",
       "      <td>T1112</td>\n",
       "      <td>Modify Registry</td>\n",
       "    </tr>\n",
       "    <tr>\n",
       "      <th>36</th>\n",
       "      <td>T1041</td>\n",
       "      <td>Exfiltration Over C2 Channel</td>\n",
       "    </tr>\n",
       "    <tr>\n",
       "      <th>37</th>\n",
       "      <td>T1110</td>\n",
       "      <td>Brute Force</td>\n",
       "    </tr>\n",
       "    <tr>\n",
       "      <th>38</th>\n",
       "      <td>T1190</td>\n",
       "      <td>Exploit Public-Facing Application</td>\n",
       "    </tr>\n",
       "    <tr>\n",
       "      <th>39</th>\n",
       "      <td>T1564.001</td>\n",
       "      <td>Hidden Files and Directories</td>\n",
       "    </tr>\n",
       "    <tr>\n",
       "      <th>40</th>\n",
       "      <td>T1113</td>\n",
       "      <td>Screen Capture</td>\n",
       "    </tr>\n",
       "    <tr>\n",
       "      <th>41</th>\n",
       "      <td>T1573.001</td>\n",
       "      <td>Symmetric Cryptography</td>\n",
       "    </tr>\n",
       "    <tr>\n",
       "      <th>42</th>\n",
       "      <td>T1095</td>\n",
       "      <td>Non-Application Layer Protocol</td>\n",
       "    </tr>\n",
       "    <tr>\n",
       "      <th>43</th>\n",
       "      <td>T1552.001</td>\n",
       "      <td>Credentials In Files</td>\n",
       "    </tr>\n",
       "    <tr>\n",
       "      <th>44</th>\n",
       "      <td>T1012</td>\n",
       "      <td>Query Registry</td>\n",
       "    </tr>\n",
       "    <tr>\n",
       "      <th>45</th>\n",
       "      <td>T1074.001</td>\n",
       "      <td>Local Data Staging</td>\n",
       "    </tr>\n",
       "    <tr>\n",
       "      <th>46</th>\n",
       "      <td>T1548.002</td>\n",
       "      <td>Bypass User Account Control</td>\n",
       "    </tr>\n",
       "    <tr>\n",
       "      <th>47</th>\n",
       "      <td>T1068</td>\n",
       "      <td>Exploitation for Privilege Escalation</td>\n",
       "    </tr>\n",
       "    <tr>\n",
       "      <th>48</th>\n",
       "      <td>T1072</td>\n",
       "      <td>Software Deployment Tools</td>\n",
       "    </tr>\n",
       "    <tr>\n",
       "      <th>49</th>\n",
       "      <td>T1557.001</td>\n",
       "      <td>LLMNR/NBT-NS Poisoning and SMB Relay</td>\n",
       "    </tr>\n",
       "  </tbody>\n",
       "</table>\n",
       "</div>"
      ]
     },
     "execution_count": 51,
     "metadata": {},
     "output_type": "execute_result"
    }
   ],
   "execution_count": 51
  },
  {
   "metadata": {},
   "cell_type": "markdown",
   "source": "Getting tactics:",
   "id": "acf58b19dc511f47"
  },
  {
   "metadata": {
    "ExecuteTime": {
     "end_time": "2024-05-04T21:31:31.514997Z",
     "start_time": "2024-05-04T21:31:31.512750Z"
    }
   },
   "cell_type": "code",
   "source": [
    "def get_tactic(technique_external_id: str):\n",
    "    tactic_name = None\n",
    "    for obj in mitre[\"objects\"]:\n",
    "        if obj[\"type\"] == \"attack-pattern\" and obj[\"external_references\"][0][\"external_id\"] == technique_external_id:\n",
    "            tactic_name = obj[\"kill_chain_phases\"][0][\"phase_name\"]\n",
    "            break\n",
    "    if tactic_name is not None:\n",
    "        for obj in mitre[\"objects\"]:\n",
    "            if obj[\"type\"] == \"x-mitre-tactic\" and obj[\"x_mitre_shortname\"] == tactic_name:\n",
    "                return {\"technique_id\": technique_external_id, \"tactic_name\": obj[\"name\"],\n",
    "                        'tactic_id': obj[\"external_references\"][0][\"external_id\"]}"
   ],
   "id": "bd917fbdc9de2ff1",
   "outputs": [],
   "execution_count": 29
  },
  {
   "metadata": {
    "ExecuteTime": {
     "end_time": "2024-05-04T22:23:48.093805Z",
     "start_time": "2024-05-04T22:23:48.010924Z"
    }
   },
   "cell_type": "code",
   "source": [
    "tactics = []\n",
    "for techniqueId in all_techniques:\n",
    "    tactic = get_tactic(techniqueId)\n",
    "    tactics.append(tactic)\n",
    "\n",
    "tactics = pd.DataFrame(tactics)"
   ],
   "id": "544773b12dd50588",
   "outputs": [],
   "execution_count": 42
  },
  {
   "metadata": {},
   "cell_type": "markdown",
   "source": "Now we get prodedure examples",
   "id": "7eb2b59cb58406ea"
  },
  {
   "metadata": {
    "ExecuteTime": {
     "end_time": "2024-05-04T22:41:44.581788Z",
     "start_time": "2024-05-04T22:41:44.574615Z"
    }
   },
   "cell_type": "code",
   "source": [
    "def get_procedure_examples(technique_external_id):\n",
    "    technique_id = None\n",
    "    for obj in mitre[\"objects\"]:\n",
    "        if obj[\"type\"] == \"attack-pattern\" and obj[\"external_references\"][0][\"external_id\"] == technique_external_id:\n",
    "            technique_id = obj[\"id\"]\n",
    "            break\n",
    "    procedure_examples = []\n",
    "    for obj in mitre[\"objects\"]:\n",
    "        if obj[\"type\"] == \"relationship\" and obj[\"relationship_type\"] == \"uses\" and obj[\"target_ref\"] == technique_id:\n",
    "            text = None\n",
    "            try:\n",
    "                text = obj[\"description\"]\n",
    "                name = text[text.index('[') + 1:text.index(']')]\n",
    "                id = text[text.index('('):text.index(')')].split('/')[-1]\n",
    "                procedure_examples.append({'technique_id': technique_external_id, 'proc_def': f\"{id} {name}\"})\n",
    "            except:\n",
    "                pass\n",
    "\n",
    "    return procedure_examples"
   ],
   "id": "edb76a6d1e18167f",
   "outputs": [],
   "execution_count": 52
  },
  {
   "metadata": {
    "ExecuteTime": {
     "end_time": "2024-05-04T22:41:46.343913Z",
     "start_time": "2024-05-04T22:41:46.190567Z"
    }
   },
   "cell_type": "code",
   "source": [
    "procedureExamples = []\n",
    "for techniqueId in all_techniques:\n",
    "    procedureExamples.extend(get_procedure_examples(techniqueId))\n",
    "procedureExamples = pd.DataFrame(procedureExamples)"
   ],
   "id": "a5fa9184f7f85f2f",
   "outputs": [],
   "execution_count": 53
  },
  {
   "metadata": {},
   "cell_type": "markdown",
   "source": [
    "Adding them all in one place labels, text, doc_titles: \n",
    "            there are 50 labels, 149 doc_titles and 5089 text\n",
    "            \n",
    "\n",
    "And also adding the techniqueNames, tactics id and names and procedure examples to the nodes list."
   ],
   "id": "79036c27c96699ae"
  },
  {
   "metadata": {
    "ExecuteTime": {
     "end_time": "2024-05-04T23:22:13.206257Z",
     "start_time": "2024-05-04T23:22:13.200651Z"
    }
   },
   "cell_type": "code",
   "source": [
    "nodes = np.concatenate((\n",
    "    all_techniques, techniqueNames['technique_name'].explode().dropna().unique(),\n",
    "    doc_titles,\n",
    "    text,\n",
    "    tactics['tactic_name'].explode().dropna().unique(), tactics['tactic_id'].explode().dropna().unique(),\n",
    "    procedureExamples['proc_def'].explode().dropna().unique()    \n",
    "))\n",
    "\n",
    "nodes"
   ],
   "id": "c06f2df0f32c1ad2",
   "outputs": [
    {
     "data": {
      "text/plain": [
       "array(['T1003.001', 'T1210', 'T1570', ..., 'S0116 UACMe', 'S0041 Wiper',\n",
       "       'S0174 Responder'], dtype=object)"
      ]
     },
     "execution_count": 65,
     "metadata": {},
     "output_type": "execute_result"
    }
   ],
   "execution_count": 65
  },
  {
   "cell_type": "markdown",
   "id": "73c3a4f932718d8d",
   "metadata": {
    "collapsed": false,
    "jupyter": {
     "outputs_hidden": false
    }
   },
   "source": [
    "The node list will then have \n",
    "    techniques ids\n",
    "    technique names\n",
    "    doc_titles \n",
    "    text\n",
    "    tactic names\n",
    "    tactic ids\n",
    "    procedure definitions\n",
    "    \n",
    "Now to make the numeric triples, we will use the indexes of the nodes from the nodes list.\n",
    "\n",
    "Let us say that these are the numeric representation of the relationships, \n",
    "    part of = 1\n",
    "    used in = 2\n",
    "    points to = 3\n",
    "    contains = 4\n",
    "    uses = 5\n",
    "    describes = 6\n",
    "\n",
    "- Part of : Links Attack Techniques to Attack Tactics.\n",
    "- Used in: Shows that the techniques and tactics are made use of in a CTI report.\n",
    "- Points to: Links a text to an Attack Technique.\n",
    "- Contains: Connects a text to a CTI report.\n",
    "- Uses: Associates procedure-examples to Attack Techniques.\n",
    "- Describes: Full names of the attack techniques and tactics.\n",
    "\n",
    "1. we make the triples for text points-to techniqueid\n",
    "2. we make the triples for doc_title contains text\n",
    "3. we make the triples for techniqueid used-in doc_title\n",
    "4. we make the triples for techniqueid part-of tacticid\n",
    "5. we make the triples for technique_name describes techniqueid\n",
    "6. we make the triples for tactic_name describes tacticid\n",
    "7. we make the triples for procedure_examples uses techniqueid"
   ]
  },
  {
   "cell_type": "code",
   "id": "285010d75de580e7",
   "metadata": {
    "collapsed": false,
    "jupyter": {
     "outputs_hidden": false
    },
    "ExecuteTime": {
     "end_time": "2024-05-04T23:22:24.425917Z",
     "start_time": "2024-05-04T23:22:23.223079Z"
    }
   },
   "source": [
    "triples = []\n",
    "tech2doc = []\n",
    "\n",
    "np_data = data.to_numpy()\n",
    "\n",
    "for row in np_data:\n",
    "    text_index = np.where(nodes == row[0])[0][0]\n",
    "    technique_index = np.where(nodes == row[1])[0][0]\n",
    "    doc_title_index = np.where(nodes == row[2])[0][0]\n",
    "\n",
    "    triples.extend(\n",
    "        ((text_index, 3, technique_index),\n",
    "         (doc_title_index, 4, text_index))\n",
    "    )\n",
    "    tech2doc.append((technique_index, 2, doc_title_index))\n",
    "\n",
    "tech2doc = np.unique(tech2doc, axis=0)\n",
    "triples = np.array(triples)\n",
    "triples = np.append(triples, tech2doc, axis=0)\n",
    "\n",
    "tec2tac = []\n",
    "tacN2tacId = []\n",
    "for row in tactics.to_numpy():\n",
    "    techniqueid_index = np.where(nodes == row[0])[0][0]\n",
    "    tactic_name_index = np.where(nodes == row[1])[0][0]\n",
    "    tactic_id_index = np.where(nodes == row[2])[0][0]\n",
    "    # techniqueid part-of tacticid\n",
    "    tec2tac.append((techniqueid_index, 1, tactic_id_index))\n",
    "    # tactic_name describes tacticid\n",
    "    tacN2tacId.append((tactic_name_index, 6, tactic_id_index))\n",
    "triples = np.append(triples, tec2tac, axis=0)\n",
    "triples = np.append(triples, tacN2tacId, axis=0)\n",
    "\n",
    "# technique_name describes techniqueid\n",
    "tecN2tecId = []\n",
    "for row in techniqueNames.to_numpy():\n",
    "    techniqueid_index = np.where(nodes == row[0])[0][0]\n",
    "    technique_name_index = np.where(nodes == row[1])[0][0]\n",
    "    tecN2tecId.append((technique_name_index, 6, techniqueid_index))\n",
    "triples = np.append(triples, tecN2tecId, axis=0)\n",
    "\n",
    "# procedure_examples uses techniqueid\n",
    "proc2tec = []\n",
    "for row in procedureExamples.to_numpy():\n",
    "    techniqueid_index = np.where(nodes == row[0])[0][0]\n",
    "    proc_def_index = np.where(nodes == row[1])[0][0]\n",
    "    proc2tec.append((proc_def_index, 5, techniqueid_index))\n",
    "triples = np.append(triples, proc2tec, axis=0)"
   ],
   "outputs": [],
   "execution_count": 66
  },
  {
   "cell_type": "code",
   "id": "81537cb5a95cf7de",
   "metadata": {
    "collapsed": false,
    "jupyter": {
     "outputs_hidden": false
    },
    "ExecuteTime": {
     "end_time": "2024-05-04T23:22:25.989023Z",
     "start_time": "2024-05-04T23:22:25.985750Z"
    }
   },
   "source": [
    "triples"
   ],
   "outputs": [
    {
     "data": {
      "text/plain": [
       "array([[ 249,    3,    0],\n",
       "       [ 100,    4,  249],\n",
       "       [ 250,    3,    0],\n",
       "       ...,\n",
       "       [5406,    5,   49],\n",
       "       [5386,    5,   49],\n",
       "       [6173,    5,   49]])"
      ]
     },
     "execution_count": 67,
     "metadata": {},
     "output_type": "execute_result"
    }
   ],
   "execution_count": 67
  },
  {
   "cell_type": "code",
   "id": "8a764d37b4b88e34",
   "metadata": {
    "collapsed": false,
    "jupyter": {
     "outputs_hidden": false
    },
    "ExecuteTime": {
     "end_time": "2024-05-04T23:22:28.515921Z",
     "start_time": "2024-05-04T23:22:28.513039Z"
    }
   },
   "source": [
    "len(triples)"
   ],
   "outputs": [
    {
     "data": {
      "text/plain": [
       "18851"
      ]
     },
     "execution_count": 68,
     "metadata": {},
     "output_type": "execute_result"
    }
   ],
   "execution_count": 68
  },
  {
   "cell_type": "code",
   "id": "c73d7e1731c3ec27",
   "metadata": {
    "collapsed": false,
    "jupyter": {
     "outputs_hidden": false
    },
    "ExecuteTime": {
     "end_time": "2024-05-04T23:18:10.993116Z",
     "start_time": "2024-05-04T23:18:10.990304Z"
    }
   },
   "source": [
    "# Assert that length of total triples is equal to 2 * length of data + length of tech2doc + length of tec2tac + length of tacN2tacId + length of tecN2tecId + length of proc2tec\n",
    "assert len(triples) == 2 * len(np_data) + len(tech2doc) + len(tec2tac) + len(tacN2tacId) + len(tecN2tecId) + len(proc2tec)"
   ],
   "outputs": [],
   "execution_count": 58
  },
  {
   "cell_type": "markdown",
   "id": "d5cdbedc0434fb2c",
   "metadata": {
    "collapsed": false,
    "jupyter": {
     "outputs_hidden": false
    }
   },
   "source": [
    "split the triples into train, validation, test and save them to a file"
   ]
  },
  {
   "cell_type": "code",
   "id": "ffaa092cfdc6cb7a",
   "metadata": {
    "collapsed": false,
    "jupyter": {
     "outputs_hidden": false
    },
    "ExecuteTime": {
     "end_time": "2024-05-04T23:22:38.451410Z",
     "start_time": "2024-05-04T23:22:38.426338Z"
    }
   },
   "source": [
    "%%bash\n",
    "\n",
    "mkdir -p ../data/output/single/augmented"
   ],
   "outputs": [],
   "execution_count": 69
  },
  {
   "cell_type": "code",
   "id": "17aea83473e80888",
   "metadata": {
    "collapsed": false,
    "jupyter": {
     "outputs_hidden": false
    },
    "ExecuteTime": {
     "end_time": "2024-05-04T23:22:39.234409Z",
     "start_time": "2024-05-04T23:22:39.206299Z"
    }
   },
   "source": [
    "output = \"../data/output/single/augmented\"\n",
    "pd.DataFrame(triples).to_csv(output + '/triples.txt', index=False, header=False, sep=' ')\n",
    "train, valid = train_test_split(triples, test_size=0.05)\n",
    "pd.DataFrame(train).to_csv(output + '/train.txt', index=False, header=False, sep=' ')\n",
    "pd.DataFrame(valid).to_csv(output + '/valid.txt', index=False, header=False, sep=' ')\n",
    "assert len(train) + len(valid) == len(triples)"
   ],
   "outputs": [],
   "execution_count": 70
  },
  {
   "cell_type": "markdown",
   "id": "20e884a9dc0d5054",
   "metadata": {
    "collapsed": false,
    "jupyter": {
     "outputs_hidden": false
    }
   },
   "source": [
    "Also train test validation split the nodes.txt for MLM \n",
    "\n",
    "Question: If we split the nodes, what happens to the indexes of the nodes. they should not be shuffled, otherwise the triples will be wrong.\n",
    "Look at kepler.\n",
    "_ Answer: its ok, kepler use the whole node.bpe for ke tasks."
   ]
  },
  {
   "cell_type": "code",
   "id": "e7227ffd7e1cac4b",
   "metadata": {
    "collapsed": false,
    "jupyter": {
     "outputs_hidden": false
    },
    "ExecuteTime": {
     "end_time": "2024-05-04T23:22:41.634844Z",
     "start_time": "2024-05-04T23:22:41.632601Z"
    }
   },
   "source": [
    "def write_file(file_path, _list):\n",
    "    with open(file_path, 'w') as f:\n",
    "        for _row in _list:\n",
    "            f.write(_row.replace(\"\\n\", r\"\\n\").replace(\"\\t\", r\"\\t\") + \"\\n\")"
   ],
   "outputs": [],
   "execution_count": 71
  },
  {
   "cell_type": "code",
   "id": "42cba7dd0a1007c7",
   "metadata": {
    "collapsed": false,
    "jupyter": {
     "outputs_hidden": false
    },
    "ExecuteTime": {
     "end_time": "2024-05-04T23:22:47.326734Z",
     "start_time": "2024-05-04T23:22:47.020348Z"
    }
   },
   "source": [
    "n_train, n_test = train_test_split(nodes, test_size=0.2)\n",
    "\n",
    "n_train, n_valid = train_test_split(n_train, test_size=0.05)\n",
    "\n",
    "assert len(n_train) + len(n_test) + len(n_valid) == len(nodes)\n",
    "\n",
    "write_file(output + '/nodes_train.txt', n_train)\n",
    "write_file(output + '/nodes_valid.txt', n_valid)\n",
    "write_file(output + '/nodes_test.txt', n_test)"
   ],
   "outputs": [],
   "execution_count": 72
  },
  {
   "cell_type": "markdown",
   "id": "65138b47f06d9c1d",
   "metadata": {
    "collapsed": false,
    "jupyter": {
     "outputs_hidden": false
    }
   },
   "source": [
    "save the nodes to a file, this is somewhat tricky, since some of the node texts contain newline characters, and we need to preserve them."
   ]
  },
  {
   "cell_type": "code",
   "id": "629835bdd91d2459",
   "metadata": {
    "collapsed": false,
    "jupyter": {
     "outputs_hidden": false
    },
    "ExecuteTime": {
     "end_time": "2024-05-04T23:22:50.488965Z",
     "start_time": "2024-05-04T23:22:50.482968Z"
    }
   },
   "source": [
    "write_file(output + '/nodes.txt', nodes)"
   ],
   "outputs": [],
   "execution_count": 73
  },
  {
   "cell_type": "markdown",
   "id": "f9a7127ab0453243",
   "metadata": {
    "collapsed": false,
    "jupyter": {
     "outputs_hidden": false
    }
   },
   "source": [
    "Now we follow Kepler@s Readme.md and prepare the KE and MLM data from the above files.\n",
    "\n",
    "    We will use the nodes...txt as our MLM data.\n",
    "    We will use the triples...txt as our KE data.\n",
    "    \n",
    "\n",
    "We first install the local version of kepler, which is built by extending fairsec:\n",
    "We now start with KE data preprocessing:"
   ]
  },
  {
   "cell_type": "code",
   "id": "92b3418abc686916",
   "metadata": {},
   "source": [
    "%%bash\n",
    "\n",
    "cd ../..\n",
    "python -m pip install --editable ."
   ],
   "outputs": [],
   "execution_count": null
  },
  {
   "cell_type": "markdown",
   "id": "9854b2bd8151297c",
   "metadata": {
    "collapsed": false,
    "jupyter": {
     "outputs_hidden": false
    }
   },
   "source": [
    "1. Encode the entity descriptions with the GPT-2 BPE:"
   ]
  },
  {
   "cell_type": "code",
   "id": "b43f735dfb9b6f4d",
   "metadata": {
    "collapsed": false,
    "jupyter": {
     "outputs_hidden": false
    }
   },
   "source": [
    "%%bash\n",
    "\n",
    "mkdir -p ../data/gpt2_bpe\n",
    "wget -O ../data/gpt2_bpe/encoder.json https://dl.fbaipublicfiles.com/fairseq/gpt2_bpe/encoder.json\n",
    "wget -O ../data/gpt2_bpe/vocab.bpe https://dl.fbaipublicfiles.com/fairseq/gpt2_bpe/vocab.bpe"
   ],
   "outputs": [],
   "execution_count": null
  },
  {
   "cell_type": "code",
   "id": "5a68f379-fbb8-49dd-a109-5d52c2094c21",
   "metadata": {},
   "source": [
    "!ls"
   ],
   "outputs": [],
   "execution_count": null
  },
  {
   "cell_type": "code",
   "id": "d5722ae2-31df-4d91-9fdf-b4faeabc3576",
   "metadata": {},
   "source": [
    "%%bash\n",
    "\n",
    "export LD_LIBRARY_PATH=/home/sougata/.local/lib/python3.10/site-packages/nvidia/nvjitlink/lib:$LD_LIBRARY_PATH\n",
    "\n",
    "python ../../examples/roberta/multiprocessing_bpe_encoder.py \\\n",
    "    --encoder-json ../data/gpt2_bpe/encoder.json \\\n",
    "    --vocab-bpe ../data/gpt2_bpe/vocab.bpe \\\n",
    "    --inputs ../data/output/single/augmented/nodes.txt \\\n",
    "    --outputs ../data/output/single/augmented/nodes.bpe \\\n",
    "    --keep-empty \\\n",
    "    --workers 60"
   ],
   "outputs": [],
   "execution_count": null
  },
  {
   "cell_type": "markdown",
   "id": "d999e452c05d080b",
   "metadata": {
    "collapsed": false,
    "jupyter": {
     "outputs_hidden": false
    }
   },
   "source": [
    "2. Do negative sampling and dump the whole training and validation data:"
   ]
  },
  {
   "cell_type": "code",
   "id": "299ef6c3b0bc945f",
   "metadata": {
    "collapsed": false,
    "jupyter": {
     "outputs_hidden": false
    }
   },
   "source": [
    "%%bash\n",
    "\n",
    "python ../../examples/KEPLER/Pretrain/KGpreprocess.py --dumpPath ../data/output/single/augmented/KE1 \\\n",
    "    -ns 1 \\\n",
    "    --ent_desc ../data/output/single/augmented/nodes.bpe \\\n",
    "    --train ../data/output/single/augmented/train.txt \\\n",
    "    --valid ../data/output/single/augmented/valid.txt"
   ],
   "outputs": [],
   "execution_count": null
  },
  {
   "cell_type": "markdown",
   "id": "19491d497766b21e",
   "metadata": {
    "collapsed": false,
    "jupyter": {
     "outputs_hidden": false
    }
   },
   "source": [
    "3. then randomly split the KE training data into smaller parts and the number of training instances in each part aligns with the MLM training data\n",
    "For our case it will be just one split, since our data is small.\n",
    "\n",
    "Question: what does the negative_sampling_size = 1 do? it could be that the relation triples are false."
   ]
  },
  {
   "cell_type": "code",
   "id": "5ccac80a7fe44706",
   "metadata": {
    "collapsed": false,
    "jupyter": {
     "outputs_hidden": false
    }
   },
   "source": [
    "%%bash\n",
    "\n",
    "python ../../examples/KEPLER/Pretrain/splitDump.py --Path ../data/output/single/augmented/KE1 \\\n",
    "    --split_size 6834352 \\\n",
    "    --negative_sampling_size 10"
   ],
   "outputs": [],
   "execution_count": null
  },
  {
   "cell_type": "markdown",
   "id": "b27bce6070479558",
   "metadata": {
    "collapsed": false,
    "jupyter": {
     "outputs_hidden": false
    }
   },
   "source": [
    "4. We then binarize them for training:"
   ]
  },
  {
   "cell_type": "code",
   "id": "48e1031600c7930",
   "metadata": {
    "collapsed": false,
    "jupyter": {
     "outputs_hidden": false
    }
   },
   "source": [
    "%%bash\n",
    "\n",
    "export LD_LIBRARY_PATH=/home/sougata/.local/lib/python3.10/site-packages/nvidia/nvjitlink/lib:$LD_LIBRARY_PATH\n",
    "\n",
    "wget -O ../data/gpt2_bpe/dict.txt https://dl.fbaipublicfiles.com/fairseq/gpt2_bpe/dict.txt\n",
    "\n",
    "KE_Data=../data/output/single/augmented/KE1_0/\n",
    "for SPLIT in head tail negHead negTail;\n",
    "  do\n",
    "    python -m fairseq_cli.preprocess \\\n",
    "      --only-source \\\n",
    "      --srcdict ../data/gpt2_bpe/dict.txt \\\n",
    "      --trainpref ${KE_Data}${SPLIT}/train.bpe \\\n",
    "      --validpref ${KE_Data}${SPLIT}/valid.bpe \\\n",
    "      --destdir ${KE_Data}${SPLIT} \\\n",
    "      --workers 60; \\\n",
    "  done"
   ],
   "outputs": [],
   "execution_count": null
  },
  {
   "cell_type": "markdown",
   "id": "b8025db8c495182b",
   "metadata": {
    "collapsed": false,
    "jupyter": {
     "outputs_hidden": false
    }
   },
   "source": [
    "We now start with MLM data preprocessing:\n",
    "\n",
    "\n",
    "1. Now we encode the nodes_train, nodes_train and nodes_valid with the GPT-2 BPE:\n",
    "   (gpt2_bpe is already downloaded during the KE data preparation, we reuse that.)"
   ]
  },
  {
   "cell_type": "code",
   "id": "d0cd6deae6cbd2df",
   "metadata": {
    "collapsed": false,
    "jupyter": {
     "outputs_hidden": false
    }
   },
   "source": [
    "%%bash\n",
    "\n",
    "export LD_LIBRARY_PATH=/home/sougata/.local/lib/python3.10/site-packages/nvidia/nvjitlink/lib:$LD_LIBRARY_PATH\n",
    "\n",
    "mkdir -p ../data/output/single/augmented/MLM\n",
    "\n",
    "for SPLIT in train valid test; do \\\n",
    "    python -m examples.roberta.multiprocessing_bpe_encoder \\\n",
    "        --encoder-json ../data/gpt2_bpe/encoder.json \\\n",
    "        --vocab-bpe ../data/gpt2_bpe/vocab.bpe \\\n",
    "        --inputs ../data/output/single/augmented/nodes_${SPLIT}.txt \\\n",
    "        --outputs ../data/output/single/augmented/MLM/nodes_${SPLIT}.bpe \\\n",
    "        --keep-empty \\\n",
    "        --workers 60; \\\n",
    "done"
   ],
   "outputs": [],
   "execution_count": null
  },
  {
   "cell_type": "markdown",
   "id": "29f69010e6eb7ac5",
   "metadata": {
    "collapsed": false,
    "jupyter": {
     "outputs_hidden": false
    }
   },
   "source": [
    "2. We then preprocess/binarize the data using the GPT-2 fairseq dictionary:"
   ]
  },
  {
   "cell_type": "code",
   "id": "5b00815d3e4ec9b9",
   "metadata": {
    "collapsed": false,
    "jupyter": {
     "outputs_hidden": false
    }
   },
   "source": [
    "%%bash\n",
    "\n",
    "export LD_LIBRARY_PATH=/home/sougata/.local/lib/python3.10/site-packages/nvidia/nvjitlink/lib:$LD_LIBRARY_PATH\n",
    "\n",
    "mkdir -p ../data/output/single/augmented/MLM-bin\n",
    "\n",
    "python -m fairseq_cli.preprocess \\\n",
    "    --only-source \\\n",
    "    --srcdict ../data/gpt2_bpe/dict.txt \\\n",
    "    --trainpref ../data/output/single/augmented/MLM/nodes_train.bpe \\\n",
    "    --validpref ../data/output/single/augmented/MLM/nodes_valid.bpe \\\n",
    "    --testpref ../data/output/single/augmented/MLM/nodes_test.bpe \\\n",
    "    --destdir ../data/output/single/augmented/MLM-bin \\\n",
    "    --workers 60"
   ],
   "outputs": [],
   "execution_count": null
  },
  {
   "cell_type": "markdown",
   "id": "acb2ce7d3fd5a9f4",
   "metadata": {
    "collapsed": false,
    "jupyter": {
     "outputs_hidden": false
    }
   },
   "source": [
    "All preprocessing is done, now we try out training the model with our data.\n",
    "\n",
    "We first download the pretrained models:"
   ]
  },
  {
   "cell_type": "code",
   "id": "1e428b133c6d2b07",
   "metadata": {},
   "source": [
    "# %%bash\n",
    "\n",
    "# mkdir ../data/keplerModels\n",
    "# \n",
    "# if ! [ -f ../data/keplerModels/KEPLERforNLP.pt ]; then\n",
    "#     wget -o ../data/keplerModels/KEPLERforNLP.pt https://cloud.tsinghua.edu.cn/seafhttp/files/a21e5254-ceac-4b88-88e9-8ec58cbe8a1a/KEPLERforNLP.pt\n",
    "# fi\n",
    "# if ! [ -f ../data/keplerModels/KEPLERforKE.p ]; then\n",
    "#     wget -o ../data/keplerModels/KEPLERforKE.pt https://cloud.tsinghua.edu.cn/seafhttp/files/a684dc30-6a1a-4613-97ad-0144ae84e1ca/KEPLERforKE.pt\n",
    "# fi"
   ],
   "outputs": [],
   "execution_count": null
  },
  {
   "cell_type": "code",
   "id": "269b13183ee99f58",
   "metadata": {},
   "source": [
    "# !mkdir ../data/keplerModels"
   ],
   "outputs": [],
   "execution_count": null
  },
  {
   "cell_type": "code",
   "id": "6a28e06b4b3d4730",
   "metadata": {},
   "source": [
    "# !wget -o ../data/keplerModels/KEPLERforNLP.pt https://cloud.tsinghua.edu.cn/seafhttp/files/70495ae5-48a0-48e4-9c1a-fe4893e80d3f/KEPLERforNLP.pt"
   ],
   "outputs": [],
   "execution_count": null
  },
  {
   "cell_type": "code",
   "id": "cd40dbc688962e98",
   "metadata": {},
   "source": [
    "# !wget -d -o ../data/keplerModels/KEPLERforKE.pt https://cloud.tsinghua.edu.cn/seafhttp/files/a3b23761-e0bd-4850-b8c4-3788ce6cea3f/KEPLERforKE.pt"
   ],
   "outputs": [],
   "execution_count": null
  },
  {
   "cell_type": "markdown",
   "id": "7ffc15c847d3385d",
   "metadata": {
    "collapsed": false,
    "jupyter": {
     "outputs_hidden": false
    }
   },
   "source": [
    "Then we first train on the NLP model:"
   ]
  },
  {
   "cell_type": "code",
   "id": "db7756b7fda225dd",
   "metadata": {
    "collapsed": false,
    "jupyter": {
     "outputs_hidden": false
    }
   },
   "source": [
    "%%bash\n",
    "\n",
    "export LD_LIBRARY_PATH=/home/sougata/.local/lib/python3.10/site-packages/nvidia/nvjitlink/lib:$LD_LIBRARY_PATH\n",
    "\n",
    "TOTAL_UPDATES=125                                    # Total number of training steps\n",
    "WARMUP_UPDATES=10                                    # Warmup the learning rate over this many updates\n",
    "LR=6e-04                                                # Peak LR for polynomial LR scheduler.\n",
    "NUM_CLASSES=2                           \n",
    "MAX_SENTENCES=3                                         # Batch size.\n",
    "NUM_NODES=1\t\t\t                                    # Number of machines\n",
    "# ROBERTA_PATH=../data/checkpoints/checkpoint_last.pt\n",
    "ROBERTA_PATH=../data/keplerModels/KEPLERforNLP.pt       # Path to the original roberta model\n",
    "CHECKPOINT_PATH=../data/checkpoints/single/augmented/nlp/                     # Directory to store the checkpoints\n",
    "UPDATE_FREQ=`expr 784 / $NUM_NODES`                     # Increase the batch size\n",
    "\n",
    "DATA_DIR=../data/output/single/augmented\n",
    "\n",
    "#Path to the preprocessed KE dataset, each item corresponds to a data directory for one epoch\n",
    "KE_DATA=$DATA_DIR/KE1_0:\n",
    "\n",
    "DIST_SIZE=`expr $NUM_NODES`\n",
    "\n",
    "python -m fairseq_cli.train $DATA_DIR/MLM-bin --KEdata $KE_DATA --restore-file $ROBERTA_PATH \\\n",
    "        --save-dir $CHECKPOINT_PATH \\\n",
    "        --max-sentences $MAX_SENTENCES \\\n",
    "        --tokens-per-sample 512 \\\n",
    "        --task MLMetKE \\\n",
    "        --sample-break-mode complete \\\n",
    "        --required-batch-size-multiple 1 \\\n",
    "        --arch roberta_base \\\n",
    "        --criterion MLMetKE \\\n",
    "        --dropout 0.1 --attention-dropout 0.1 --weight-decay 0.01 \\\n",
    "        --optimizer adam --adam-betas \"(0.9, 0.98)\" --adam-eps 1e-06 \\\n",
    "        --clip-norm 0.0 \\\n",
    "        --lr-scheduler polynomial_decay --lr $LR --total-num-update $TOTAL_UPDATES --warmup-updates $WARMUP_UPDATES \\\n",
    "        --update-freq \"$UPDATE_FREQ\" \\\n",
    "        --negative-sample-size 1 --ke-model TransE \\\n",
    "        --init-token 0 \\\n",
    "        --separator-token 2 \\\n",
    "        --gamma 4 --nrelation 822 \\\n",
    "        --skip-invalid-size-inputs-valid-test \\\n",
    "        --fp16 --fp16-init-scale 2 --threshold-loss-scale 1 --fp16-scale-window 128 \\\n",
    "        --reset-optimizer --distributed-world-size \"${DIST_SIZE}\" --ddp-backend no_c10d --distributed-port 23456 \\\n",
    "        --log-format simple --log-interval 1 > out_single_augmented_nlp.log \\\n",
    "        #--relation-desc  #Add this option to encode the relation descriptions as relation embeddings (KEPLER-Rel in the paper)"
   ],
   "outputs": [],
   "execution_count": null
  },
  {
   "cell_type": "markdown",
   "id": "48c3ea7a221741e",
   "metadata": {},
   "source": [
    "Evaluate model"
   ]
  },
  {
   "cell_type": "code",
   "id": "c2c87ebfc9bd8dd9",
   "metadata": {},
   "source": [
    "%%bash\n",
    "\n",
    "export LD_LIBRARY_PATH=/home/sougata/.local/lib/python3.10/site-packages/nvidia/nvjitlink/lib:$LD_LIBRARY_PATH\n",
    "\n",
    "python -m fairseq_cli.eval_lm ../data/output/single/augmented/MLM-bin \\\n",
    "    --path ../data/checkpoints/checkpoint_best.pt \\\n",
    "    --sample-break-mode complete --max-tokens 3072 \\\n",
    "    --context-window 2560 --softmax-batch 1024"
   ],
   "outputs": [],
   "execution_count": null
  },
  {
   "cell_type": "code",
   "id": "c7feba10-7318-40cd-bc78-bbb43b73d5a7",
   "metadata": {},
   "source": [],
   "outputs": [],
   "execution_count": null
  }
 ],
 "metadata": {
  "kernelspec": {
   "display_name": "Python 3 (ipykernel)",
   "language": "python",
   "name": "python3"
  },
  "language_info": {
   "codemirror_mode": {
    "name": "ipython",
    "version": 3
   },
   "file_extension": ".py",
   "mimetype": "text/x-python",
   "name": "python",
   "nbconvert_exporter": "python",
   "pygments_lexer": "ipython3",
   "version": "3.10.12"
  }
 },
 "nbformat": 4,
 "nbformat_minor": 5
}
