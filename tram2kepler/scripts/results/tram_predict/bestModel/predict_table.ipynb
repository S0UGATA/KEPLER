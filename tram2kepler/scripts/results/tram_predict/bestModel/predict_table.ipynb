{
 "cells": [
  {
   "cell_type": "code",
   "id": "initial_id",
   "metadata": {
    "collapsed": true,
    "ExecuteTime": {
     "end_time": "2024-05-07T13:57:15.089390Z",
     "start_time": "2024-05-07T13:57:15.073406Z"
    }
   },
   "source": [
    "import pandas as pd\n",
    "\n",
    "def make_table(df: pd.DataFrame, name: str):\n",
    "    df = df[df['label(s)'] != 'set()']\n",
    "\n",
    "    # Replace problematic characters with a space\n",
    "    df = df.replace({'\\\\*': ' ', '\\\\+': ' ', '\\\\=': ' ', '\\\\|': ' '}, regex=True)\n",
    "    df = df.applymap(\n",
    "        lambda x: x.encode('ascii', 'replace').decode('ascii').replace('?', ' ') if isinstance(x, str) else x)\n",
    "\n",
    "    # Convert the dataframe to a LaTeX table\n",
    "    df.to_latex(name + '.tex', index=False, escape=True)\n",
    "    print(df.shape)\n",
    "\n",
    "\n",
    "make_table(pd.read_csv('./m/0.9.csv'),'m')\n",
    "make_table(pd.read_csv('./ma/ma0.9.csv'),'ma')\n",
    "make_table(pd.read_csv('./s/0.9.csv'),'s')\n",
    "make_table(pd.read_csv('./sa/0.9.csv'),'sa')"
   ],
   "outputs": [
    {
     "name": "stdout",
     "output_type": "stream",
     "text": [
      "(4, 3)\n",
      "(5, 3)\n",
      "(37, 3)\n",
      "(57, 3)\n"
     ]
    },
    {
     "name": "stderr",
     "output_type": "stream",
     "text": [
      "/var/folders/c4/syfmh0gs1jbb5q_69pf2hs4c0000gn/T/ipykernel_27345/294428920.py:8: FutureWarning: DataFrame.applymap has been deprecated. Use DataFrame.map instead.\n",
      "  df = df.applymap(\n",
      "/var/folders/c4/syfmh0gs1jbb5q_69pf2hs4c0000gn/T/ipykernel_27345/294428920.py:8: FutureWarning: DataFrame.applymap has been deprecated. Use DataFrame.map instead.\n",
      "  df = df.applymap(\n",
      "/var/folders/c4/syfmh0gs1jbb5q_69pf2hs4c0000gn/T/ipykernel_27345/294428920.py:8: FutureWarning: DataFrame.applymap has been deprecated. Use DataFrame.map instead.\n",
      "  df = df.applymap(\n",
      "/var/folders/c4/syfmh0gs1jbb5q_69pf2hs4c0000gn/T/ipykernel_27345/294428920.py:8: FutureWarning: DataFrame.applymap has been deprecated. Use DataFrame.map instead.\n",
      "  df = df.applymap(\n"
     ]
    }
   ],
   "execution_count": 9
  },
  {
   "metadata": {},
   "cell_type": "code",
   "source": "",
   "id": "d8b1ba5efb79f285",
   "outputs": [],
   "execution_count": null
  }
 ],
 "metadata": {
  "kernelspec": {
   "display_name": "Python 3",
   "language": "python",
   "name": "python3"
  },
  "language_info": {
   "codemirror_mode": {
    "name": "ipython",
    "version": 2
   },
   "file_extension": ".py",
   "mimetype": "text/x-python",
   "name": "python",
   "nbconvert_exporter": "python",
   "pygments_lexer": "ipython2",
   "version": "2.7.6"
  }
 },
 "nbformat": 4,
 "nbformat_minor": 5
}
