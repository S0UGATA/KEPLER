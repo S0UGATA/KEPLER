{
 "cells": [
  {
   "cell_type": "code",
   "id": "initial_id",
   "metadata": {
    "collapsed": true
   },
   "source": "import pandas as pd",
   "outputs": [],
   "execution_count": null
  },
  {
   "metadata": {},
   "cell_type": "code",
   "source": [
    "def make_table(df: pd.DataFrame, name: str):\n",
    "    df = df[df['label(s)'] != 'set()']\n",
    "\n",
    "    # Replace problematic characters with a space\n",
    "    df = df.replace({'\\\\*': ' ', '\\\\+': ' ', '\\\\=': ' ', '\\\\|': ' '}, regex=True)\n",
    "    df = df.applymap(\n",
    "        lambda x: x.encode('ascii', 'replace').decode('ascii').replace('?', ' ') if isinstance(x, str) else x)\n",
    "\n",
    "    # Convert the dataframe to a LaTeX table\n",
    "    df.to_latex(name + '.tex', index=False, escape=True)\n",
    "    print(df.shape)"
   ],
   "id": "b48d454e500cc885",
   "outputs": [],
   "execution_count": null
  },
  {
   "metadata": {},
   "cell_type": "code",
   "source": [
    "m = pd.read_csv('./m/0.9.csv')\n",
    "ma = pd.read_csv('./ma/ma0.9.csv')\n",
    "s = pd.read_csv('./s/0.9.csv')\n",
    "sa = pd.read_csv('./sa/0.9.csv')"
   ],
   "id": "2f1a4fba48f9df1e",
   "outputs": [],
   "execution_count": null
  },
  {
   "metadata": {},
   "cell_type": "code",
   "source": [
    "print(m)\n",
    "print(ma)\n",
    "print(s)\n",
    "print(sa)"
   ],
   "id": "19e4ad719ca0e767",
   "outputs": [],
   "execution_count": null
  },
  {
   "metadata": {},
   "cell_type": "code",
   "source": [
    "make_table(m, 'm')\n",
    "make_table(ma, 'ma')\n",
    "make_table(s, 's')\n",
    "make_table(sa, 'sa')"
   ],
   "id": "2ce44380e4148825",
   "outputs": [],
   "execution_count": null
  },
  {
   "metadata": {},
   "cell_type": "code",
   "source": [
    "import numpy as np\n",
    "import ast\n",
    "\n",
    "me = m['label(s)'].apply(ast.literal_eval).explode().dropna()\n",
    "mae = ma['label(s)'].apply(ast.literal_eval).explode().dropna()\n",
    "se = s['label(s)'].apply(ast.literal_eval).explode().dropna()\n",
    "sae = sa['label(s)'].apply(ast.literal_eval).explode().dropna()\n",
    "l = np.concatenate((me.unique(), mae.unique(), se.unique(), sae.unique()))"
   ],
   "id": "d8b1ba5efb79f285",
   "outputs": [],
   "execution_count": null
  },
  {
   "metadata": {},
   "cell_type": "code",
   "source": [
    "print(me)\n",
    "print(mae)\n",
    "print(se)\n",
    "print(sae)\n",
    "print(l)"
   ],
   "id": "f06e1c49a30c7bfd",
   "outputs": [],
   "execution_count": null
  },
  {
   "metadata": {},
   "cell_type": "code",
   "source": [
    "mvc = me.value_counts()\n",
    "mavc = mae.value_counts()\n",
    "svc = se.value_counts()\n",
    "savc = sae.value_counts()"
   ],
   "id": "4047ec72f0475aaf",
   "outputs": [],
   "execution_count": null
  },
  {
   "metadata": {},
   "cell_type": "code",
   "source": [
    "print(mvc)\n",
    "print(mavc)\n",
    "print(svc)\n",
    "print(savc)"
   ],
   "id": "b4ac1a1cf8d8ffcd",
   "outputs": [],
   "execution_count": null
  }
 ],
 "metadata": {
  "kernelspec": {
   "display_name": "Python 3",
   "language": "python",
   "name": "python3"
  },
  "language_info": {
   "codemirror_mode": {
    "name": "ipython",
    "version": 2
   },
   "file_extension": ".py",
   "mimetype": "text/x-python",
   "name": "python",
   "nbconvert_exporter": "python",
   "pygments_lexer": "ipython2",
   "version": "2.7.6"
  }
 },
 "nbformat": 4,
 "nbformat_minor": 5
}
