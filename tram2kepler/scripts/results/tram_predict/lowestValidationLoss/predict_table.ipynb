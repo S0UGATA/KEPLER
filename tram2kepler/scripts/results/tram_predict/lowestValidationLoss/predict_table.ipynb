{
 "cells": [
  {
   "cell_type": "code",
   "id": "initial_id",
   "metadata": {
    "collapsed": true,
    "ExecuteTime": {
     "end_time": "2024-05-07T01:27:01.742663Z",
     "start_time": "2024-05-07T01:27:01.727773Z"
    }
   },
   "source": [
    "import pandas as pd\n",
    "\n",
    "# Create a simple dataframe\n",
    "df = pd.read_csv('./m/0.9.csv')\n",
    "df = df[df['label(s)']!='set()']\n",
    "\n",
    "# Replace problematic characters with a space\n",
    "df = df.replace({'\\\\*': ' ', '\\\\+': ' ', '\\\\=': ' ', '\\\\|': ' '}, regex=True)\n",
    "df = df.applymap(lambda x: x.encode('ascii', 'replace').decode('ascii').replace('?', ' ') if isinstance(x, str) else x)\n",
    "\n",
    "# Convert the dataframe to a LaTeX table\n",
    "latex_table = df.to_latex(index=False, escape=True)\n",
    "\n",
    "print(latex_table)"
   ],
   "outputs": [
    {
     "name": "stdout",
     "output_type": "stream",
     "text": [
      "\\begin{tabular}{rll}\n",
      "\\toprule\n",
      "Unnamed: 0 & segment & label(s) \\\\\n",
      "\\midrule\n",
      "1 & In this campaign, the suspected Russian threat actors use several highly obfuscated and & \\{'T1027'\\} \\\\\n",
      "3 & utilizes Telegram for delivering payloads, sending commands, and receiving the payload heartbeat. The & \\{'T1105'\\} \\\\\n",
      "5 & C  . Its primary objective is to download, deobfuscate, decompress, and launch the secondary stage payload. The malware incorporates & \\{'T1140'\\} \\\\\n",
      "7 & to avoid detection and complicate reverse engineering, such as API hashing, string encryption, & \\{'T1027'\\} \\\\\n",
      "9 & examine how the malware decrypts strings and resolves hashed Windows APIs. By understanding & \\{'T1140'\\} \\\\\n",
      "11 & to help us retrieve encrypted data and streamline the analysis process. Please be & \\{'T1027'\\} \\\\\n",
      "13 & have substituted all hashes with the corresponding function names. EnigmaDownloader\\_s001 API Hashing: API & \\{'T1106'\\} \\\\\n",
      "15 & to conceal the utilization   of potentially suspicious APIs (functions) from static detection. & \\{'T1027'\\} \\\\\n",
      "17 & names of functions (such as  \"CreateMutexW\") with a hash value, such as 0x0FD43765A. & \\{'T1027'\\} \\\\\n",
      "19 & Micro (NO) names or hashes of the APIs needed, then importing them dynamically & \\{'T1027'\\} \\\\\n",
      "21 & The Windows API o & \\{'T1106'\\} \\\\\n",
      "23 & passed to GetProcAddress along with a function name to obtain a pointer to & \\{'T1059.003'\\} \\\\\n",
      "25 & malware author even implemented their own custom version of GetProcAddress to retrieve the & \\{'T1059.003'\\} \\\\\n",
      "27 & to retrieve the address of functions such as LoadLibrary and others. The use & \\{'T1055'\\} \\\\\n",
      "29 & 0xFD43765 : kernel32\\_CreateMutexW 0x73861029 : kernel32\\_BasepSetFileEncryptionCompression 0xA3FE987 : advapi32\\_RegDeleteKeyW 0x1CA6703 : advapi32\\_RegCreateKeyA 0x24EBD39 : kernel32\\_lstrlenA 0x69F38C6 : kernel32\\_RegSetValueExA & \\{'T1106'\\} \\\\\n",
      "31 & ntdll\\_RtlGetVersion 0xBD5D03A : kernel32\\_GetNativeSystemInfo 0x10BEDD60 : wininet\\_CreateMD5SSOHash To resolve the API hash, the malware  & \\{'T1106'\\} \\\\\n",
      "33 & it, and decrypts the corresponding library name value as shown in the bottom & \\{'T1140'\\} \\\\\n",
      "35 & snippet in Figure 11 demonstrates how mw\\_GetExportAddressByHash resolves the given API hash and retrieves the address of an & \\{'T1106'\\} \\\\\n",
      "37 & address of an exported function. The techniques used to decrypt strings and resolve API hashes in both the & \\{'T1140'\\} \\\\\n",
      "39 & Constructing a unique system identi & \\{'T1059.003'\\} \\\\\n",
      "41 & then deletes the HKCU\\textbackslash SOFTWARE\\textbackslash Intel registry key and recreates it with two values, HWID & \\{'T1112'\\} \\\\\n",
      "43 & settings. Learn more Business   To download the next stage payload, the malware & \\{'T1105'\\} \\\\\n",
      "45 & Figure 18. The code responsible for decrypting the next stage payload  & \\{'T1140'\\} \\\\\n",
      "47 & payload  & \\{'T1140'\\} \\\\\n",
      "49 & Learn more Business   Compressapi with the compression algorithm (\"COMPRESS\\_RAW   COMPRESS\\_ALGORITHM\\_LZMS\"). The & \\{'T1106'\\} \\\\\n",
      "51 & deobfuscates, and decompresses  & \\{'T1140'\\} \\\\\n",
      "53 & 21. Payload deobfuscation and decompression Before executing the payload, the malware attempts to & \\{'T1140'\\} \\\\\n",
      "55 & presence on the system and retrieves the MachineGuid of the infected system from & \\{'T1105'\\} \\\\\n",
      "57 & it is running as an account with administrator privileges or simply as a & \\{'T1078'\\} \\\\\n",
      "59 & simply as a regular user using the GetTokenInformation API. If the malware fails & \\{'T1106'\\} \\\\\n",
      "61 & and proceed to download and execute the next stage of its attack.   & \\{'T1105'\\} \\\\\n",
      "63 & written in C\\#. It is responsible for downloading, decompressing, and executing the  & \\{'T1140'\\} \\\\\n",
      "64 & responsible for downloading, decompressing, and executing the  & \\{'T1105'\\} \\\\\n",
      "66 & stop alive runassembly Upon launch, the malware sends a \"Bot started\" message to & \\{'T1071.001'\\} \\\\\n",
      "68 & malware downloads the next part of the  & \\{'T1105'\\} \\\\\n",
      "69 & of the  & \\{'T1106'\\} \\\\\n",
      "71 & some strings, such as web browser paths and Geolocation API services URLs, are & \\{'T1106'\\} \\\\\n",
      "\\bottomrule\n",
      "\\end{tabular}\n",
      "\n"
     ]
    },
    {
     "name": "stderr",
     "output_type": "stream",
     "text": [
      "/var/folders/c4/syfmh0gs1jbb5q_69pf2hs4c0000gn/T/ipykernel_96492/1133093702.py:9: FutureWarning: DataFrame.applymap has been deprecated. Use DataFrame.map instead.\n",
      "  df = df.applymap(lambda x: x.encode('ascii', 'replace').decode('ascii').replace('?', ' ') if isinstance(x, str) else x)\n"
     ]
    }
   ],
   "execution_count": 12
  },
  {
   "metadata": {},
   "cell_type": "code",
   "source": "",
   "id": "d8b1ba5efb79f285",
   "outputs": [],
   "execution_count": null
  }
 ],
 "metadata": {
  "kernelspec": {
   "display_name": "Python 3",
   "language": "python",
   "name": "python3"
  },
  "language_info": {
   "codemirror_mode": {
    "name": "ipython",
    "version": 2
   },
   "file_extension": ".py",
   "mimetype": "text/x-python",
   "name": "python",
   "nbconvert_exporter": "python",
   "pygments_lexer": "ipython2",
   "version": "2.7.6"
  }
 },
 "nbformat": 4,
 "nbformat_minor": 5
}
