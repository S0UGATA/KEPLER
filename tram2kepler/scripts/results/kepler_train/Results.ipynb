{
 "cells": [
  {
   "metadata": {},
   "cell_type": "code",
   "source": [
    "import os\n",
    "\n",
    "print(os.environ['CONDA_DEFAULT_ENV'])"
   ],
   "id": "4262ab2a7e6f2bf4",
   "outputs": [],
   "execution_count": null
  },
  {
   "metadata": {},
   "cell_type": "markdown",
   "source": "Read log file",
   "id": "f3f307f996ae326b"
  },
  {
   "metadata": {},
   "cell_type": "code",
   "source": [
    "import csv\n",
    "\n",
    "count = 11\n",
    "train = []\n",
    "valid = []\n",
    "with open(\n",
    "        '/Users/sougata/NMBU/Semester4/MyKEPLER/tram2kepler/scripts/results/kepler_train/out_single_filtered.log') as csvfile:\n",
    "    reader = csv.reader(csvfile, delimiter='|')\n",
    "    for line, row in enumerate(reader):\n",
    "        if line % 2 != 0:\n",
    "            # validation\n",
    "            valid.append(row)\n",
    "        else:\n",
    "            # training\n",
    "            train.append(row)"
   ],
   "id": "c3d06070794d0f64",
   "outputs": [],
   "execution_count": null
  },
  {
   "metadata": {},
   "cell_type": "code",
   "source": "# train",
   "id": "cedc5f10d900cdbe",
   "outputs": [],
   "execution_count": null
  },
  {
   "metadata": {},
   "cell_type": "code",
   "source": "# valid",
   "id": "d93325b7cd431ee0",
   "outputs": [],
   "execution_count": null
  },
  {
   "metadata": {},
   "cell_type": "code",
   "source": [
    "import pandas as pd\n",
    "\n",
    "\n",
    "def to_df(_list):\n",
    "    dict_list = []\n",
    "    for sublist in _list:\n",
    "        temp_dict = {}\n",
    "        try:\n",
    "            for item in sublist:\n",
    "                if item:  # Ignore empty strings\n",
    "                    key, value = item.split(' ', 1)\n",
    "                    temp_dict[key] = value\n",
    "            dict_list.append(temp_dict)\n",
    "        except:\n",
    "            print(item)\n",
    "    return pd.DataFrame(dict_list)\n"
   ],
   "id": "1569e4cf8ac5a657",
   "outputs": [],
   "execution_count": null
  },
  {
   "metadata": {},
   "cell_type": "code",
   "source": [
    "# Convert the list of dictionaries into a DataFrame\n",
    "train_df = to_df(train).head(count)\n",
    "# train_df"
   ],
   "id": "baf3bf77267ba9cf",
   "outputs": [],
   "execution_count": null
  },
  {
   "metadata": {},
   "cell_type": "markdown",
   "source": [
    "ppl: Stands for Perplexity. It's a measurement of how well a probability model predicts a sample and is commonly used in language modeling. A lower perplexity means the probability distribution is better at predicting the sample.  \n",
    "wps: Stands for Words Per Second. It's a measure of the speed of the training process, indicating how many words are processed per second.  \n",
    "ups: Stands for Updates Per Second. It's another measure of the speed of the training process, indicating how many updates (steps of the optimization algorithm) are performed per second.  \n",
    "wpb: Stands for Words Per Batch. It's a measure of the batch size in terms of the total number of words. In NLP tasks, batches often contain sequences of different lengths, so it's more informative to know the total number of words rather than the number of sequences.  \n",
    "bsz: Stands for Batch Size. It's the number of training examples utilized in one iteration. The batch size can significantly impact the model's performance and the speed of training.\n",
    "lr: Stands for Learning Rate. It's a hyper-parameter that determines the step size at each iteration while moving toward a minimum of a loss function.  \n",
    "gnorm: Stands for Gradient Norm. It's a measure of the magnitude of the model's gradients. Large gradients can cause the model to overshoot the minimum during training.  \n",
    "clip: This is likely referring to Gradient Clipping. It's a technique to prevent exploding gradients in neural networks by setting a threshold value. If the gradient norm is above this threshold, it's rescaled to have the norm equal to the threshold.  \n",
    "oom: Stands for Out Of Memory. It's a counter for the number of times the model ran out of memory during training.  \n",
    "loss_scale: This is used in mixed precision training. It's a factor to scale the loss before computing gradients to avoid underflows caused by reduced precision.  \n",
    "wall: Stands for Wall Clock Time. It's a measure of the real time that elapses from start to end, including time that passes due to programmed (artificial) delays or waiting for resources to become available.  \n",
    "train_wall: This is likely the Wall Clock Time specifically for the training process. It measures the real elapsed time during the training of the model."
   ],
   "id": "76e682afc4a70902"
  },
  {
   "metadata": {},
   "cell_type": "code",
   "source": [
    "valid_df = to_df(valid).head(count)\n",
    "# valid_df"
   ],
   "id": "f0f4cc2f5947accd",
   "outputs": [],
   "execution_count": null
  },
  {
   "metadata": {},
   "cell_type": "code",
   "source": [
    "import numpy as np\n",
    "from matplotlib.ticker import ScalarFormatter\n",
    "import matplotlib\n",
    "from datetime import datetime\n",
    "import matplotlib.pyplot as plt"
   ],
   "id": "3b29ebac50ca299b",
   "outputs": [],
   "execution_count": null
  },
  {
   "metadata": {},
   "cell_type": "code",
   "source": [
    "def make_loss_plots(df, _type='', _ha='right', _va='bottom'):\n",
    "    # Convert the columns to numeric type\n",
    "    for col in df.columns:\n",
    "        df[col] = pd.to_numeric(df[col], errors='coerce')\n",
    "\n",
    "    matplotlib.rc('font', **{'size': 14})\n",
    "    plt.clf()\n",
    "    # Plot the 'loss' column\n",
    "    plt.figure(figsize=(10, 6))\n",
    "    plt.plot(df['epoch'], df['loss'], label='Total Loss', linewidth=4.0)\n",
    "    plt.plot(df['epoch'], df['ke_loss'], label='KE Loss')\n",
    "    plt.plot(df['epoch'], df['mlm_loss'], label='MLM Loss')\n",
    "\n",
    "    # Find the minimum loss and its corresponding epoch\n",
    "    min_loss = df['loss'].min()\n",
    "    min_loss_epoch = df['epoch'][df['loss'].idxmin()]\n",
    "\n",
    "    # Add a vertical line at the epoch of minimum loss\n",
    "    plt.axvline(x=min_loss_epoch, color='gray', linestyle='--')\n",
    "\n",
    "    # Add a horizontal line at the minimum loss\n",
    "    plt.axhline(y=min_loss, color='gray', linestyle='--')\n",
    "\n",
    "    # Print the values at the lines inside the plot\n",
    "    plt.text(min_loss_epoch, min_loss, f'({min_loss_epoch}, {min_loss})', ha=_ha, va=_va, rotation=-45,\n",
    "             bbox=dict(alpha=0.5))\n",
    "\n",
    "    plt.xlabel('Epoch')\n",
    "    plt.ylabel('Loss')\n",
    "    plt.legend()\n",
    "    title = f'{_type} Loss over epochs'\n",
    "    plt.title(title)\n",
    "\n",
    "    ax = plt.gca()\n",
    "    # Hide the top and right spines\n",
    "    ax.spines['right'].set_visible(False)\n",
    "    ax.spines['top'].set_visible(False)\n",
    "    # Only show ticks on the left and bottom spines\n",
    "    ax.yaxis.tick_left()\n",
    "    ax.xaxis.tick_bottom()\n",
    "\n",
    "    plt.savefig(f'{title}-{datetime.now().time()}.pdf', format='pdf')\n",
    "\n",
    "    plt.show()\n",
    "\n",
    "\n",
    "make_loss_plots(train_df, _type='Training', _ha='right', _va='bottom')\n",
    "make_loss_plots(valid_df, _type='Validation', _ha='left', _va='top')"
   ],
   "id": "1747eeb4af53aa49",
   "outputs": [],
   "execution_count": null
  },
  {
   "metadata": {},
   "cell_type": "markdown",
   "source": "Plot perplexity",
   "id": "60408c1699c032d"
  },
  {
   "metadata": {},
   "cell_type": "code",
   "source": [
    "# Plot the 'loss' column\n",
    "matplotlib.rc('font', **{'size': 14})\n",
    "plt.clf()\n",
    "plt.figure(figsize=(10, 6))\n",
    "plt.plot(train_df['epoch'], train_df['ppl'], label='Training PPL')\n",
    "plt.plot(valid_df['epoch'], valid_df['ppl'], label='Validation PPL')\n",
    "\n",
    "# Find the minimum loss and its corresponding epoch\n",
    "min_ppl = valid_df['ppl'].min()\n",
    "min_ppl_epoch = valid_df['epoch'][valid_df['ppl'].idxmin()]\n",
    "\n",
    "# Add a vertical line at the epoch of minimum loss\n",
    "plt.axvline(x=min_ppl_epoch, color='gray', linestyle='--')\n",
    "\n",
    "# Add a horizontal line at the minimum loss\n",
    "plt.axhline(y=min_ppl, color='gray', linestyle='--')\n",
    "\n",
    "# Print the values at the lines inside the plot\n",
    "plt.text(min_ppl_epoch + 1, min_ppl, f'({min_ppl_epoch}, {min_ppl})', ha='left', va='bottom', bbox=dict(alpha=0.5), rotation=45)\n",
    "\n",
    "plt.xlabel('Epoch')\n",
    "plt.ylabel('PPL')\n",
    "plt.legend()\n",
    "title = 'Perplexity over epochs'\n",
    "plt.title(title)\n",
    "\n",
    "try:\n",
    "    # Find the intersection point of the 'Training Loss' and 'Validation Loss'\n",
    "    diff = train_df['ppl'] - valid_df['ppl']\n",
    "    intersection_index = np.where(np.diff(np.sign(diff)))[0][0] + 1\n",
    "    intersection_epoch = valid_df['epoch'][intersection_index]\n",
    "    intersection_loss = valid_df['ppl'][intersection_index]\n",
    " \n",
    "    # Add a vertical line at the epoch of intersection\n",
    "    plt.axvline(x=intersection_epoch, color='gray', linestyle='--')\n",
    " \n",
    "    # Add a horizontal line at the intersection loss\n",
    "    plt.axhline(y=intersection_loss, color='gray', linestyle='--')\n",
    " \n",
    "    # Print the values at the lines inside the plot\n",
    "    plt.text(intersection_epoch, intersection_loss, f'({intersection_epoch}, {intersection_loss})', ha='left', va='bottom', bbox=dict(alpha=0.5), rotation=45)\n",
    "except Exception:\n",
    "    pass\n",
    "\n",
    "ax = plt.gca()\n",
    "# Hide the top and right spines\n",
    "ax.spines['right'].set_visible(False)\n",
    "ax.spines['top'].set_visible(False)\n",
    "# Only show ticks on the left and bottom spines\n",
    "ax.yaxis.tick_left()\n",
    "ax.xaxis.tick_bottom()\n",
    "ax.set_facecolor('none')\n",
    "ax.spines['left'].set_color('black')\n",
    "ax.spines['bottom'].set_color('black')\n",
    "plt.savefig(f'{title}-{datetime.now().time()}.pdf', format='pdf')\n",
    "\n",
    "plt.show()"
   ],
   "id": "9a56be8610fc54c",
   "outputs": [],
   "execution_count": null
  },
  {
   "metadata": {
    "ExecuteTime": {
     "end_time": "2024-05-10T21:22:15.625366Z",
     "start_time": "2024-05-10T21:22:15.619525Z"
    }
   },
   "cell_type": "code",
   "source": [
    "def make_vs_loss_plots(df1, df2, _type='', _ha='right', _va='bottom'):\n",
    "    # Convert the columns to numeric type\n",
    "    for col in df1.columns:\n",
    "        df1[col] = pd.to_numeric(df1[col], errors='coerce')\n",
    "    for col in df2.columns:\n",
    "        df2[col] = pd.to_numeric(df2[col], errors='coerce')\n",
    "    plt.clf()\n",
    "    matplotlib.rc('font', **{'size': 14})\n",
    "\n",
    "    # Plot the 'loss' column\n",
    "    plt.figure(figsize=(10, 6))\n",
    "    plt.plot(df1['epoch'], df1['loss'], label='Training Loss')\n",
    "    plt.plot(df2['epoch'], df2['loss'], label='Validation Loss')\n",
    "\n",
    "\n",
    "        # Find the intersection point of the 'Training Loss' and 'Validation Loss'\n",
    "    diff = df1['loss'] - df2['loss']\n",
    "    where = 0\n",
    "    try:\n",
    "        where = np.where(np.diff(np.sign(diff)))\n",
    "    except Exception as e:\n",
    "        print(e)\n",
    "    \n",
    "    if len(where) == 0 or len(where[0]) == 0:\n",
    "        intersection_index = 1\n",
    "    else:\n",
    "        intersection_index = where[0][0] + 1\n",
    "    intersection_epoch = df2['epoch'][intersection_index]\n",
    "    intersection_loss = df2['loss'][intersection_index]\n",
    "    \n",
    "    # Add a vertical line at the epoch of intersection\n",
    "    plt.axvline(x=intersection_epoch, color='gray', linestyle='--')\n",
    "    \n",
    "    # Add a horizontal line at the intersection loss\n",
    "    plt.axhline(y=intersection_loss, color='gray', linestyle='--')\n",
    "    \n",
    "    # Print the values at the lines inside the plot\n",
    "    plt.text(intersection_epoch, intersection_loss, f'({intersection_epoch}, {intersection_loss})', ha=_ha, va=_va, bbox=dict(alpha=0.5), rotation=45)\n",
    "\n",
    " \n",
    "    plt.xlabel('Epoch')\n",
    "    plt.ylabel('Loss')\n",
    "    plt.legend()\n",
    "    title = f'{_type} Loss over epochs'\n",
    "    plt.title(title)         \n",
    "    # plt.xscale('log')\n",
    "    \n",
    "    ax= plt.gca()\n",
    "    # Hide the top and right spines\n",
    "    ax.spines['right'].set_visible(False)\n",
    "    ax.spines['top'].set_visible(False)\n",
    "    # Only show ticks on the left and bottom spines\n",
    "    ax.yaxis.tick_left()\n",
    "    ax.xaxis.tick_bottom()\n",
    "    ax.set_facecolor('none')\n",
    "    ax.spines['left'].set_color('black')\n",
    "    ax.spines['bottom'].set_color('black')\n",
    "    # plt.gca().xaxis.set_major_formatter(ScalarFormatter())\n",
    "    # plt.gca().ticklabel_format(useOffset=False)\n",
    "    # plt.gca().set_xticks(np.geomspace(10, count, 5).round())      \n",
    "    plt.savefig(f'{title}-{datetime.now().time()}.pdf', format='pdf')        \n",
    "    plt.show()"
   ],
   "id": "191fdafb39ff269d",
   "outputs": [],
   "execution_count": 22
  },
  {
   "metadata": {
    "ExecuteTime": {
     "end_time": "2024-05-10T21:22:19.255044Z",
     "start_time": "2024-05-10T21:22:19.144928Z"
    }
   },
   "cell_type": "code",
   "source": "make_vs_loss_plots(train_df, valid_df, _type='Training VS Validation', _ha='left', _va='bottom')",
   "id": "886d047500b9d9db",
   "outputs": [
    {
     "data": {
      "text/plain": [
       "<Figure size 640x480 with 0 Axes>"
      ]
     },
     "metadata": {},
     "output_type": "display_data"
    },
    {
     "data": {
      "text/plain": [
       "<Figure size 1000x600 with 1 Axes>"
      ],
      "image/png": "[encoded data removed]"
     },
     "metadata": {},
     "output_type": "display_data"
    }
   ],
   "execution_count": 23
  },
  {
   "metadata": {},
   "cell_type": "code",
   "source": "",
   "id": "bc122b97358bd69f",
   "outputs": [],
   "execution_count": null
  }
 ],
 "metadata": {
  "kernelspec": {
   "display_name": "Python 3",
   "language": "python",
   "name": "python3"
  },
  "language_info": {
   "codemirror_mode": {
    "name": "ipython",
    "version": 2
   },
   "file_extension": ".py",
   "mimetype": "text/x-python",
   "name": "python",
   "nbconvert_exporter": "python",
   "pygments_lexer": "ipython2",
   "version": "2.7.6"
  }
 },
 "nbformat": 4,
 "nbformat_minor": 5
}
